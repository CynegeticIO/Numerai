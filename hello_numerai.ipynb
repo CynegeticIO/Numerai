{
 "cells": [
  {
   "attachments": {},
   "cell_type": "markdown",
   "metadata": {},
   "source": [
    "# Hello, Numerai"
   ]
  },
  {
   "cell_type": "markdown",
   "metadata": {},
   "source": [
    "Hello and welcome to the Numerai Data Science Tournament!\n",
    "\n",
    "This notebook is designed to help you build your first machine learning model and start competing the tournament. \n",
    "\n",
    "In this notebook we will\n",
    "1. Download and explore the Numerai dataset\n",
    "2. Train our first machine learning model\n",
    "3. Upload our model to start making live submissions"
   ]
  },
  {
   "cell_type": "code",
   "execution_count": 1,
   "metadata": {},
   "outputs": [],
   "source": [
    "# Install dependencies\n",
    "!pip install -q numerapi pandas matplotlib lightgbm==3.3.5 cloudpickle pyarrow\n",
    "\n",
    "# Inline plots\n",
    "%matplotlib inline"
   ]
  },
  {
   "attachments": {},
   "cell_type": "markdown",
   "metadata": {},
   "source": [
    "## 1. Dataset  \n",
    "\n",
    "At a high level, the Numerai dataset is a tabular dataset that describes the stock market over time. \n",
    "\n",
    "Each row represents a stock at a specific point in time, where `id` is the stock id and the `era` is the date. The `features` describe the attributes of the stock (eg. P/E ratio) known on the date and the `target` is a measure of future returns relative to the date.\n",
    "\n",
    "The unique thing about Numerai's dataset is that it is obfuscated, which means that the underlying stock ids, feature names, and target definitions are anonymized. This makes it so that we can give this data out for free and so that it can be modeled without any financial domain knowledge (or bias).\n",
    "\n",
    "Let's download the historical training data and take a closer look."
   ]
  },
  {
   "cell_type": "code",
   "execution_count": 2,
   "metadata": {},
   "outputs": [
    {
     "data": {
      "text/plain": [
       "['v4.1/features.json',\n",
       " 'v4.1/live.parquet',\n",
       " 'v4.1/live_example_preds.csv',\n",
       " 'v4.1/live_example_preds.parquet',\n",
       " 'v4.1/live_int8.parquet',\n",
       " 'v4.1/meta_model.parquet',\n",
       " 'v4.1/train.parquet',\n",
       " 'v4.1/train_int8.parquet',\n",
       " 'v4.1/validation.parquet',\n",
       " 'v4.1/validation_example_preds.csv',\n",
       " 'v4.1/validation_example_preds.parquet',\n",
       " 'v4.1/validation_int8.parquet']"
      ]
     },
     "execution_count": 2,
     "metadata": {},
     "output_type": "execute_result"
    }
   ],
   "source": [
    "# Initialize NumerAPI - the official Python API client for Numerai\n",
    "from numerapi import NumerAPI\n",
    "napi = NumerAPI()\n",
    "\n",
    "# Print all files available for download in the latest v4.1 dataset\n",
    "[f for f in napi.list_datasets() if f.startswith(\"v4.1\")]"
   ]
  },
  {
   "cell_type": "code",
   "execution_count": 3,
   "metadata": {},
   "outputs": [
    {
     "name": "stderr",
     "output_type": "stream",
     "text": [
      "2023-07-27 15:52:50,528 INFO numerapi.utils: target file already exists\n",
      "2023-07-27 15:52:50,528 INFO numerapi.utils: download complete\n",
      "2023-07-27 15:52:51,215 INFO numerapi.utils: target file already exists\n",
      "2023-07-27 15:52:51,216 INFO numerapi.utils: download complete\n"
     ]
    },
    {
     "data": {
      "text/html": [
       "<div>\n",
       "<style scoped>\n",
       "    .dataframe tbody tr th:only-of-type {\n",
       "        vertical-align: middle;\n",
       "    }\n",
       "\n",
       "    .dataframe tbody tr th {\n",
       "        vertical-align: top;\n",
       "    }\n",
       "\n",
       "    .dataframe thead th {\n",
       "        text-align: right;\n",
       "    }\n",
       "</style>\n",
       "<table border=\"1\" class=\"dataframe\">\n",
       "  <thead>\n",
       "    <tr style=\"text-align: right;\">\n",
       "      <th></th>\n",
       "      <th>era</th>\n",
       "      <th>feature_bijou_penetrant_syringa</th>\n",
       "      <th>...</th>\n",
       "      <th>feature_unventilated_sollar_bason</th>\n",
       "      <th>target</th>\n",
       "    </tr>\n",
       "    <tr>\n",
       "      <th>id</th>\n",
       "      <th></th>\n",
       "      <th></th>\n",
       "      <th></th>\n",
       "      <th></th>\n",
       "      <th></th>\n",
       "    </tr>\n",
       "  </thead>\n",
       "  <tbody>\n",
       "    <tr>\n",
       "      <th>n003bba8a98662e4</th>\n",
       "      <td>0001</td>\n",
       "      <td>0.00</td>\n",
       "      <td>...</td>\n",
       "      <td>0.00</td>\n",
       "      <td>0.25</td>\n",
       "    </tr>\n",
       "    <tr>\n",
       "      <th>n003bee128c2fcfc</th>\n",
       "      <td>0001</td>\n",
       "      <td>0.50</td>\n",
       "      <td>...</td>\n",
       "      <td>0.25</td>\n",
       "      <td>0.75</td>\n",
       "    </tr>\n",
       "    <tr>\n",
       "      <th>n0048ac83aff7194</th>\n",
       "      <td>0001</td>\n",
       "      <td>0.25</td>\n",
       "      <td>...</td>\n",
       "      <td>1.00</td>\n",
       "      <td>0.25</td>\n",
       "    </tr>\n",
       "    <tr>\n",
       "      <th>n00691bec80d3e02</th>\n",
       "      <td>0001</td>\n",
       "      <td>0.75</td>\n",
       "      <td>...</td>\n",
       "      <td>0.75</td>\n",
       "      <td>0.75</td>\n",
       "    </tr>\n",
       "    <tr>\n",
       "      <th>n00b8720a2fdc4f2</th>\n",
       "      <td>0001</td>\n",
       "      <td>0.00</td>\n",
       "      <td>...</td>\n",
       "      <td>0.00</td>\n",
       "      <td>0.50</td>\n",
       "    </tr>\n",
       "    <tr>\n",
       "      <th>...</th>\n",
       "      <td>...</td>\n",
       "      <td>...</td>\n",
       "      <td>...</td>\n",
       "      <td>...</td>\n",
       "      <td>...</td>\n",
       "    </tr>\n",
       "    <tr>\n",
       "      <th>nffcc1dbdf2212e6</th>\n",
       "      <td>0574</td>\n",
       "      <td>1.00</td>\n",
       "      <td>...</td>\n",
       "      <td>1.00</td>\n",
       "      <td>0.75</td>\n",
       "    </tr>\n",
       "    <tr>\n",
       "      <th>nffd71b7f6a128df</th>\n",
       "      <td>0574</td>\n",
       "      <td>0.75</td>\n",
       "      <td>...</td>\n",
       "      <td>0.50</td>\n",
       "      <td>0.25</td>\n",
       "    </tr>\n",
       "    <tr>\n",
       "      <th>nffde3b371d67394</th>\n",
       "      <td>0574</td>\n",
       "      <td>0.75</td>\n",
       "      <td>...</td>\n",
       "      <td>1.00</td>\n",
       "      <td>0.25</td>\n",
       "    </tr>\n",
       "    <tr>\n",
       "      <th>nfff1a1111b35e84</th>\n",
       "      <td>0574</td>\n",
       "      <td>0.25</td>\n",
       "      <td>...</td>\n",
       "      <td>0.00</td>\n",
       "      <td>0.50</td>\n",
       "    </tr>\n",
       "    <tr>\n",
       "      <th>nfff2bd38e397265</th>\n",
       "      <td>0574</td>\n",
       "      <td>1.00</td>\n",
       "      <td>...</td>\n",
       "      <td>1.00</td>\n",
       "      <td>0.75</td>\n",
       "    </tr>\n",
       "  </tbody>\n",
       "</table>\n",
       "<p>2420521 rows × 34 columns</p>\n",
       "</div>"
      ],
      "text/plain": [
       "                   era  feature_bijou_penetrant_syringa  ...  \\\n",
       "id                                                       ...   \n",
       "n003bba8a98662e4  0001                             0.00  ...   \n",
       "n003bee128c2fcfc  0001                             0.50  ...   \n",
       "n0048ac83aff7194  0001                             0.25  ...   \n",
       "n00691bec80d3e02  0001                             0.75  ...   \n",
       "n00b8720a2fdc4f2  0001                             0.00  ...   \n",
       "...                ...                              ...  ...   \n",
       "nffcc1dbdf2212e6  0574                             1.00  ...   \n",
       "nffd71b7f6a128df  0574                             0.75  ...   \n",
       "nffde3b371d67394  0574                             0.75  ...   \n",
       "nfff1a1111b35e84  0574                             0.25  ...   \n",
       "nfff2bd38e397265  0574                             1.00  ...   \n",
       "\n",
       "                  feature_unventilated_sollar_bason  target  \n",
       "id                                                           \n",
       "n003bba8a98662e4                               0.00    0.25  \n",
       "n003bee128c2fcfc                               0.25    0.75  \n",
       "n0048ac83aff7194                               1.00    0.25  \n",
       "n00691bec80d3e02                               0.75    0.75  \n",
       "n00b8720a2fdc4f2                               0.00    0.50  \n",
       "...                                             ...     ...  \n",
       "nffcc1dbdf2212e6                               1.00    0.75  \n",
       "nffd71b7f6a128df                               0.50    0.25  \n",
       "nffde3b371d67394                               1.00    0.25  \n",
       "nfff1a1111b35e84                               0.00    0.50  \n",
       "nfff2bd38e397265                               1.00    0.75  \n",
       "\n",
       "[2420521 rows x 34 columns]"
      ]
     },
     "execution_count": 3,
     "metadata": {},
     "output_type": "execute_result"
    }
   ],
   "source": [
    "import pandas as pd\n",
    "import json\n",
    "\n",
    "# Download the training data and feature metadata\n",
    "# This may take a few minutes 🍵\n",
    "napi.download_dataset(\"v4.1/train.parquet\");\n",
    "napi.download_dataset(\"v4.1/features.json\");\n",
    "\n",
    "# Load the training data but only the \"small\" subset of features to save time and memory\n",
    "# In practice you will want to use all the features to maximize your model's performance\n",
    "feature_metadata = json.load(open(\"v4.1/features.json\")) \n",
    "feature_cols = feature_metadata[\"feature_sets\"][\"small\"]\n",
    "training_data = pd.read_parquet(\"v4.1/train.parquet\", columns= [\"era\"] + feature_cols + [\"target\"]) \n",
    "\n",
    "# Print the training data\n",
    "pd.set_option('display.max_rows', 10)\n",
    "pd.set_option('display.max_columns', 5)\n",
    "training_data"
   ]
  },
  {
   "attachments": {},
   "cell_type": "markdown",
   "metadata": {},
   "source": [
    "As mentioned above, each `era` corresponds to a different date. The number of rows per `era` represents the number of stocks in Numerai's investable universe at that point in time.\n",
    "\n",
    "Instead of thinking about each row as an example, it is helpful to think about each group of rows within the same `era` as an example. You will notice that throughout this notebook and other examples, we often talk about things \"per era\"."
   ]
  },
  {
   "cell_type": "code",
   "execution_count": 4,
   "metadata": {},
   "outputs": [
    {
     "data": {
      "image/png": "[encoded data removed]",
      "text/plain": [
       "<Figure size 500x300 with 1 Axes>"
      ]
     },
     "metadata": {},
     "output_type": "display_data"
    }
   ],
   "source": [
    "# Plot the number of rows per era\n",
    "training_data.groupby(\"era\").size().plot(title=\"Number of Rows per Era\", figsize=(5, 3), xlabel=\"Era\");"
   ]
  },
  {
   "attachments": {},
   "cell_type": "markdown",
   "metadata": {},
   "source": [
    "As mentioned above, the `features` are quantitative attributes of each stock, ranging from fundamentals like P/E ratio, to technical signals like RSI, to market data like short interest, to secondary data like analyst ratings, and much more. \n",
    "\n",
    "The underlying definition of each `feature` is not important, just know that Numerai has included these features in the dataset because we know believe they are predictive of the `target`.  \n",
    "\n",
    "The `feature` values are regularized into 5 equal bins between 0 and 1 per era. This heavy regularization is to avoid overfitting as the underlying financial data is extremely noisy."
   ]
  },
  {
   "cell_type": "code",
   "execution_count": 5,
   "metadata": {},
   "outputs": [
    {
     "data": {
      "image/png": "[encoded data removed]",
      "text/plain": [
       "<Figure size 500x300 with 1 Axes>"
      ]
     },
     "metadata": {},
     "output_type": "display_data"
    }
   ],
   "source": [
    "# Plot density histogram of the first feature \n",
    "training_data[feature_cols[0]].plot(kind=\"hist\", title=feature_cols[0], figsize=(5, 3), xlabel=\"Value\", density=True, bins=50);"
   ]
  },
  {
   "attachments": {},
   "cell_type": "markdown",
   "metadata": {},
   "source": [
    "As mentioned above, the `target` is a measure of stock market returns. And your task is to predict the `target` value. In other words, your task is to predict stock market returns.\n",
    "\n",
    "The actual definition of the `target` is a bit more complex than just raw stock market returns. Given our hedge fund is market/country/sector and factor neutral, you can basically interpret the target as \"stock-specific\" returns that are not \"explained\" by broader trends in the market/country/sector or well known \"factors\". In other words: what we are after is \"alpha\".\n",
    "\n",
    "The `target` value has also been regularized but into 5 unequal bins. The distribution of target values roughly map to the distribution of stock-specific returns across the stock market. "
   ]
  },
  {
   "cell_type": "code",
   "execution_count": 6,
   "metadata": {},
   "outputs": [
    {
     "data": {
      "image/png": "[encoded data removed]",
      "text/plain": [
       "<Figure size 500x300 with 1 Axes>"
      ]
     },
     "metadata": {},
     "output_type": "display_data"
    }
   ],
   "source": [
    "# Plot density histogram of the target\n",
    "training_data[\"target\"].plot(kind=\"hist\", title=\"Target\", figsize=(5, 3), xlabel=\"Value\", density=True, bins=50);"
   ]
  },
  {
   "attachments": {},
   "cell_type": "markdown",
   "metadata": {},
   "source": [
    "## 2. Modeling\n",
    "Now that we have explored the basics of the dataset, let's train our first model and evaluatae its performance.\n",
    "\n",
    "Here we will be using LGBMRegressor, which is a popular choice amongst tournament participants, but you are free to use any tool or framework of your choice.\n",
    "\n",
    "While you are waiting for the model to train, you can learn more about why tree based models work so well on tabular datasets from our Chief Scientist MDO: https://www.youtube.com/watch?v=w8Y7hY05z7k"
   ]
  },
  {
   "cell_type": "code",
   "execution_count": 7,
   "metadata": {},
   "outputs": [],
   "source": [
    "# https://lightgbm.readthedocs.io/en/latest/pythonapi/lightgbm.LGBMRegressor.html \n",
    "import lightgbm as lgb\n",
    "\n",
    "try: \n",
    "  # Load trained model if it exists\n",
    "  model = lgb.Booster(model_file='small_lgb.model');\n",
    "except lgb.basic.LightGBMError:\n",
    "  # Otherwise train and save the model\n",
    "  # This may take a few minutes 🍵\n",
    "  model = lgb.LGBMRegressor(\n",
    "    n_estimators=2000,\n",
    "    learning_rate=0.01,\n",
    "    max_depth=5,\n",
    "    num_leaves=2 ** 5,\n",
    "    colsample_bytree=0.1\n",
    "  )\n",
    "  model.fit(\n",
    "    training_data[feature_cols],\n",
    "    training_data[\"target\"]\n",
    "  );\n",
    "  # Save model to disk\n",
    "  model.booster_.save_model(\"small_lgb.model\");"
   ]
  },
  {
   "attachments": {},
   "cell_type": "markdown",
   "metadata": {},
   "source": [
    "Now let's make some out-of-sample predictions on the validation dataset to evaluate our model's performance."
   ]
  },
  {
   "cell_type": "code",
   "execution_count": 8,
   "metadata": {},
   "outputs": [
    {
     "name": "stderr",
     "output_type": "stream",
     "text": [
      "2023-07-27 15:52:56,153 INFO numerapi.utils: target file already exists\n",
      "2023-07-27 15:52:56,154 INFO numerapi.utils: download complete\n"
     ]
    }
   ],
   "source": [
    "# Download validation data \n",
    "# This may take a few minutes 🍵\n",
    "napi.download_dataset(\"v4.1/validation.parquet\");\n",
    "\n",
    "# Load the validation data but only the \"small\" subset of features\n",
    "validation_data = pd.read_parquet(\"v4.1/validation.parquet\", columns=[\"era\", \"data_type\"] + feature_cols + [\"target\"]) \n",
    "\n",
    "# Filter for data_type == \"validation\"\n",
    "validation_data = validation_data[validation_data[\"data_type\"] == \"validation\"]\n",
    "del validation_data[\"data_type\"]\n",
    "\n",
    "# Generate predictions against the out of sample validation features\n",
    "# This may take a few minutes 🍵\n",
    "validation_data[\"prediction\"] = model.predict(validation_data[feature_cols])\n",
    "validation_data[[\"era\", \"prediction\", \"target\"]]"
   ]
  },
  {
   "cell_type": "markdown",
   "metadata": {},
   "source": [
    "The primary scoring metric in Numerai is called `numerai_corr` or just `corr`, which is a Numerai specific variant of the Pearson Correlation Coefficient. This scoring metric is designed to \"align incentives\" between model scoring and hedge fund performance. In other words, a model with a good `CORR` should help the hedge fund make good returns.\n",
    "\n",
    "On the Numerai website you will see it referred to as `CORR20V2`, where the `20` denotes that we are using the \"20 day\" version of the target and \"v2\" denotes that we are using the 2nd version of the scoring function. But don't worry too much about all of this for now, we will learn more about targets in a future tutorial."
   ]
  },
  {
   "cell_type": "code",
   "execution_count": null,
   "metadata": {},
   "outputs": [],
   "source": [
    "from scipy import stats\n",
    "import numpy as np\n",
    "\n",
    "# Numerai's primary scoring metric\n",
    "def numerai_corr(preds, target):\n",
    "    # rank (keeping ties) then gaussianize predictions to standardize prediction distributions\n",
    "    ranked_preds = (preds.rank(method=\"average\").values - 0.5) / preds.count()\n",
    "    gauss_ranked_preds = stats.norm.ppf(ranked_preds)\n",
    "    # center targets around 0\n",
    "    centered_target = target - target.mean()\n",
    "    # raise both preds and target to the power of 1.5 to accentuate the tails\n",
    "    preds_p15 = np.sign(gauss_ranked_preds) * np.abs(gauss_ranked_preds) ** 1.5\n",
    "    target_p15 = np.sign(centered_target) * np.abs(centered_target) ** 1.5\n",
    "    # finally return the Pearson correlation\n",
    "    return np.corrcoef(preds_p15, target_p15)[0, 1]"
   ]
  },
  {
   "cell_type": "markdown",
   "metadata": {},
   "source": [
    "As mentioned above, it is important for us to score each historical `era` independantly. So when evaluating the performance of our model, we should be looking at the \"per era\" `corr`.\n",
    "\n",
    "One thing you may notice here is how low the scores are (in the range of +/- 5% correlation). This is very normal in the domain of quantitative finance and is part of the reason why we say Numerai is the \"hardest data science tournament\" in the world."
   ]
  },
  {
   "cell_type": "code",
   "execution_count": null,
   "metadata": {},
   "outputs": [
    {
     "data": {
      "image/png": "[encoded data removed]",
      "text/plain": [
       "<Figure size 1000x600 with 1 Axes>"
      ]
     },
     "metadata": {},
     "output_type": "display_data"
    }
   ],
   "source": [
    "# Compute the per-era correlation between our predictions and the target values\n",
    "per_era_corr = validation_data.groupby(\"era\").apply(lambda x: numerai_corr(x[\"prediction\"], x[\"target\"]))\n",
    "\n",
    "# Plot the per-era correlation\n",
    "per_era_corr.plot(kind=\"bar\", title=\"Validation Correlation\", figsize=(10, 6), xticks=[]);"
   ]
  },
  {
   "cell_type": "markdown",
   "metadata": {},
   "source": [
    "Instead of looking at the the raw `corr` scores for each era, it is helpful to look at the cumulative `corr`. \n",
    "\n",
    "If you are familiar with \"backtesting\" in quant finance where people simulate the historical performance of their investment strategies, you can roughly think of this plot as a backtest of your model performance over the historical validation period."
   ]
  },
  {
   "cell_type": "code",
   "execution_count": null,
   "metadata": {},
   "outputs": [
    {
     "data": {
      "image/png": "[encoded data removed]",
      "text/plain": [
       "<Figure size 1000x600 with 1 Axes>"
      ]
     },
     "metadata": {},
     "output_type": "display_data"
    }
   ],
   "source": [
    "# Plot the cumulative per-era correlation\n",
    "per_era_corr.cumsum().plot(kind=\"line\", title=\"Cumulative Validation Correlation\", figsize=(10, 6));"
   ]
  },
  {
   "cell_type": "markdown",
   "metadata": {},
   "source": [
    "To evaluate the performance of our model, it is also helpful to compute some summary metrics over the entire validation period.\n",
    "\n",
    "`Mean` of correlations is the primary measure of your model's performance. An mean correlation above 0.02 is considered good.\n",
    "\n",
    "`Sharpe` is a measure of your model's consistency, a concept borrowed from finance where it usually refers to risk adjusted returns of an investment strategy. In Numerai, we compute sharpe as the average correlation divided by the standard deviation of correlations. A Sharpe above 1 is considered good. \n",
    "\n",
    "`Max drawdown` is a measure of your model's risk, another concept borrowed from finance where it usually refers to the maximum financial loss suffered by an investment strategy. In Numerai, we compute max drawdown as the maximum peak to trough drop in cumulative validation correlation. A max drawdown below 0.1 in magnitude is considered good."
   ]
  },
  {
   "cell_type": "code",
   "execution_count": null,
   "metadata": {},
   "outputs": [
    {
     "data": {
      "text/html": [
       "<div>\n",
       "<style scoped>\n",
       "    .dataframe tbody tr th:only-of-type {\n",
       "        vertical-align: middle;\n",
       "    }\n",
       "\n",
       "    .dataframe tbody tr th {\n",
       "        vertical-align: top;\n",
       "    }\n",
       "\n",
       "    .dataframe thead th {\n",
       "        text-align: right;\n",
       "    }\n",
       "</style>\n",
       "<table border=\"1\" class=\"dataframe\">\n",
       "  <thead>\n",
       "    <tr style=\"text-align: right;\">\n",
       "      <th></th>\n",
       "      <th>Value</th>\n",
       "    </tr>\n",
       "  </thead>\n",
       "  <tbody>\n",
       "    <tr>\n",
       "      <th>Mean</th>\n",
       "      <td>0.015869</td>\n",
       "    </tr>\n",
       "    <tr>\n",
       "      <th>Standard Deviation</th>\n",
       "      <td>0.021336</td>\n",
       "    </tr>\n",
       "    <tr>\n",
       "      <th>Sharpe Ratio</th>\n",
       "      <td>0.743799</td>\n",
       "    </tr>\n",
       "    <tr>\n",
       "      <th>Max Drawdown</th>\n",
       "      <td>-0.342537</td>\n",
       "    </tr>\n",
       "  </tbody>\n",
       "</table>\n",
       "</div>"
      ],
      "text/plain": [
       "                       Value\n",
       "Mean                0.015869\n",
       "Standard Deviation  0.021336\n",
       "Sharpe Ratio        0.743799\n",
       "Max Drawdown       -0.342537"
      ]
     },
     "execution_count": 41,
     "metadata": {},
     "output_type": "execute_result"
    }
   ],
   "source": [
    "# Compute performance metrics\n",
    "corr_mean = per_era_corr.mean()\n",
    "corr_std = per_era_corr.std(ddof=0)\n",
    "corr_sharpe = corr_mean / corr_std\n",
    "max_drawdown = -(per_era_corr.cumsum().expanding(min_periods=1).max() - per_era_corr.cumsum()).max()\n",
    "\n",
    "pd.DataFrame({\n",
    "    \"Mean\": corr_mean,\n",
    "    \"Standard Deviation\": corr_std,\n",
    "    \"Sharpe Ratio\": corr_sharpe,\n",
    "    \"Max Drawdown\": max_drawdown\n",
    "}, index=[\"Value\"]).T"
   ]
  },
  {
   "attachments": {},
   "cell_type": "markdown",
   "metadata": {},
   "source": [
    "These performance metrics above is not great but it is good enough for us to get started. Don't worry, we will be learning how to improve our model performance in the next tutorials."
   ]
  },
  {
   "attachments": {},
   "cell_type": "markdown",
   "metadata": {},
   "source": [
    "## 3. Submissions \n",
    "Unlike Kaggle competitions that evalute model performance based on a hold-out test set, Numerai evaluates performance based on the <ins>live dataset</ins> which represents the live stock market.\n",
    "\n",
    "Every Tuesday-Saturday, a new `live era` of features is released which represents the current state of the stock market. Your task is to use these `live features` to make `live predictions` on the unknown target value, which represents stock market returns 20 days into the future. \n",
    "\n",
    "The `live performance` of your models are what you can stake the NMR cryptocurrency on to earn rewards. More on staking later, for now let us focus on how to make a submission."
   ]
  },
  {
   "cell_type": "code",
   "execution_count": null,
   "metadata": {},
   "outputs": [
    {
     "name": "stderr",
     "output_type": "stream",
     "text": [
      "2023-07-27 15:48:47,850 INFO numerapi.utils: target file already exists\n",
      "2023-07-27 15:48:47,851 INFO numerapi.utils: download complete\n"
     ]
    },
    {
     "data": {
      "text/html": [
       "<div>\n",
       "<style scoped>\n",
       "    .dataframe tbody tr th:only-of-type {\n",
       "        vertical-align: middle;\n",
       "    }\n",
       "\n",
       "    .dataframe tbody tr th {\n",
       "        vertical-align: top;\n",
       "    }\n",
       "\n",
       "    .dataframe thead th {\n",
       "        text-align: right;\n",
       "    }\n",
       "</style>\n",
       "<table border=\"1\" class=\"dataframe\">\n",
       "  <thead>\n",
       "    <tr style=\"text-align: right;\">\n",
       "      <th></th>\n",
       "      <th>prediction</th>\n",
       "    </tr>\n",
       "    <tr>\n",
       "      <th>id</th>\n",
       "      <th></th>\n",
       "    </tr>\n",
       "  </thead>\n",
       "  <tbody>\n",
       "    <tr>\n",
       "      <th>n001c8fa54b1d611</th>\n",
       "      <td>0.497211</td>\n",
       "    </tr>\n",
       "    <tr>\n",
       "      <th>n001f0b161cc90fc</th>\n",
       "      <td>0.491729</td>\n",
       "    </tr>\n",
       "    <tr>\n",
       "      <th>n00275a82a0739bd</th>\n",
       "      <td>0.504658</td>\n",
       "    </tr>\n",
       "    <tr>\n",
       "      <th>n00314637402fd75</th>\n",
       "      <td>0.497841</td>\n",
       "    </tr>\n",
       "    <tr>\n",
       "      <th>n003afe9ec01bdd4</th>\n",
       "      <td>0.506086</td>\n",
       "    </tr>\n",
       "    <tr>\n",
       "      <th>...</th>\n",
       "      <td>...</td>\n",
       "    </tr>\n",
       "    <tr>\n",
       "      <th>nffa71f514e451d4</th>\n",
       "      <td>0.519704</td>\n",
       "    </tr>\n",
       "    <tr>\n",
       "      <th>nffd0955c3c413a9</th>\n",
       "      <td>0.502382</td>\n",
       "    </tr>\n",
       "    <tr>\n",
       "      <th>nffd760be1277881</th>\n",
       "      <td>0.511483</td>\n",
       "    </tr>\n",
       "    <tr>\n",
       "      <th>nffded59e8b3ae3c</th>\n",
       "      <td>0.498412</td>\n",
       "    </tr>\n",
       "    <tr>\n",
       "      <th>nffe0e7bb1e045c2</th>\n",
       "      <td>0.497791</td>\n",
       "    </tr>\n",
       "  </tbody>\n",
       "</table>\n",
       "<p>4935 rows × 1 columns</p>\n",
       "</div>"
      ],
      "text/plain": [
       "                  prediction\n",
       "id                          \n",
       "n001c8fa54b1d611    0.497211\n",
       "n001f0b161cc90fc    0.491729\n",
       "n00275a82a0739bd    0.504658\n",
       "n00314637402fd75    0.497841\n",
       "n003afe9ec01bdd4    0.506086\n",
       "...                      ...\n",
       "nffa71f514e451d4    0.519704\n",
       "nffd0955c3c413a9    0.502382\n",
       "nffd760be1277881    0.511483\n",
       "nffded59e8b3ae3c    0.498412\n",
       "nffe0e7bb1e045c2    0.497791\n",
       "\n",
       "[4935 rows x 1 columns]"
      ]
     },
     "execution_count": 42,
     "metadata": {},
     "output_type": "execute_result"
    }
   ],
   "source": [
    "# Check the current round number. New rounds start every Tuesday-Saturday.\n",
    "current_round_number = napi.get_current_round()\n",
    "\n",
    "# Download latest live features for the current round number \n",
    "napi.download_dataset(\"v4.1/live.parquet\", f\"v4.1/live_{current_round_number}.parquet\")\n",
    "\n",
    "# Load live features\n",
    "live_features = pd.read_parquet(f\"v4.1/live_{current_round_number}.parquet\", columns=feature_cols)\n",
    "\n",
    "# Generate live predictions with our trained model\n",
    "live_predictions = model.predict(live_features[feature_cols])\n",
    "\n",
    "# Format submission\n",
    "submission = pd.Series(live_predictions, index=live_features.index).to_frame(\"prediction\")\n",
    "submission"
   ]
  },
  {
   "attachments": {},
   "cell_type": "markdown",
   "metadata": {},
   "source": [
    "To participate in the tournament, we must submit live predictions every Tuesday-Saturday. \n",
    "\n",
    "A free and simple way to automate this daily submission process is to upload your model to Numerai and let Numerai take care of running it daily to generate live predictions.\n",
    "\n",
    "How it works:\n",
    "- Define your prediction pipeline as a function\n",
    "- Serialize your function and your trained model using the `cloudpickle` library\n",
    "- Numerai runs your model to generate and submit live predictions every day\n",
    "\n",
    "Read more about Model Uploads and other self-hosted automation options in our [docs](https://docs.numer.ai/numerai-tournament/submissions#automation).\n"
   ]
  },
  {
   "cell_type": "code",
   "execution_count": null,
   "metadata": {},
   "outputs": [],
   "source": [
    "# Define your prediction pipeline as a function that takes an era of features as input and outputs your predictions for that era\n",
    "def predict(live_features: pd.DataFrame) -> pd.DataFrame:\n",
    "    live_predictions = model.predict(live_features[feature_cols])\n",
    "    submission = pd.Series(live_predictions, index=live_features.index)\n",
    "    return submission.to_frame(\"prediction\")"
   ]
  },
  {
   "cell_type": "code",
   "execution_count": null,
   "metadata": {},
   "outputs": [
    {
     "data": {
      "text/html": [
       "<div>\n",
       "<style scoped>\n",
       "    .dataframe tbody tr th:only-of-type {\n",
       "        vertical-align: middle;\n",
       "    }\n",
       "\n",
       "    .dataframe tbody tr th {\n",
       "        vertical-align: top;\n",
       "    }\n",
       "\n",
       "    .dataframe thead th {\n",
       "        text-align: right;\n",
       "    }\n",
       "</style>\n",
       "<table border=\"1\" class=\"dataframe\">\n",
       "  <thead>\n",
       "    <tr style=\"text-align: right;\">\n",
       "      <th></th>\n",
       "      <th>prediction</th>\n",
       "    </tr>\n",
       "    <tr>\n",
       "      <th>id</th>\n",
       "      <th></th>\n",
       "    </tr>\n",
       "  </thead>\n",
       "  <tbody>\n",
       "    <tr>\n",
       "      <th>n001c8fa54b1d611</th>\n",
       "      <td>0.497211</td>\n",
       "    </tr>\n",
       "    <tr>\n",
       "      <th>n001f0b161cc90fc</th>\n",
       "      <td>0.491729</td>\n",
       "    </tr>\n",
       "    <tr>\n",
       "      <th>n00275a82a0739bd</th>\n",
       "      <td>0.504658</td>\n",
       "    </tr>\n",
       "    <tr>\n",
       "      <th>n00314637402fd75</th>\n",
       "      <td>0.497841</td>\n",
       "    </tr>\n",
       "    <tr>\n",
       "      <th>n003afe9ec01bdd4</th>\n",
       "      <td>0.506086</td>\n",
       "    </tr>\n",
       "    <tr>\n",
       "      <th>...</th>\n",
       "      <td>...</td>\n",
       "    </tr>\n",
       "    <tr>\n",
       "      <th>nffa71f514e451d4</th>\n",
       "      <td>0.519704</td>\n",
       "    </tr>\n",
       "    <tr>\n",
       "      <th>nffd0955c3c413a9</th>\n",
       "      <td>0.502382</td>\n",
       "    </tr>\n",
       "    <tr>\n",
       "      <th>nffd760be1277881</th>\n",
       "      <td>0.511483</td>\n",
       "    </tr>\n",
       "    <tr>\n",
       "      <th>nffded59e8b3ae3c</th>\n",
       "      <td>0.498412</td>\n",
       "    </tr>\n",
       "    <tr>\n",
       "      <th>nffe0e7bb1e045c2</th>\n",
       "      <td>0.497791</td>\n",
       "    </tr>\n",
       "  </tbody>\n",
       "</table>\n",
       "<p>4935 rows × 1 columns</p>\n",
       "</div>"
      ],
      "text/plain": [
       "                  prediction\n",
       "id                          \n",
       "n001c8fa54b1d611    0.497211\n",
       "n001f0b161cc90fc    0.491729\n",
       "n00275a82a0739bd    0.504658\n",
       "n00314637402fd75    0.497841\n",
       "n003afe9ec01bdd4    0.506086\n",
       "...                      ...\n",
       "nffa71f514e451d4    0.519704\n",
       "nffd0955c3c413a9    0.502382\n",
       "nffd760be1277881    0.511483\n",
       "nffded59e8b3ae3c    0.498412\n",
       "nffe0e7bb1e045c2    0.497791\n",
       "\n",
       "[4935 rows x 1 columns]"
      ]
     },
     "execution_count": 44,
     "metadata": {},
     "output_type": "execute_result"
    }
   ],
   "source": [
    "# Quick test\n",
    "predict(live_features)"
   ]
  },
  {
   "cell_type": "code",
   "execution_count": null,
   "metadata": {},
   "outputs": [],
   "source": [
    "# Use the cloudpickle library to serialize your function\n",
    "import cloudpickle\n",
    "p = cloudpickle.dumps(predict)\n",
    "with open(\"predict.pkl\", \"wb\") as f:\n",
    "    f.write(p)"
   ]
  },
  {
   "cell_type": "code",
   "execution_count": null,
   "metadata": {},
   "outputs": [],
   "source": [
    "# Download file if running in Google Colab\n",
    "try:\n",
    "    from google.colab import files\n",
    "    files.download('predict.pkl')\n",
    "except:\n",
    "    pass"
   ]
  },
  {
   "attachments": {},
   "cell_type": "markdown",
   "metadata": {},
   "source": [
    "That's it! You now have a pickle file that is ready for upload.\n",
    "\n",
    "Head back to the [Hello Numerai Tutorial](https://numer.ai/tutorial/hello-numerai) to upload your model! "
   ]
  }
 ],
 "metadata": {
  "kernelspec": {
   "display_name": "Python 3 (ipykernel)",
   "language": "python",
   "name": "python3"
  },
  "language_info": {
   "codemirror_mode": {
    "name": "ipython",
    "version": 3
   },
   "file_extension": ".py",
   "mimetype": "text/x-python",
   "name": "python",
   "nbconvert_exporter": "python",
   "pygments_lexer": "ipython3",
   "version": "3.11.2"
  }
 },
 "nbformat": 4,
 "nbformat_minor": 2
}
