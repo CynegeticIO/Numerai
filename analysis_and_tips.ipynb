{
 "cells": [
  {
   "attachments": {},
   "cell_type": "markdown",
   "metadata": {},
   "source": [
    "# Analysis and Tips"
   ]
  },
  {
   "cell_type": "code",
   "execution_count": 1,
   "metadata": {},
   "outputs": [
    {
     "name": "stdout",
     "output_type": "stream",
     "text": [
      "\r"
     ]
    }
   ],
   "source": [
    "import matplotlib\n",
    "import numpy as np\n",
    "import pandas as pd\n",
    "from numerapi import NumerAPI\n",
    "import random\n",
    "import sklearn\n",
    "import lightgbm\n",
    "import matplotlib.pyplot as plt\n",
    "from utils import save_model, load_model, neutralize, get_biggest_change_features, validation_metrics\n",
    "%matplotlib inline\n",
    "\n",
    "from sklearn import (\n",
    "    feature_extraction, feature_selection, decomposition, linear_model,\n",
    "    model_selection, metrics, svm\n",
    ")\n",
    "\n",
    "#pandas.options.display.max_rows=1000\n",
    "#pandas.options.display.max_columns=300"
   ]
  },
  {
   "cell_type": "code",
   "execution_count": 2,
   "metadata": {},
   "outputs": [
    {
     "name": "stderr",
     "output_type": "stream",
     "text": [
      "2022-04-05 21:04:00,215 INFO numerapi.utils: target file already exists\n",
      "2022-04-05 21:04:00,216 INFO numerapi.utils: download complete\n"
     ]
    },
    {
     "data": {
      "text/html": [
       "<div>\n",
       "<style scoped>\n",
       "    .dataframe tbody tr th:only-of-type {\n",
       "        vertical-align: middle;\n",
       "    }\n",
       "\n",
       "    .dataframe tbody tr th {\n",
       "        vertical-align: top;\n",
       "    }\n",
       "\n",
       "    .dataframe thead th {\n",
       "        text-align: right;\n",
       "    }\n",
       "</style>\n",
       "<table border=\"1\" class=\"dataframe\">\n",
       "  <thead>\n",
       "    <tr style=\"text-align: right;\">\n",
       "      <th></th>\n",
       "      <th>era</th>\n",
       "      <th>data_type</th>\n",
       "      <th>feature_honoured_observational_balaamite</th>\n",
       "      <th>feature_polaroid_vadose_quinze</th>\n",
       "      <th>feature_untidy_withdrawn_bargeman</th>\n",
       "      <th>feature_genuine_kyphotic_trehala</th>\n",
       "      <th>feature_unenthralled_sportful_schoolhouse</th>\n",
       "      <th>feature_divulsive_explanatory_ideologue</th>\n",
       "      <th>feature_ichthyotic_roofed_yeshiva</th>\n",
       "      <th>feature_waggly_outlandish_carbonisation</th>\n",
       "      <th>...</th>\n",
       "      <th>target_paul_v4_20</th>\n",
       "      <th>target_paul_v4_60</th>\n",
       "      <th>target_george_v4_20</th>\n",
       "      <th>target_george_v4_60</th>\n",
       "      <th>target_william_v4_20</th>\n",
       "      <th>target_william_v4_60</th>\n",
       "      <th>target_arthur_v4_20</th>\n",
       "      <th>target_arthur_v4_60</th>\n",
       "      <th>target_thomas_v4_20</th>\n",
       "      <th>target_thomas_v4_60</th>\n",
       "    </tr>\n",
       "    <tr>\n",
       "      <th>id</th>\n",
       "      <th></th>\n",
       "      <th></th>\n",
       "      <th></th>\n",
       "      <th></th>\n",
       "      <th></th>\n",
       "      <th></th>\n",
       "      <th></th>\n",
       "      <th></th>\n",
       "      <th></th>\n",
       "      <th></th>\n",
       "      <th></th>\n",
       "      <th></th>\n",
       "      <th></th>\n",
       "      <th></th>\n",
       "      <th></th>\n",
       "      <th></th>\n",
       "      <th></th>\n",
       "      <th></th>\n",
       "      <th></th>\n",
       "      <th></th>\n",
       "      <th></th>\n",
       "    </tr>\n",
       "  </thead>\n",
       "  <tbody>\n",
       "    <tr>\n",
       "      <th>n003bba8a98662e4</th>\n",
       "      <td>0001</td>\n",
       "      <td>train</td>\n",
       "      <td>1.0</td>\n",
       "      <td>0.50</td>\n",
       "      <td>1.00</td>\n",
       "      <td>1.00</td>\n",
       "      <td>0.00</td>\n",
       "      <td>0.00</td>\n",
       "      <td>1.00</td>\n",
       "      <td>1.00</td>\n",
       "      <td>...</td>\n",
       "      <td>0.50</td>\n",
       "      <td>0.25</td>\n",
       "      <td>0.25</td>\n",
       "      <td>0.00</td>\n",
       "      <td>0.333333</td>\n",
       "      <td>0.166667</td>\n",
       "      <td>0.500000</td>\n",
       "      <td>0.500000</td>\n",
       "      <td>0.333333</td>\n",
       "      <td>0.166667</td>\n",
       "    </tr>\n",
       "    <tr>\n",
       "      <th>n003bee128c2fcfc</th>\n",
       "      <td>0001</td>\n",
       "      <td>train</td>\n",
       "      <td>0.5</td>\n",
       "      <td>1.00</td>\n",
       "      <td>0.25</td>\n",
       "      <td>0.75</td>\n",
       "      <td>0.00</td>\n",
       "      <td>0.75</td>\n",
       "      <td>0.50</td>\n",
       "      <td>0.75</td>\n",
       "      <td>...</td>\n",
       "      <td>0.75</td>\n",
       "      <td>1.00</td>\n",
       "      <td>1.00</td>\n",
       "      <td>1.00</td>\n",
       "      <td>0.666667</td>\n",
       "      <td>0.666667</td>\n",
       "      <td>0.666667</td>\n",
       "      <td>0.666667</td>\n",
       "      <td>0.666667</td>\n",
       "      <td>0.666667</td>\n",
       "    </tr>\n",
       "    <tr>\n",
       "      <th>n0048ac83aff7194</th>\n",
       "      <td>0001</td>\n",
       "      <td>train</td>\n",
       "      <td>0.5</td>\n",
       "      <td>0.25</td>\n",
       "      <td>0.75</td>\n",
       "      <td>0.00</td>\n",
       "      <td>0.75</td>\n",
       "      <td>0.00</td>\n",
       "      <td>0.75</td>\n",
       "      <td>0.75</td>\n",
       "      <td>...</td>\n",
       "      <td>0.50</td>\n",
       "      <td>0.25</td>\n",
       "      <td>0.25</td>\n",
       "      <td>0.25</td>\n",
       "      <td>0.500000</td>\n",
       "      <td>0.333333</td>\n",
       "      <td>0.333333</td>\n",
       "      <td>0.500000</td>\n",
       "      <td>0.500000</td>\n",
       "      <td>0.333333</td>\n",
       "    </tr>\n",
       "    <tr>\n",
       "      <th>n00691bec80d3e02</th>\n",
       "      <td>0001</td>\n",
       "      <td>train</td>\n",
       "      <td>1.0</td>\n",
       "      <td>0.50</td>\n",
       "      <td>0.50</td>\n",
       "      <td>0.75</td>\n",
       "      <td>0.00</td>\n",
       "      <td>1.00</td>\n",
       "      <td>0.25</td>\n",
       "      <td>1.00</td>\n",
       "      <td>...</td>\n",
       "      <td>0.50</td>\n",
       "      <td>0.50</td>\n",
       "      <td>0.50</td>\n",
       "      <td>0.50</td>\n",
       "      <td>0.666667</td>\n",
       "      <td>0.500000</td>\n",
       "      <td>0.500000</td>\n",
       "      <td>0.500000</td>\n",
       "      <td>0.666667</td>\n",
       "      <td>0.500000</td>\n",
       "    </tr>\n",
       "    <tr>\n",
       "      <th>n00b8720a2fdc4f2</th>\n",
       "      <td>0001</td>\n",
       "      <td>train</td>\n",
       "      <td>1.0</td>\n",
       "      <td>0.75</td>\n",
       "      <td>1.00</td>\n",
       "      <td>1.00</td>\n",
       "      <td>0.00</td>\n",
       "      <td>0.00</td>\n",
       "      <td>1.00</td>\n",
       "      <td>0.50</td>\n",
       "      <td>...</td>\n",
       "      <td>0.50</td>\n",
       "      <td>0.50</td>\n",
       "      <td>0.50</td>\n",
       "      <td>0.50</td>\n",
       "      <td>0.666667</td>\n",
       "      <td>0.500000</td>\n",
       "      <td>0.666667</td>\n",
       "      <td>0.500000</td>\n",
       "      <td>0.666667</td>\n",
       "      <td>0.500000</td>\n",
       "    </tr>\n",
       "  </tbody>\n",
       "</table>\n",
       "<p>5 rows × 1214 columns</p>\n",
       "</div>"
      ],
      "text/plain": [
       "                   era data_type  feature_honoured_observational_balaamite  \\\n",
       "id                                                                           \n",
       "n003bba8a98662e4  0001     train                                       1.0   \n",
       "n003bee128c2fcfc  0001     train                                       0.5   \n",
       "n0048ac83aff7194  0001     train                                       0.5   \n",
       "n00691bec80d3e02  0001     train                                       1.0   \n",
       "n00b8720a2fdc4f2  0001     train                                       1.0   \n",
       "\n",
       "                  feature_polaroid_vadose_quinze  \\\n",
       "id                                                 \n",
       "n003bba8a98662e4                            0.50   \n",
       "n003bee128c2fcfc                            1.00   \n",
       "n0048ac83aff7194                            0.25   \n",
       "n00691bec80d3e02                            0.50   \n",
       "n00b8720a2fdc4f2                            0.75   \n",
       "\n",
       "                  feature_untidy_withdrawn_bargeman  \\\n",
       "id                                                    \n",
       "n003bba8a98662e4                               1.00   \n",
       "n003bee128c2fcfc                               0.25   \n",
       "n0048ac83aff7194                               0.75   \n",
       "n00691bec80d3e02                               0.50   \n",
       "n00b8720a2fdc4f2                               1.00   \n",
       "\n",
       "                  feature_genuine_kyphotic_trehala  \\\n",
       "id                                                   \n",
       "n003bba8a98662e4                              1.00   \n",
       "n003bee128c2fcfc                              0.75   \n",
       "n0048ac83aff7194                              0.00   \n",
       "n00691bec80d3e02                              0.75   \n",
       "n00b8720a2fdc4f2                              1.00   \n",
       "\n",
       "                  feature_unenthralled_sportful_schoolhouse  \\\n",
       "id                                                            \n",
       "n003bba8a98662e4                                       0.00   \n",
       "n003bee128c2fcfc                                       0.00   \n",
       "n0048ac83aff7194                                       0.75   \n",
       "n00691bec80d3e02                                       0.00   \n",
       "n00b8720a2fdc4f2                                       0.00   \n",
       "\n",
       "                  feature_divulsive_explanatory_ideologue  \\\n",
       "id                                                          \n",
       "n003bba8a98662e4                                     0.00   \n",
       "n003bee128c2fcfc                                     0.75   \n",
       "n0048ac83aff7194                                     0.00   \n",
       "n00691bec80d3e02                                     1.00   \n",
       "n00b8720a2fdc4f2                                     0.00   \n",
       "\n",
       "                  feature_ichthyotic_roofed_yeshiva  \\\n",
       "id                                                    \n",
       "n003bba8a98662e4                               1.00   \n",
       "n003bee128c2fcfc                               0.50   \n",
       "n0048ac83aff7194                               0.75   \n",
       "n00691bec80d3e02                               0.25   \n",
       "n00b8720a2fdc4f2                               1.00   \n",
       "\n",
       "                  feature_waggly_outlandish_carbonisation  ...  \\\n",
       "id                                                         ...   \n",
       "n003bba8a98662e4                                     1.00  ...   \n",
       "n003bee128c2fcfc                                     0.75  ...   \n",
       "n0048ac83aff7194                                     0.75  ...   \n",
       "n00691bec80d3e02                                     1.00  ...   \n",
       "n00b8720a2fdc4f2                                     0.50  ...   \n",
       "\n",
       "                  target_paul_v4_20  target_paul_v4_60  target_george_v4_20  \\\n",
       "id                                                                            \n",
       "n003bba8a98662e4               0.50               0.25                 0.25   \n",
       "n003bee128c2fcfc               0.75               1.00                 1.00   \n",
       "n0048ac83aff7194               0.50               0.25                 0.25   \n",
       "n00691bec80d3e02               0.50               0.50                 0.50   \n",
       "n00b8720a2fdc4f2               0.50               0.50                 0.50   \n",
       "\n",
       "                  target_george_v4_60  target_william_v4_20  \\\n",
       "id                                                            \n",
       "n003bba8a98662e4                 0.00              0.333333   \n",
       "n003bee128c2fcfc                 1.00              0.666667   \n",
       "n0048ac83aff7194                 0.25              0.500000   \n",
       "n00691bec80d3e02                 0.50              0.666667   \n",
       "n00b8720a2fdc4f2                 0.50              0.666667   \n",
       "\n",
       "                  target_william_v4_60  target_arthur_v4_20  \\\n",
       "id                                                            \n",
       "n003bba8a98662e4              0.166667             0.500000   \n",
       "n003bee128c2fcfc              0.666667             0.666667   \n",
       "n0048ac83aff7194              0.333333             0.333333   \n",
       "n00691bec80d3e02              0.500000             0.500000   \n",
       "n00b8720a2fdc4f2              0.500000             0.666667   \n",
       "\n",
       "                  target_arthur_v4_60  target_thomas_v4_20  \\\n",
       "id                                                           \n",
       "n003bba8a98662e4             0.500000             0.333333   \n",
       "n003bee128c2fcfc             0.666667             0.666667   \n",
       "n0048ac83aff7194             0.500000             0.500000   \n",
       "n00691bec80d3e02             0.500000             0.666667   \n",
       "n00b8720a2fdc4f2             0.500000             0.666667   \n",
       "\n",
       "                  target_thomas_v4_60  \n",
       "id                                     \n",
       "n003bba8a98662e4             0.166667  \n",
       "n003bee128c2fcfc             0.666667  \n",
       "n0048ac83aff7194             0.333333  \n",
       "n00691bec80d3e02             0.500000  \n",
       "n00b8720a2fdc4f2             0.500000  \n",
       "\n",
       "[5 rows x 1214 columns]"
      ]
     },
     "execution_count": 2,
     "metadata": {},
     "output_type": "execute_result"
    },
    {
     "name": "stdout",
     "output_type": "stream",
     "text": [
      "\r"
     ]
    }
   ],
   "source": [
    "napi = NumerAPI()\n",
    "\n",
    "current_round = napi.get_current_round()\n",
    "\n",
    "# read in all of the new datas\n",
    "# tournament data and example predictions change every week so we specify the round in their names\n",
    "# training and validation data only change periodically, so no need to download them over again every single week\n",
    "napi.download_dataset(\"v4/train.parquet\", \"train.parquet\")\n",
    "df = pd.read_parquet('train.parquet')\n",
    "\n",
    "df.head()"
   ]
  },
  {
   "cell_type": "code",
   "execution_count": 3,
   "metadata": {},
   "outputs": [
    {
     "data": {
      "text/plain": [
       "(2420521, 1214)"
      ]
     },
     "execution_count": 3,
     "metadata": {},
     "output_type": "execute_result"
    },
    {
     "name": "stdout",
     "output_type": "stream",
     "text": [
      "\r"
     ]
    }
   ],
   "source": [
    "# There are 2420521 rows grouped into 574 weekly eras\n",
    "df.shape"
   ]
  },
  {
   "cell_type": "code",
   "execution_count": 8,
   "metadata": {},
   "outputs": [
    {
     "name": "stdout",
     "output_type": "stream",
     "text": [
      "1191\n",
      "['feature_honoured_observational_balaamite', 'feature_polaroid_vadose_quinze', 'feature_untidy_withdrawn_bargeman', 'feature_genuine_kyphotic_trehala', 'feature_unenthralled_sportful_schoolhouse']\n",
      "\r"
     ]
    }
   ],
   "source": [
    "# There's 1191 features with fun names generated by a hashing function\n",
    "features = [c for c in df if c.startswith(\"feature\")]\n",
    "df[\"erano\"] = df.era.astype(int)\n",
    "eras = df.erano\n",
    "target = \"target\"\n",
    "print(len(features))\n",
    "print(features[:5])"
   ]
  },
  {
   "attachments": {},
   "cell_type": "markdown",
   "metadata": {},
   "source": [
    "# There are 20 targets!\n",
    "\n",
    "## There are 10 different types of targets constructed and 2 versions of each constructed with a 20 day window or a 60 day window\n",
    "## You are only scored on 'target' which currently corresponds to 'target_nomi_20' but could change in the future\n",
    "## The other  auxillary targets can be very useful for training good models. Indeed you may find that a model trained on some of the auxillary targets generalize out-of-sample to 'target' better than a model trained on 'target'"
   ]
  },
  {
   "cell_type": "code",
   "execution_count": 5,
   "metadata": {},
   "outputs": [
    {
     "data": {
      "text/plain": [
       "21"
      ]
     },
     "execution_count": 5,
     "metadata": {},
     "output_type": "execute_result"
    },
    {
     "name": "stdout",
     "output_type": "stream",
     "text": [
      "\r"
     ]
    }
   ],
   "source": [
    "target = \"target\"\n",
    "targets = [c for c in df if c.startswith(\"target\")]\n",
    "len(targets)"
   ]
  },
  {
   "cell_type": "code",
   "execution_count": 11,
   "metadata": {},
   "outputs": [
    {
     "data": {
      "text/html": [
       "<div>\n",
       "<style scoped>\n",
       "    .dataframe tbody tr th:only-of-type {\n",
       "        vertical-align: middle;\n",
       "    }\n",
       "\n",
       "    .dataframe tbody tr th {\n",
       "        vertical-align: top;\n",
       "    }\n",
       "\n",
       "    .dataframe thead th {\n",
       "        text-align: right;\n",
       "    }\n",
       "</style>\n",
       "<table border=\"1\" class=\"dataframe\">\n",
       "  <thead>\n",
       "    <tr style=\"text-align: right;\">\n",
       "      <th></th>\n",
       "      <th>target</th>\n",
       "      <th>target_nomi_v4_20</th>\n",
       "      <th>target_nomi_v4_60</th>\n",
       "      <th>target_jerome_v4_20</th>\n",
       "      <th>target_jerome_v4_60</th>\n",
       "      <th>target_janet_v4_20</th>\n",
       "      <th>target_janet_v4_60</th>\n",
       "      <th>target_ben_v4_20</th>\n",
       "      <th>target_ben_v4_60</th>\n",
       "      <th>target_alan_v4_20</th>\n",
       "      <th>...</th>\n",
       "      <th>target_paul_v4_20</th>\n",
       "      <th>target_paul_v4_60</th>\n",
       "      <th>target_george_v4_20</th>\n",
       "      <th>target_george_v4_60</th>\n",
       "      <th>target_william_v4_20</th>\n",
       "      <th>target_william_v4_60</th>\n",
       "      <th>target_arthur_v4_20</th>\n",
       "      <th>target_arthur_v4_60</th>\n",
       "      <th>target_thomas_v4_20</th>\n",
       "      <th>target_thomas_v4_60</th>\n",
       "    </tr>\n",
       "  </thead>\n",
       "  <tbody>\n",
       "    <tr>\n",
       "      <th>target</th>\n",
       "      <td>1.000000</td>\n",
       "      <td>1.000000</td>\n",
       "      <td>0.500773</td>\n",
       "      <td>0.798061</td>\n",
       "      <td>0.443519</td>\n",
       "      <td>0.690056</td>\n",
       "      <td>0.386239</td>\n",
       "      <td>0.819984</td>\n",
       "      <td>0.455371</td>\n",
       "      <td>0.679708</td>\n",
       "      <td>...</td>\n",
       "      <td>0.782010</td>\n",
       "      <td>0.429850</td>\n",
       "      <td>0.723801</td>\n",
       "      <td>0.401362</td>\n",
       "      <td>0.870858</td>\n",
       "      <td>0.483031</td>\n",
       "      <td>0.765310</td>\n",
       "      <td>0.426294</td>\n",
       "      <td>0.920556</td>\n",
       "      <td>0.498981</td>\n",
       "    </tr>\n",
       "    <tr>\n",
       "      <th>target_nomi_v4_20</th>\n",
       "      <td>1.000000</td>\n",
       "      <td>1.000000</td>\n",
       "      <td>0.500773</td>\n",
       "      <td>0.798061</td>\n",
       "      <td>0.443519</td>\n",
       "      <td>0.690056</td>\n",
       "      <td>0.386239</td>\n",
       "      <td>0.819984</td>\n",
       "      <td>0.455371</td>\n",
       "      <td>0.679708</td>\n",
       "      <td>...</td>\n",
       "      <td>0.782010</td>\n",
       "      <td>0.429850</td>\n",
       "      <td>0.723801</td>\n",
       "      <td>0.401362</td>\n",
       "      <td>0.870858</td>\n",
       "      <td>0.483031</td>\n",
       "      <td>0.765310</td>\n",
       "      <td>0.426294</td>\n",
       "      <td>0.920556</td>\n",
       "      <td>0.498981</td>\n",
       "    </tr>\n",
       "    <tr>\n",
       "      <th>target_nomi_v4_60</th>\n",
       "      <td>0.500773</td>\n",
       "      <td>0.500773</td>\n",
       "      <td>1.000000</td>\n",
       "      <td>0.445267</td>\n",
       "      <td>0.792348</td>\n",
       "      <td>0.389002</td>\n",
       "      <td>0.682460</td>\n",
       "      <td>0.455332</td>\n",
       "      <td>0.814605</td>\n",
       "      <td>0.383144</td>\n",
       "      <td>...</td>\n",
       "      <td>0.436680</td>\n",
       "      <td>0.767359</td>\n",
       "      <td>0.408407</td>\n",
       "      <td>0.707522</td>\n",
       "      <td>0.485959</td>\n",
       "      <td>0.868252</td>\n",
       "      <td>0.431037</td>\n",
       "      <td>0.759651</td>\n",
       "      <td>0.503030</td>\n",
       "      <td>0.920563</td>\n",
       "    </tr>\n",
       "    <tr>\n",
       "      <th>target_jerome_v4_20</th>\n",
       "      <td>0.798061</td>\n",
       "      <td>0.798061</td>\n",
       "      <td>0.445267</td>\n",
       "      <td>1.000000</td>\n",
       "      <td>0.492944</td>\n",
       "      <td>0.683921</td>\n",
       "      <td>0.400233</td>\n",
       "      <td>0.798668</td>\n",
       "      <td>0.439137</td>\n",
       "      <td>0.649539</td>\n",
       "      <td>...</td>\n",
       "      <td>0.910745</td>\n",
       "      <td>0.475421</td>\n",
       "      <td>0.757360</td>\n",
       "      <td>0.409677</td>\n",
       "      <td>0.870162</td>\n",
       "      <td>0.483651</td>\n",
       "      <td>0.741306</td>\n",
       "      <td>0.419568</td>\n",
       "      <td>0.791638</td>\n",
       "      <td>0.442065</td>\n",
       "    </tr>\n",
       "    <tr>\n",
       "      <th>target_jerome_v4_60</th>\n",
       "      <td>0.443519</td>\n",
       "      <td>0.443519</td>\n",
       "      <td>0.792348</td>\n",
       "      <td>0.492944</td>\n",
       "      <td>1.000000</td>\n",
       "      <td>0.401501</td>\n",
       "      <td>0.678924</td>\n",
       "      <td>0.437955</td>\n",
       "      <td>0.792413</td>\n",
       "      <td>0.363231</td>\n",
       "      <td>...</td>\n",
       "      <td>0.481372</td>\n",
       "      <td>0.888310</td>\n",
       "      <td>0.420891</td>\n",
       "      <td>0.736698</td>\n",
       "      <td>0.485411</td>\n",
       "      <td>0.864410</td>\n",
       "      <td>0.422447</td>\n",
       "      <td>0.735165</td>\n",
       "      <td>0.444123</td>\n",
       "      <td>0.783889</td>\n",
       "    </tr>\n",
       "    <tr>\n",
       "      <th>target_janet_v4_20</th>\n",
       "      <td>0.690056</td>\n",
       "      <td>0.690056</td>\n",
       "      <td>0.389002</td>\n",
       "      <td>0.683921</td>\n",
       "      <td>0.401501</td>\n",
       "      <td>1.000000</td>\n",
       "      <td>0.448913</td>\n",
       "      <td>0.671666</td>\n",
       "      <td>0.375128</td>\n",
       "      <td>0.764112</td>\n",
       "      <td>...</td>\n",
       "      <td>0.690488</td>\n",
       "      <td>0.389216</td>\n",
       "      <td>0.620629</td>\n",
       "      <td>0.341089</td>\n",
       "      <td>0.730067</td>\n",
       "      <td>0.411652</td>\n",
       "      <td>0.806612</td>\n",
       "      <td>0.433650</td>\n",
       "      <td>0.693096</td>\n",
       "      <td>0.389274</td>\n",
       "    </tr>\n",
       "    <tr>\n",
       "      <th>target_janet_v4_60</th>\n",
       "      <td>0.386239</td>\n",
       "      <td>0.386239</td>\n",
       "      <td>0.682460</td>\n",
       "      <td>0.400233</td>\n",
       "      <td>0.678924</td>\n",
       "      <td>0.448913</td>\n",
       "      <td>1.000000</td>\n",
       "      <td>0.372148</td>\n",
       "      <td>0.663199</td>\n",
       "      <td>0.409140</td>\n",
       "      <td>...</td>\n",
       "      <td>0.392584</td>\n",
       "      <td>0.682887</td>\n",
       "      <td>0.346254</td>\n",
       "      <td>0.602458</td>\n",
       "      <td>0.411373</td>\n",
       "      <td>0.725530</td>\n",
       "      <td>0.435592</td>\n",
       "      <td>0.801410</td>\n",
       "      <td>0.389649</td>\n",
       "      <td>0.684489</td>\n",
       "    </tr>\n",
       "    <tr>\n",
       "      <th>target_ben_v4_20</th>\n",
       "      <td>0.819984</td>\n",
       "      <td>0.819984</td>\n",
       "      <td>0.455332</td>\n",
       "      <td>0.798668</td>\n",
       "      <td>0.437955</td>\n",
       "      <td>0.671666</td>\n",
       "      <td>0.372148</td>\n",
       "      <td>1.000000</td>\n",
       "      <td>0.485997</td>\n",
       "      <td>0.656629</td>\n",
       "      <td>...</td>\n",
       "      <td>0.774470</td>\n",
       "      <td>0.421242</td>\n",
       "      <td>0.758041</td>\n",
       "      <td>0.417847</td>\n",
       "      <td>0.787179</td>\n",
       "      <td>0.440693</td>\n",
       "      <td>0.695605</td>\n",
       "      <td>0.388025</td>\n",
       "      <td>0.830498</td>\n",
       "      <td>0.453324</td>\n",
       "    </tr>\n",
       "    <tr>\n",
       "      <th>target_ben_v4_60</th>\n",
       "      <td>0.455371</td>\n",
       "      <td>0.455371</td>\n",
       "      <td>0.814605</td>\n",
       "      <td>0.439137</td>\n",
       "      <td>0.792413</td>\n",
       "      <td>0.375128</td>\n",
       "      <td>0.663199</td>\n",
       "      <td>0.485997</td>\n",
       "      <td>1.000000</td>\n",
       "      <td>0.373571</td>\n",
       "      <td>...</td>\n",
       "      <td>0.428769</td>\n",
       "      <td>0.759599</td>\n",
       "      <td>0.425654</td>\n",
       "      <td>0.746935</td>\n",
       "      <td>0.443047</td>\n",
       "      <td>0.778659</td>\n",
       "      <td>0.392377</td>\n",
       "      <td>0.685300</td>\n",
       "      <td>0.457032</td>\n",
       "      <td>0.821724</td>\n",
       "    </tr>\n",
       "    <tr>\n",
       "      <th>target_alan_v4_20</th>\n",
       "      <td>0.679708</td>\n",
       "      <td>0.679708</td>\n",
       "      <td>0.383144</td>\n",
       "      <td>0.649539</td>\n",
       "      <td>0.363231</td>\n",
       "      <td>0.764112</td>\n",
       "      <td>0.409140</td>\n",
       "      <td>0.656629</td>\n",
       "      <td>0.373571</td>\n",
       "      <td>1.000000</td>\n",
       "      <td>...</td>\n",
       "      <td>0.636716</td>\n",
       "      <td>0.352221</td>\n",
       "      <td>0.581884</td>\n",
       "      <td>0.329149</td>\n",
       "      <td>0.682348</td>\n",
       "      <td>0.380664</td>\n",
       "      <td>0.735155</td>\n",
       "      <td>0.403115</td>\n",
       "      <td>0.715509</td>\n",
       "      <td>0.386849</td>\n",
       "    </tr>\n",
       "    <tr>\n",
       "      <th>target_alan_v4_60</th>\n",
       "      <td>0.383552</td>\n",
       "      <td>0.383552</td>\n",
       "      <td>0.674669</td>\n",
       "      <td>0.365170</td>\n",
       "      <td>0.643125</td>\n",
       "      <td>0.410794</td>\n",
       "      <td>0.758133</td>\n",
       "      <td>0.374093</td>\n",
       "      <td>0.647820</td>\n",
       "      <td>0.418862</td>\n",
       "      <td>...</td>\n",
       "      <td>0.358383</td>\n",
       "      <td>0.624078</td>\n",
       "      <td>0.335640</td>\n",
       "      <td>0.569079</td>\n",
       "      <td>0.383054</td>\n",
       "      <td>0.676481</td>\n",
       "      <td>0.406490</td>\n",
       "      <td>0.726871</td>\n",
       "      <td>0.389971</td>\n",
       "      <td>0.709218</td>\n",
       "    </tr>\n",
       "    <tr>\n",
       "      <th>target_paul_v4_20</th>\n",
       "      <td>0.782010</td>\n",
       "      <td>0.782010</td>\n",
       "      <td>0.436680</td>\n",
       "      <td>0.910745</td>\n",
       "      <td>0.481372</td>\n",
       "      <td>0.690488</td>\n",
       "      <td>0.392584</td>\n",
       "      <td>0.774470</td>\n",
       "      <td>0.428769</td>\n",
       "      <td>0.636716</td>\n",
       "      <td>...</td>\n",
       "      <td>1.000000</td>\n",
       "      <td>0.499098</td>\n",
       "      <td>0.764901</td>\n",
       "      <td>0.427141</td>\n",
       "      <td>0.849811</td>\n",
       "      <td>0.473975</td>\n",
       "      <td>0.721710</td>\n",
       "      <td>0.405308</td>\n",
       "      <td>0.774743</td>\n",
       "      <td>0.433230</td>\n",
       "    </tr>\n",
       "    <tr>\n",
       "      <th>target_paul_v4_60</th>\n",
       "      <td>0.429850</td>\n",
       "      <td>0.429850</td>\n",
       "      <td>0.767359</td>\n",
       "      <td>0.475421</td>\n",
       "      <td>0.888310</td>\n",
       "      <td>0.389216</td>\n",
       "      <td>0.682887</td>\n",
       "      <td>0.421242</td>\n",
       "      <td>0.759599</td>\n",
       "      <td>0.352221</td>\n",
       "      <td>...</td>\n",
       "      <td>0.499098</td>\n",
       "      <td>1.000000</td>\n",
       "      <td>0.428179</td>\n",
       "      <td>0.758721</td>\n",
       "      <td>0.470078</td>\n",
       "      <td>0.833241</td>\n",
       "      <td>0.401605</td>\n",
       "      <td>0.706316</td>\n",
       "      <td>0.430414</td>\n",
       "      <td>0.757722</td>\n",
       "    </tr>\n",
       "    <tr>\n",
       "      <th>target_george_v4_20</th>\n",
       "      <td>0.723801</td>\n",
       "      <td>0.723801</td>\n",
       "      <td>0.408407</td>\n",
       "      <td>0.757360</td>\n",
       "      <td>0.420891</td>\n",
       "      <td>0.620629</td>\n",
       "      <td>0.346254</td>\n",
       "      <td>0.758041</td>\n",
       "      <td>0.425654</td>\n",
       "      <td>0.581884</td>\n",
       "      <td>...</td>\n",
       "      <td>0.764901</td>\n",
       "      <td>0.428179</td>\n",
       "      <td>1.000000</td>\n",
       "      <td>0.482488</td>\n",
       "      <td>0.738800</td>\n",
       "      <td>0.416952</td>\n",
       "      <td>0.641637</td>\n",
       "      <td>0.359278</td>\n",
       "      <td>0.711978</td>\n",
       "      <td>0.402623</td>\n",
       "    </tr>\n",
       "    <tr>\n",
       "      <th>target_george_v4_60</th>\n",
       "      <td>0.401362</td>\n",
       "      <td>0.401362</td>\n",
       "      <td>0.707522</td>\n",
       "      <td>0.409677</td>\n",
       "      <td>0.736698</td>\n",
       "      <td>0.341089</td>\n",
       "      <td>0.602458</td>\n",
       "      <td>0.417847</td>\n",
       "      <td>0.746935</td>\n",
       "      <td>0.329149</td>\n",
       "      <td>...</td>\n",
       "      <td>0.427141</td>\n",
       "      <td>0.758721</td>\n",
       "      <td>0.482488</td>\n",
       "      <td>1.000000</td>\n",
       "      <td>0.408795</td>\n",
       "      <td>0.716525</td>\n",
       "      <td>0.353902</td>\n",
       "      <td>0.619670</td>\n",
       "      <td>0.399175</td>\n",
       "      <td>0.692453</td>\n",
       "    </tr>\n",
       "    <tr>\n",
       "      <th>target_william_v4_20</th>\n",
       "      <td>0.870858</td>\n",
       "      <td>0.870858</td>\n",
       "      <td>0.485959</td>\n",
       "      <td>0.870162</td>\n",
       "      <td>0.485411</td>\n",
       "      <td>0.730067</td>\n",
       "      <td>0.411373</td>\n",
       "      <td>0.787179</td>\n",
       "      <td>0.443047</td>\n",
       "      <td>0.682348</td>\n",
       "      <td>...</td>\n",
       "      <td>0.849811</td>\n",
       "      <td>0.470078</td>\n",
       "      <td>0.738800</td>\n",
       "      <td>0.408795</td>\n",
       "      <td>1.000000</td>\n",
       "      <td>0.526445</td>\n",
       "      <td>0.807738</td>\n",
       "      <td>0.458092</td>\n",
       "      <td>0.872103</td>\n",
       "      <td>0.487194</td>\n",
       "    </tr>\n",
       "    <tr>\n",
       "      <th>target_william_v4_60</th>\n",
       "      <td>0.483031</td>\n",
       "      <td>0.483031</td>\n",
       "      <td>0.868252</td>\n",
       "      <td>0.483651</td>\n",
       "      <td>0.864410</td>\n",
       "      <td>0.411652</td>\n",
       "      <td>0.725530</td>\n",
       "      <td>0.440693</td>\n",
       "      <td>0.778659</td>\n",
       "      <td>0.380664</td>\n",
       "      <td>...</td>\n",
       "      <td>0.473975</td>\n",
       "      <td>0.833241</td>\n",
       "      <td>0.416952</td>\n",
       "      <td>0.716525</td>\n",
       "      <td>0.526445</td>\n",
       "      <td>1.000000</td>\n",
       "      <td>0.460304</td>\n",
       "      <td>0.804516</td>\n",
       "      <td>0.488892</td>\n",
       "      <td>0.868444</td>\n",
       "    </tr>\n",
       "    <tr>\n",
       "      <th>target_arthur_v4_20</th>\n",
       "      <td>0.765310</td>\n",
       "      <td>0.765310</td>\n",
       "      <td>0.431037</td>\n",
       "      <td>0.741306</td>\n",
       "      <td>0.422447</td>\n",
       "      <td>0.806612</td>\n",
       "      <td>0.435592</td>\n",
       "      <td>0.695605</td>\n",
       "      <td>0.392377</td>\n",
       "      <td>0.735155</td>\n",
       "      <td>...</td>\n",
       "      <td>0.721710</td>\n",
       "      <td>0.401605</td>\n",
       "      <td>0.641637</td>\n",
       "      <td>0.353902</td>\n",
       "      <td>0.807738</td>\n",
       "      <td>0.460304</td>\n",
       "      <td>1.000000</td>\n",
       "      <td>0.530236</td>\n",
       "      <td>0.774044</td>\n",
       "      <td>0.434952</td>\n",
       "    </tr>\n",
       "    <tr>\n",
       "      <th>target_arthur_v4_60</th>\n",
       "      <td>0.426294</td>\n",
       "      <td>0.426294</td>\n",
       "      <td>0.759651</td>\n",
       "      <td>0.419568</td>\n",
       "      <td>0.735165</td>\n",
       "      <td>0.433650</td>\n",
       "      <td>0.801410</td>\n",
       "      <td>0.388025</td>\n",
       "      <td>0.685300</td>\n",
       "      <td>0.403115</td>\n",
       "      <td>...</td>\n",
       "      <td>0.405308</td>\n",
       "      <td>0.706316</td>\n",
       "      <td>0.359278</td>\n",
       "      <td>0.619670</td>\n",
       "      <td>0.458092</td>\n",
       "      <td>0.804516</td>\n",
       "      <td>0.530236</td>\n",
       "      <td>1.000000</td>\n",
       "      <td>0.434250</td>\n",
       "      <td>0.767290</td>\n",
       "    </tr>\n",
       "    <tr>\n",
       "      <th>target_thomas_v4_20</th>\n",
       "      <td>0.920556</td>\n",
       "      <td>0.920556</td>\n",
       "      <td>0.503030</td>\n",
       "      <td>0.791638</td>\n",
       "      <td>0.444123</td>\n",
       "      <td>0.693096</td>\n",
       "      <td>0.389649</td>\n",
       "      <td>0.830498</td>\n",
       "      <td>0.457032</td>\n",
       "      <td>0.715509</td>\n",
       "      <td>...</td>\n",
       "      <td>0.774743</td>\n",
       "      <td>0.430414</td>\n",
       "      <td>0.711978</td>\n",
       "      <td>0.399175</td>\n",
       "      <td>0.872103</td>\n",
       "      <td>0.488892</td>\n",
       "      <td>0.774044</td>\n",
       "      <td>0.434250</td>\n",
       "      <td>1.000000</td>\n",
       "      <td>0.511123</td>\n",
       "    </tr>\n",
       "    <tr>\n",
       "      <th>target_thomas_v4_60</th>\n",
       "      <td>0.498981</td>\n",
       "      <td>0.498981</td>\n",
       "      <td>0.920563</td>\n",
       "      <td>0.442065</td>\n",
       "      <td>0.783889</td>\n",
       "      <td>0.389274</td>\n",
       "      <td>0.684489</td>\n",
       "      <td>0.453324</td>\n",
       "      <td>0.821724</td>\n",
       "      <td>0.386849</td>\n",
       "      <td>...</td>\n",
       "      <td>0.433230</td>\n",
       "      <td>0.757722</td>\n",
       "      <td>0.402623</td>\n",
       "      <td>0.692453</td>\n",
       "      <td>0.487194</td>\n",
       "      <td>0.868444</td>\n",
       "      <td>0.434952</td>\n",
       "      <td>0.767290</td>\n",
       "      <td>0.511123</td>\n",
       "      <td>1.000000</td>\n",
       "    </tr>\n",
       "  </tbody>\n",
       "</table>\n",
       "<p>21 rows × 21 columns</p>\n",
       "</div>"
      ],
      "text/plain": [
       "                        target  target_nomi_v4_20  target_nomi_v4_60  \\\n",
       "target                1.000000           1.000000           0.500773   \n",
       "target_nomi_v4_20     1.000000           1.000000           0.500773   \n",
       "target_nomi_v4_60     0.500773           0.500773           1.000000   \n",
       "target_jerome_v4_20   0.798061           0.798061           0.445267   \n",
       "target_jerome_v4_60   0.443519           0.443519           0.792348   \n",
       "target_janet_v4_20    0.690056           0.690056           0.389002   \n",
       "target_janet_v4_60    0.386239           0.386239           0.682460   \n",
       "target_ben_v4_20      0.819984           0.819984           0.455332   \n",
       "target_ben_v4_60      0.455371           0.455371           0.814605   \n",
       "target_alan_v4_20     0.679708           0.679708           0.383144   \n",
       "target_alan_v4_60     0.383552           0.383552           0.674669   \n",
       "target_paul_v4_20     0.782010           0.782010           0.436680   \n",
       "target_paul_v4_60     0.429850           0.429850           0.767359   \n",
       "target_george_v4_20   0.723801           0.723801           0.408407   \n",
       "target_george_v4_60   0.401362           0.401362           0.707522   \n",
       "target_william_v4_20  0.870858           0.870858           0.485959   \n",
       "target_william_v4_60  0.483031           0.483031           0.868252   \n",
       "target_arthur_v4_20   0.765310           0.765310           0.431037   \n",
       "target_arthur_v4_60   0.426294           0.426294           0.759651   \n",
       "target_thomas_v4_20   0.920556           0.920556           0.503030   \n",
       "target_thomas_v4_60   0.498981           0.498981           0.920563   \n",
       "\n",
       "                      target_jerome_v4_20  target_jerome_v4_60  \\\n",
       "target                           0.798061             0.443519   \n",
       "target_nomi_v4_20                0.798061             0.443519   \n",
       "target_nomi_v4_60                0.445267             0.792348   \n",
       "target_jerome_v4_20              1.000000             0.492944   \n",
       "target_jerome_v4_60              0.492944             1.000000   \n",
       "target_janet_v4_20               0.683921             0.401501   \n",
       "target_janet_v4_60               0.400233             0.678924   \n",
       "target_ben_v4_20                 0.798668             0.437955   \n",
       "target_ben_v4_60                 0.439137             0.792413   \n",
       "target_alan_v4_20                0.649539             0.363231   \n",
       "target_alan_v4_60                0.365170             0.643125   \n",
       "target_paul_v4_20                0.910745             0.481372   \n",
       "target_paul_v4_60                0.475421             0.888310   \n",
       "target_george_v4_20              0.757360             0.420891   \n",
       "target_george_v4_60              0.409677             0.736698   \n",
       "target_william_v4_20             0.870162             0.485411   \n",
       "target_william_v4_60             0.483651             0.864410   \n",
       "target_arthur_v4_20              0.741306             0.422447   \n",
       "target_arthur_v4_60              0.419568             0.735165   \n",
       "target_thomas_v4_20              0.791638             0.444123   \n",
       "target_thomas_v4_60              0.442065             0.783889   \n",
       "\n",
       "                      target_janet_v4_20  target_janet_v4_60  \\\n",
       "target                          0.690056            0.386239   \n",
       "target_nomi_v4_20               0.690056            0.386239   \n",
       "target_nomi_v4_60               0.389002            0.682460   \n",
       "target_jerome_v4_20             0.683921            0.400233   \n",
       "target_jerome_v4_60             0.401501            0.678924   \n",
       "target_janet_v4_20              1.000000            0.448913   \n",
       "target_janet_v4_60              0.448913            1.000000   \n",
       "target_ben_v4_20                0.671666            0.372148   \n",
       "target_ben_v4_60                0.375128            0.663199   \n",
       "target_alan_v4_20               0.764112            0.409140   \n",
       "target_alan_v4_60               0.410794            0.758133   \n",
       "target_paul_v4_20               0.690488            0.392584   \n",
       "target_paul_v4_60               0.389216            0.682887   \n",
       "target_george_v4_20             0.620629            0.346254   \n",
       "target_george_v4_60             0.341089            0.602458   \n",
       "target_william_v4_20            0.730067            0.411373   \n",
       "target_william_v4_60            0.411652            0.725530   \n",
       "target_arthur_v4_20             0.806612            0.435592   \n",
       "target_arthur_v4_60             0.433650            0.801410   \n",
       "target_thomas_v4_20             0.693096            0.389649   \n",
       "target_thomas_v4_60             0.389274            0.684489   \n",
       "\n",
       "                      target_ben_v4_20  target_ben_v4_60  target_alan_v4_20  \\\n",
       "target                        0.819984          0.455371           0.679708   \n",
       "target_nomi_v4_20             0.819984          0.455371           0.679708   \n",
       "target_nomi_v4_60             0.455332          0.814605           0.383144   \n",
       "target_jerome_v4_20           0.798668          0.439137           0.649539   \n",
       "target_jerome_v4_60           0.437955          0.792413           0.363231   \n",
       "target_janet_v4_20            0.671666          0.375128           0.764112   \n",
       "target_janet_v4_60            0.372148          0.663199           0.409140   \n",
       "target_ben_v4_20              1.000000          0.485997           0.656629   \n",
       "target_ben_v4_60              0.485997          1.000000           0.373571   \n",
       "target_alan_v4_20             0.656629          0.373571           1.000000   \n",
       "target_alan_v4_60             0.374093          0.647820           0.418862   \n",
       "target_paul_v4_20             0.774470          0.428769           0.636716   \n",
       "target_paul_v4_60             0.421242          0.759599           0.352221   \n",
       "target_george_v4_20           0.758041          0.425654           0.581884   \n",
       "target_george_v4_60           0.417847          0.746935           0.329149   \n",
       "target_william_v4_20          0.787179          0.443047           0.682348   \n",
       "target_william_v4_60          0.440693          0.778659           0.380664   \n",
       "target_arthur_v4_20           0.695605          0.392377           0.735155   \n",
       "target_arthur_v4_60           0.388025          0.685300           0.403115   \n",
       "target_thomas_v4_20           0.830498          0.457032           0.715509   \n",
       "target_thomas_v4_60           0.453324          0.821724           0.386849   \n",
       "\n",
       "                      ...  target_paul_v4_20  target_paul_v4_60  \\\n",
       "target                ...           0.782010           0.429850   \n",
       "target_nomi_v4_20     ...           0.782010           0.429850   \n",
       "target_nomi_v4_60     ...           0.436680           0.767359   \n",
       "target_jerome_v4_20   ...           0.910745           0.475421   \n",
       "target_jerome_v4_60   ...           0.481372           0.888310   \n",
       "target_janet_v4_20    ...           0.690488           0.389216   \n",
       "target_janet_v4_60    ...           0.392584           0.682887   \n",
       "target_ben_v4_20      ...           0.774470           0.421242   \n",
       "target_ben_v4_60      ...           0.428769           0.759599   \n",
       "target_alan_v4_20     ...           0.636716           0.352221   \n",
       "target_alan_v4_60     ...           0.358383           0.624078   \n",
       "target_paul_v4_20     ...           1.000000           0.499098   \n",
       "target_paul_v4_60     ...           0.499098           1.000000   \n",
       "target_george_v4_20   ...           0.764901           0.428179   \n",
       "target_george_v4_60   ...           0.427141           0.758721   \n",
       "target_william_v4_20  ...           0.849811           0.470078   \n",
       "target_william_v4_60  ...           0.473975           0.833241   \n",
       "target_arthur_v4_20   ...           0.721710           0.401605   \n",
       "target_arthur_v4_60   ...           0.405308           0.706316   \n",
       "target_thomas_v4_20   ...           0.774743           0.430414   \n",
       "target_thomas_v4_60   ...           0.433230           0.757722   \n",
       "\n",
       "                      target_george_v4_20  target_george_v4_60  \\\n",
       "target                           0.723801             0.401362   \n",
       "target_nomi_v4_20                0.723801             0.401362   \n",
       "target_nomi_v4_60                0.408407             0.707522   \n",
       "target_jerome_v4_20              0.757360             0.409677   \n",
       "target_jerome_v4_60              0.420891             0.736698   \n",
       "target_janet_v4_20               0.620629             0.341089   \n",
       "target_janet_v4_60               0.346254             0.602458   \n",
       "target_ben_v4_20                 0.758041             0.417847   \n",
       "target_ben_v4_60                 0.425654             0.746935   \n",
       "target_alan_v4_20                0.581884             0.329149   \n",
       "target_alan_v4_60                0.335640             0.569079   \n",
       "target_paul_v4_20                0.764901             0.427141   \n",
       "target_paul_v4_60                0.428179             0.758721   \n",
       "target_george_v4_20              1.000000             0.482488   \n",
       "target_george_v4_60              0.482488             1.000000   \n",
       "target_william_v4_20             0.738800             0.408795   \n",
       "target_william_v4_60             0.416952             0.716525   \n",
       "target_arthur_v4_20              0.641637             0.353902   \n",
       "target_arthur_v4_60              0.359278             0.619670   \n",
       "target_thomas_v4_20              0.711978             0.399175   \n",
       "target_thomas_v4_60              0.402623             0.692453   \n",
       "\n",
       "                      target_william_v4_20  target_william_v4_60  \\\n",
       "target                            0.870858              0.483031   \n",
       "target_nomi_v4_20                 0.870858              0.483031   \n",
       "target_nomi_v4_60                 0.485959              0.868252   \n",
       "target_jerome_v4_20               0.870162              0.483651   \n",
       "target_jerome_v4_60               0.485411              0.864410   \n",
       "target_janet_v4_20                0.730067              0.411652   \n",
       "target_janet_v4_60                0.411373              0.725530   \n",
       "target_ben_v4_20                  0.787179              0.440693   \n",
       "target_ben_v4_60                  0.443047              0.778659   \n",
       "target_alan_v4_20                 0.682348              0.380664   \n",
       "target_alan_v4_60                 0.383054              0.676481   \n",
       "target_paul_v4_20                 0.849811              0.473975   \n",
       "target_paul_v4_60                 0.470078              0.833241   \n",
       "target_george_v4_20               0.738800              0.416952   \n",
       "target_george_v4_60               0.408795              0.716525   \n",
       "target_william_v4_20              1.000000              0.526445   \n",
       "target_william_v4_60              0.526445              1.000000   \n",
       "target_arthur_v4_20               0.807738              0.460304   \n",
       "target_arthur_v4_60               0.458092              0.804516   \n",
       "target_thomas_v4_20               0.872103              0.488892   \n",
       "target_thomas_v4_60               0.487194              0.868444   \n",
       "\n",
       "                      target_arthur_v4_20  target_arthur_v4_60  \\\n",
       "target                           0.765310             0.426294   \n",
       "target_nomi_v4_20                0.765310             0.426294   \n",
       "target_nomi_v4_60                0.431037             0.759651   \n",
       "target_jerome_v4_20              0.741306             0.419568   \n",
       "target_jerome_v4_60              0.422447             0.735165   \n",
       "target_janet_v4_20               0.806612             0.433650   \n",
       "target_janet_v4_60               0.435592             0.801410   \n",
       "target_ben_v4_20                 0.695605             0.388025   \n",
       "target_ben_v4_60                 0.392377             0.685300   \n",
       "target_alan_v4_20                0.735155             0.403115   \n",
       "target_alan_v4_60                0.406490             0.726871   \n",
       "target_paul_v4_20                0.721710             0.405308   \n",
       "target_paul_v4_60                0.401605             0.706316   \n",
       "target_george_v4_20              0.641637             0.359278   \n",
       "target_george_v4_60              0.353902             0.619670   \n",
       "target_william_v4_20             0.807738             0.458092   \n",
       "target_william_v4_60             0.460304             0.804516   \n",
       "target_arthur_v4_20              1.000000             0.530236   \n",
       "target_arthur_v4_60              0.530236             1.000000   \n",
       "target_thomas_v4_20              0.774044             0.434250   \n",
       "target_thomas_v4_60              0.434952             0.767290   \n",
       "\n",
       "                      target_thomas_v4_20  target_thomas_v4_60  \n",
       "target                           0.920556             0.498981  \n",
       "target_nomi_v4_20                0.920556             0.498981  \n",
       "target_nomi_v4_60                0.503030             0.920563  \n",
       "target_jerome_v4_20              0.791638             0.442065  \n",
       "target_jerome_v4_60              0.444123             0.783889  \n",
       "target_janet_v4_20               0.693096             0.389274  \n",
       "target_janet_v4_60               0.389649             0.684489  \n",
       "target_ben_v4_20                 0.830498             0.453324  \n",
       "target_ben_v4_60                 0.457032             0.821724  \n",
       "target_alan_v4_20                0.715509             0.386849  \n",
       "target_alan_v4_60                0.389971             0.709218  \n",
       "target_paul_v4_20                0.774743             0.433230  \n",
       "target_paul_v4_60                0.430414             0.757722  \n",
       "target_george_v4_20              0.711978             0.402623  \n",
       "target_george_v4_60              0.399175             0.692453  \n",
       "target_william_v4_20             0.872103             0.487194  \n",
       "target_william_v4_60             0.488892             0.868444  \n",
       "target_arthur_v4_20              0.774044             0.434952  \n",
       "target_arthur_v4_60              0.434250             0.767290  \n",
       "target_thomas_v4_20              1.000000             0.511123  \n",
       "target_thomas_v4_60              0.511123             1.000000  \n",
       "\n",
       "[21 rows x 21 columns]"
      ]
     },
     "execution_count": 11,
     "metadata": {},
     "output_type": "execute_result"
    },
    {
     "name": "stdout",
     "output_type": "stream",
     "text": [
      "\r"
     ]
    }
   ],
   "source": [
    "# The targets have a wide range of correlations with each other from ~0.3 to ~0.9\n",
    "# This should allow the construction of many diverse models which ensemble nicely\n",
    "df[targets].corr()"
   ]
  },
  {
   "attachments": {},
   "cell_type": "markdown",
   "metadata": {},
   "source": [
    "# 1191 features, no feature groups!"
   ]
  },
  {
   "cell_type": "code",
   "execution_count": 12,
   "metadata": {},
   "outputs": [
    {
     "data": {
      "text/plain": [
       "<matplotlib.image.AxesImage at 0x17407d37790>"
      ]
     },
     "execution_count": 12,
     "metadata": {},
     "output_type": "execute_result"
    },
    {
     "data": {
      "image/png": "[encoded data removed]",
      "text/plain": [
       "<Figure size 576x576 with 1 Axes>"
      ]
     },
     "metadata": {
      "needs_background": "light"
     },
     "output_type": "display_data"
    },
    {
     "name": "stdout",
     "output_type": "stream",
     "text": [
      "\r"
     ]
    }
   ],
   "source": [
    "# The features are no longer explicit feature groups, but you can see some pretty obvious patterns if you\n",
    "# visualize the feature correlation matrix. Feel free to construct your own groupings!\n",
    "plt.figure(figsize = (8,8))\n",
    "plt.imshow(df[df.era=='0001'][features].corr())"
   ]
  },
  {
   "cell_type": "code",
   "execution_count": 13,
   "metadata": {},
   "outputs": [
    {
     "name": "stdout",
     "output_type": "stream",
     "text": [
      "\r"
     ]
    }
   ],
   "source": [
    "# The models should be scored based on the rank-correlation (spearman) with the target\n",
    "def numerai_score(y_true, y_pred):\n",
    "    rank_pred = y_pred.groupby(eras).apply(lambda x: x.rank(pct=True, method=\"first\"))\n",
    "    return np.corrcoef(y_true, rank_pred)[0,1]\n",
    "\n",
    "# It can also be convenient while working to evaluate based on the regular (pearson) correlation\n",
    "def correlation_score(y_true, y_pred):\n",
    "    return np.corrcoef(y_true, y_pred)[0,1]"
   ]
  },
  {
   "cell_type": "code",
   "execution_count": 14,
   "metadata": {},
   "outputs": [
    {
     "data": {
      "text/plain": [
       "count    2.420521e+06\n",
       "mean     3.042725e+02\n",
       "std      1.598538e+02\n",
       "min      1.000000e+00\n",
       "25%      1.720000e+02\n",
       "50%      3.040000e+02\n",
       "75%      4.430000e+02\n",
       "max      5.740000e+02\n",
       "Name: erano, dtype: float64"
      ]
     },
     "execution_count": 14,
     "metadata": {},
     "output_type": "execute_result"
    },
    {
     "name": "stdout",
     "output_type": "stream",
     "text": [
      "\r"
     ]
    }
   ],
   "source": [
    "# There are 574 eras numbered from 1 to 574\n",
    "eras.describe()"
   ]
  },
  {
   "cell_type": "code",
   "execution_count": 15,
   "metadata": {},
   "outputs": [
    {
     "data": {
      "text/plain": [
       "<AxesSubplot:xlabel='erano'>"
      ]
     },
     "execution_count": 15,
     "metadata": {},
     "output_type": "execute_result"
    },
    {
     "data": {
      "image/png": "[encoded data removed]",
      "text/plain": [
       "<Figure size 432x288 with 1 Axes>"
      ]
     },
     "metadata": {
      "needs_background": "light"
     },
     "output_type": "display_data"
    },
    {
     "name": "stdout",
     "output_type": "stream",
     "text": [
      "\r"
     ]
    }
   ],
   "source": [
    "# The earlier eras are smaller, but generally each era is 4000-5000 rows\n",
    "df.groupby(eras).size().plot()"
   ]
  },
  {
   "cell_type": "code",
   "execution_count": 16,
   "metadata": {},
   "outputs": [
    {
     "data": {
      "text/plain": [
       "target\n",
       "0.00    0.050007\n",
       "0.25    0.200001\n",
       "0.50    0.499975\n",
       "0.75    0.200014\n",
       "1.00    0.050003\n",
       "dtype: float64"
      ]
     },
     "execution_count": 16,
     "metadata": {},
     "output_type": "execute_result"
    },
    {
     "name": "stdout",
     "output_type": "stream",
     "text": [
      "\r"
     ]
    }
   ],
   "source": [
    "# The target is discrete and takes on 5 different values with about 5% in 0 & 1, 20% in 0.75 & 0.25, and 50% in 0.50\n",
    "df.groupby(target).size()/len(df)"
   ]
  },
  {
   "cell_type": "code",
   "execution_count": 20,
   "metadata": {},
   "outputs": [
    {
     "name": "stdout",
     "output_type": "stream",
     "text": [
      "target_william_v4_20\n",
      "0.000000    0.023418\n",
      "0.166667    0.061311\n",
      "0.333333    0.227122\n",
      "0.500000    0.388675\n",
      "0.666667    0.202978\n",
      "0.833333    0.061387\n",
      "1.000000    0.030743\n",
      "dtype: float64\n",
      "\n",
      "target_thomas_v4_20\n",
      "0.000000    0.016413\n",
      "0.166667    0.048281\n",
      "0.333333    0.191793\n",
      "0.500000    0.494680\n",
      "0.666667    0.174882\n",
      "0.833333    0.048829\n",
      "1.000000    0.021508\n",
      "dtype: float64\n",
      "\r"
     ]
    }
   ],
   "source": [
    "# Some new targets have a different distribution and the bins are less rigid in the percent of samples contained\n",
    "print(df.groupby('target_william_v4_20').size()/len(df))\n",
    "print()\n",
    "print(df.groupby('target_thomas_v4_20').size()/len(df))"
   ]
  },
  {
   "attachments": {},
   "cell_type": "markdown",
   "metadata": {},
   "source": [
    "# Some of the features are very correlated\n",
    "Some even perfectly correlated within a particular era"
   ]
  },
  {
   "cell_type": "code",
   "execution_count": 21,
   "metadata": {},
   "outputs": [
    {
     "name": "stdout",
     "output_type": "stream",
     "text": [
      "\r"
     ]
    }
   ],
   "source": [
    "feature_corrs = df[df.era=='0001'][features].corr()"
   ]
  },
  {
   "cell_type": "code",
   "execution_count": 22,
   "metadata": {},
   "outputs": [
    {
     "data": {
      "text/plain": [
       "feature_honoured_observational_balaamite  feature_honoured_observational_balaamite     1.000000\n",
       "                                          feature_polaroid_vadose_quinze               0.002170\n",
       "                                          feature_untidy_withdrawn_bargeman            0.141514\n",
       "                                          feature_genuine_kyphotic_trehala             0.171890\n",
       "                                          feature_unenthralled_sportful_schoolhouse   -0.149952\n",
       "dtype: float64"
      ]
     },
     "execution_count": 22,
     "metadata": {},
     "output_type": "execute_result"
    },
    {
     "name": "stdout",
     "output_type": "stream",
     "text": [
      "\r"
     ]
    }
   ],
   "source": [
    "feature_corrs.stack().head()"
   ]
  },
  {
   "cell_type": "code",
   "execution_count": 23,
   "metadata": {},
   "outputs": [
    {
     "data": {
      "text/plain": [
       "feature_optic_mycelial_whimper                      feature_productile_auriform_fil            -0.950579\n",
       "feature_careworn_motivational_requisite             feature_loftier_sightly_lyric              -0.940453\n",
       "feature_dissident_templed_shippon                   feature_rose_buttoned_dandy                -0.939489\n",
       "feature_applausive_forgettable_mishanter            feature_marled_coliform_proctorship        -0.936837\n",
       "feature_sodding_choosy_eruption                     feature_utmost_excitable_emir              -0.934667\n",
       "                                                                                                  ...   \n",
       "feature_bimanual_godly_witloof                      feature_healthier_unconnected_clave         1.000000\n",
       "feature_associate_unproper_gridder                  feature_asteriated_invigorated_penitence    1.000000\n",
       "feature_agricultural_uranic_ankerite                feature_pseudo_bounden_hereafter            1.000000\n",
       "feature_associate_unproper_gridder                  feature_maglemosian_kittle_coachbuilding    1.000000\n",
       "feature_australasian_dissatisfactory_intermarriage  feature_unsensing_enterprising_janissary    1.000000\n",
       "Length: 708645, dtype: float64"
      ]
     },
     "execution_count": 23,
     "metadata": {},
     "output_type": "execute_result"
    },
    {
     "name": "stdout",
     "output_type": "stream",
     "text": [
      "\r"
     ]
    }
   ],
   "source": [
    "tdf = feature_corrs.stack()\n",
    "tdf = tdf[tdf.index.get_level_values(0) < tdf.index.get_level_values(1)]\n",
    "tdf.sort_values()"
   ]
  },
  {
   "attachments": {},
   "cell_type": "markdown",
   "metadata": {},
   "source": [
    "### The correlation can change over time\n",
    "You can see this by comparing feature correlations on the first half and second half on the training set"
   ]
  },
  {
   "cell_type": "code",
   "execution_count": 24,
   "metadata": {},
   "outputs": [
    {
     "name": "stdout",
     "output_type": "stream",
     "text": [
      "\r"
     ]
    }
   ],
   "source": [
    "df1 = df[eras<=eras.median()]\n",
    "df2 = df[eras>eras.median()]"
   ]
  },
  {
   "cell_type": "code",
   "execution_count": 25,
   "metadata": {},
   "outputs": [
    {
     "name": "stdout",
     "output_type": "stream",
     "text": [
      "\r"
     ]
    }
   ],
   "source": [
    "corr1 = df1[df1.era=='0001'][features].corr().unstack()\n",
    "corr1 = corr1[corr1.index.get_level_values(0) < corr1.index.get_level_values(1)]"
   ]
  },
  {
   "cell_type": "code",
   "execution_count": 26,
   "metadata": {},
   "outputs": [
    {
     "name": "stdout",
     "output_type": "stream",
     "text": [
      "\r"
     ]
    }
   ],
   "source": [
    "corr2 = df2[df2.era=='0574'][features].corr().unstack()\n",
    "corr2 = corr2[corr2.index.get_level_values(0) < corr2.index.get_level_values(1)]"
   ]
  },
  {
   "cell_type": "code",
   "execution_count": 27,
   "metadata": {},
   "outputs": [
    {
     "data": {
      "text/html": [
       "<div>\n",
       "<style scoped>\n",
       "    .dataframe tbody tr th:only-of-type {\n",
       "        vertical-align: middle;\n",
       "    }\n",
       "\n",
       "    .dataframe tbody tr th {\n",
       "        vertical-align: top;\n",
       "    }\n",
       "\n",
       "    .dataframe thead th {\n",
       "        text-align: right;\n",
       "    }\n",
       "</style>\n",
       "<table border=\"1\" class=\"dataframe\">\n",
       "  <thead>\n",
       "    <tr style=\"text-align: right;\">\n",
       "      <th></th>\n",
       "      <th></th>\n",
       "      <th>corr1</th>\n",
       "      <th>corr2</th>\n",
       "      <th>corr_diff</th>\n",
       "    </tr>\n",
       "  </thead>\n",
       "  <tbody>\n",
       "    <tr>\n",
       "      <th>feature_cislunar_ritardando_gadwall</th>\n",
       "      <th>feature_uranian_gorier_melancholy</th>\n",
       "      <td>1.000000</td>\n",
       "      <td>-0.165348</td>\n",
       "      <td>-1.165348</td>\n",
       "    </tr>\n",
       "    <tr>\n",
       "      <th>feature_baggier_supernormal_calcedony</th>\n",
       "      <th>feature_uranian_gorier_melancholy</th>\n",
       "      <td>1.000000</td>\n",
       "      <td>-0.164931</td>\n",
       "      <td>-1.164931</td>\n",
       "    </tr>\n",
       "    <tr>\n",
       "      <th>feature_cislunar_ritardando_gadwall</th>\n",
       "      <th>feature_unscaling_pedantic_fingernail</th>\n",
       "      <td>1.000000</td>\n",
       "      <td>-0.162745</td>\n",
       "      <td>-1.162745</td>\n",
       "    </tr>\n",
       "    <tr>\n",
       "      <th rowspan=\"2\" valign=\"top\">feature_rutilant_obliterate_potassium</th>\n",
       "      <th>feature_torose_unspiritualised_kylie</th>\n",
       "      <td>1.000000</td>\n",
       "      <td>-0.161912</td>\n",
       "      <td>-1.161912</td>\n",
       "    </tr>\n",
       "    <tr>\n",
       "      <th>feature_uranian_gorier_melancholy</th>\n",
       "      <td>1.000000</td>\n",
       "      <td>-0.161704</td>\n",
       "      <td>-1.161704</td>\n",
       "    </tr>\n",
       "    <tr>\n",
       "      <th>...</th>\n",
       "      <th>...</th>\n",
       "      <td>...</td>\n",
       "      <td>...</td>\n",
       "      <td>...</td>\n",
       "    </tr>\n",
       "    <tr>\n",
       "      <th>feature_anucleate_knotted_nonage</th>\n",
       "      <th>feature_asteriated_invigorated_penitence</th>\n",
       "      <td>-0.097878</td>\n",
       "      <td>0.736776</td>\n",
       "      <td>0.834655</td>\n",
       "    </tr>\n",
       "    <tr>\n",
       "      <th>feature_flamier_confusing_dithering</th>\n",
       "      <th>feature_nonagenarian_roundish_publication</th>\n",
       "      <td>-0.078833</td>\n",
       "      <td>0.757289</td>\n",
       "      <td>0.836122</td>\n",
       "    </tr>\n",
       "    <tr>\n",
       "      <th>feature_comprisable_commensurable_cyrenaic</th>\n",
       "      <th>feature_nonagenarian_roundish_publication</th>\n",
       "      <td>-0.070878</td>\n",
       "      <td>0.766556</td>\n",
       "      <td>0.837433</td>\n",
       "    </tr>\n",
       "    <tr>\n",
       "      <th>feature_cragged_sacred_malabo</th>\n",
       "      <th>feature_disarrayed_rarefactive_trisulphide</th>\n",
       "      <td>-0.137175</td>\n",
       "      <td>0.720117</td>\n",
       "      <td>0.857291</td>\n",
       "    </tr>\n",
       "    <tr>\n",
       "      <th>feature_maglemosian_kittle_coachbuilding</th>\n",
       "      <th>feature_unreeling_homeothermic_macedonia</th>\n",
       "      <td>-0.088717</td>\n",
       "      <td>0.783528</td>\n",
       "      <td>0.872245</td>\n",
       "    </tr>\n",
       "  </tbody>\n",
       "</table>\n",
       "<p>708645 rows × 3 columns</p>\n",
       "</div>"
      ],
      "text/plain": [
       "                                                                                          corr1  \\\n",
       "feature_cislunar_ritardando_gadwall        feature_uranian_gorier_melancholy           1.000000   \n",
       "feature_baggier_supernormal_calcedony      feature_uranian_gorier_melancholy           1.000000   \n",
       "feature_cislunar_ritardando_gadwall        feature_unscaling_pedantic_fingernail       1.000000   \n",
       "feature_rutilant_obliterate_potassium      feature_torose_unspiritualised_kylie        1.000000   \n",
       "                                           feature_uranian_gorier_melancholy           1.000000   \n",
       "...                                                                                         ...   \n",
       "feature_anucleate_knotted_nonage           feature_asteriated_invigorated_penitence   -0.097878   \n",
       "feature_flamier_confusing_dithering        feature_nonagenarian_roundish_publication  -0.078833   \n",
       "feature_comprisable_commensurable_cyrenaic feature_nonagenarian_roundish_publication  -0.070878   \n",
       "feature_cragged_sacred_malabo              feature_disarrayed_rarefactive_trisulphide -0.137175   \n",
       "feature_maglemosian_kittle_coachbuilding   feature_unreeling_homeothermic_macedonia   -0.088717   \n",
       "\n",
       "                                                                                          corr2  \\\n",
       "feature_cislunar_ritardando_gadwall        feature_uranian_gorier_melancholy          -0.165348   \n",
       "feature_baggier_supernormal_calcedony      feature_uranian_gorier_melancholy          -0.164931   \n",
       "feature_cislunar_ritardando_gadwall        feature_unscaling_pedantic_fingernail      -0.162745   \n",
       "feature_rutilant_obliterate_potassium      feature_torose_unspiritualised_kylie       -0.161912   \n",
       "                                           feature_uranian_gorier_melancholy          -0.161704   \n",
       "...                                                                                         ...   \n",
       "feature_anucleate_knotted_nonage           feature_asteriated_invigorated_penitence    0.736776   \n",
       "feature_flamier_confusing_dithering        feature_nonagenarian_roundish_publication   0.757289   \n",
       "feature_comprisable_commensurable_cyrenaic feature_nonagenarian_roundish_publication   0.766556   \n",
       "feature_cragged_sacred_malabo              feature_disarrayed_rarefactive_trisulphide  0.720117   \n",
       "feature_maglemosian_kittle_coachbuilding   feature_unreeling_homeothermic_macedonia    0.783528   \n",
       "\n",
       "                                                                                       corr_diff  \n",
       "feature_cislunar_ritardando_gadwall        feature_uranian_gorier_melancholy           -1.165348  \n",
       "feature_baggier_supernormal_calcedony      feature_uranian_gorier_melancholy           -1.164931  \n",
       "feature_cislunar_ritardando_gadwall        feature_unscaling_pedantic_fingernail       -1.162745  \n",
       "feature_rutilant_obliterate_potassium      feature_torose_unspiritualised_kylie        -1.161912  \n",
       "                                           feature_uranian_gorier_melancholy           -1.161704  \n",
       "...                                                                                          ...  \n",
       "feature_anucleate_knotted_nonage           feature_asteriated_invigorated_penitence     0.834655  \n",
       "feature_flamier_confusing_dithering        feature_nonagenarian_roundish_publication    0.836122  \n",
       "feature_comprisable_commensurable_cyrenaic feature_nonagenarian_roundish_publication    0.837433  \n",
       "feature_cragged_sacred_malabo              feature_disarrayed_rarefactive_trisulphide   0.857291  \n",
       "feature_maglemosian_kittle_coachbuilding   feature_unreeling_homeothermic_macedonia     0.872245  \n",
       "\n",
       "[708645 rows x 3 columns]"
      ]
     },
     "execution_count": 27,
     "metadata": {},
     "output_type": "execute_result"
    },
    {
     "name": "stdout",
     "output_type": "stream",
     "text": [
      "\r"
     ]
    }
   ],
   "source": [
    "tdf = pd.DataFrame({\n",
    "    \"corr1\": corr1,\n",
    "    \"corr2\": corr2,\n",
    "})\n",
    "tdf[\"corr_diff\"] = tdf.corr2 - tdf.corr1\n",
    "tdf.sort_values(by=\"corr_diff\")"
   ]
  },
  {
   "attachments": {},
   "cell_type": "markdown",
   "metadata": {},
   "source": [
    "## Some features are predictive on their own"
   ]
  },
  {
   "cell_type": "code",
   "execution_count": 28,
   "metadata": {},
   "outputs": [
    {
     "name": "stdout",
     "output_type": "stream",
     "text": [
      "\r"
     ]
    }
   ],
   "source": [
    "feature_scores = {feature: score for feature, score in zip(features, np.corrcoef(df[df.era=='0001'][[target]+features].T)[1:,0])}"
   ]
  },
  {
   "cell_type": "code",
   "execution_count": 29,
   "metadata": {},
   "outputs": [
    {
     "data": {
      "text/plain": [
       "feature_steric_coxcombic_relinquishment          -0.081221\n",
       "feature_unsustaining_chewier_adnoun              -0.081221\n",
       "feature_drizzling_refrigerative_imperfection     -0.072832\n",
       "feature_censorial_leachier_rickshaw              -0.071307\n",
       "feature_quodlibetic_enrapt_miscalculation        -0.069781\n",
       "                                                    ...   \n",
       "feature_unperched_forgetive_vasoconstrictor       0.056435\n",
       "feature_cockiest_ditheistical_pennyworth          0.056817\n",
       "feature_tuberculate_patelliform_paging            0.057198\n",
       "feature_uninquiring_unspiritualized_gradualism    0.059867\n",
       "feature_unsizable_ancestral_collocutor            0.061011\n",
       "Length: 1191, dtype: float64"
      ]
     },
     "execution_count": 29,
     "metadata": {},
     "output_type": "execute_result"
    },
    {
     "name": "stdout",
     "output_type": "stream",
     "text": [
      "\r"
     ]
    }
   ],
   "source": [
    "pd.Series(feature_scores).sort_values()"
   ]
  },
  {
   "cell_type": "code",
   "execution_count": 30,
   "metadata": {},
   "outputs": [
    {
     "data": {
      "text/plain": [
       "<AxesSubplot:>"
      ]
     },
     "execution_count": 30,
     "metadata": {},
     "output_type": "execute_result"
    },
    {
     "data": {
      "image/png": "[encoded data removed]",
      "text/plain": [
       "<Figure size 432x288 with 1 Axes>"
      ]
     },
     "metadata": {
      "needs_background": "light"
     },
     "output_type": "display_data"
    },
    {
     "name": "stdout",
     "output_type": "stream",
     "text": [
      "\r"
     ]
    }
   ],
   "source": [
    "# Single features do not work consistently though\n",
    "by_era_correlation = pd.Series({\n",
    "    era: np.corrcoef(tdf[target], tdf[\"feature_untidy_withdrawn_bargeman\"])[0,1]\n",
    "    for era, tdf in df.groupby(eras)\n",
    "})\n",
    "by_era_correlation.plot()"
   ]
  },
  {
   "cell_type": "code",
   "execution_count": 31,
   "metadata": {},
   "outputs": [
    {
     "data": {
      "text/plain": [
       "<AxesSubplot:>"
      ]
     },
     "execution_count": 31,
     "metadata": {},
     "output_type": "execute_result"
    },
    {
     "data": {
      "image/png": "[encoded data removed]",
      "text/plain": [
       "<Figure size 432x288 with 1 Axes>"
      ]
     },
     "metadata": {
      "needs_background": "light"
     },
     "output_type": "display_data"
    },
    {
     "name": "stdout",
     "output_type": "stream",
     "text": [
      "\r"
     ]
    }
   ],
   "source": [
    "# With a rolling 10 era average you can see some trends\n",
    "by_era_correlation.rolling(10).mean().plot()"
   ]
  },
  {
   "attachments": {},
   "cell_type": "markdown",
   "metadata": {},
   "source": [
    "## The feature exposures of different targets can be very different, even orthogonal"
   ]
  },
  {
   "cell_type": "code",
   "execution_count": 48,
   "metadata": {},
   "outputs": [
    {
     "name": "stdout",
     "output_type": "stream",
     "text": [
      "\r"
     ]
    }
   ],
   "source": [
    "feature_scores_nomi20 = {feature: score for feature, score in zip(features, np.corrcoef(df[df.era=='0001'][['target_nomi_v4_20']+features].T)[1:,0])}"
   ]
  },
  {
   "cell_type": "code",
   "execution_count": 49,
   "metadata": {},
   "outputs": [
    {
     "name": "stdout",
     "output_type": "stream",
     "text": [
      "\r"
     ]
    }
   ],
   "source": [
    "feature_scores_nomi60 = {feature: score for feature, score in zip(features, np.corrcoef(df[df.era=='0001'][['target_nomi_v4_60']+features].fillna(0.5).T)[1:,0])}"
   ]
  },
  {
   "cell_type": "code",
   "execution_count": 50,
   "metadata": {},
   "outputs": [
    {
     "name": "stdout",
     "output_type": "stream",
     "text": [
      "0.680901621349402\n"
     ]
    },
    {
     "data": {
      "image/png": "[encoded data removed]",
      "text/plain": [
       "<Figure size 432x288 with 1 Axes>"
      ]
     },
     "metadata": {
      "needs_background": "light"
     },
     "output_type": "display_data"
    },
    {
     "name": "stdout",
     "output_type": "stream",
     "text": [
      "\r"
     ]
    }
   ],
   "source": [
    "plt.scatter(feature_scores_nomi20.values(), feature_scores_nomi60.values())\n",
    "print(np.corrcoef(list(feature_scores_nomi20.values()), list(feature_scores_nomi60.values()))[0,1])"
   ]
  },
  {
   "cell_type": "code",
   "execution_count": 134,
   "metadata": {},
   "outputs": [
    {
     "name": "stdout",
     "output_type": "stream",
     "text": [
      "\r"
     ]
    }
   ],
   "source": [
    "feature_scores_jerome = {feature: score for feature, score in zip(features, np.corrcoef(df[df.era=='0001'][['target_jerome_v4_60']+features].fillna(0.5).T)[1:,0])}"
   ]
  },
  {
   "cell_type": "code",
   "execution_count": 135,
   "metadata": {},
   "outputs": [
    {
     "name": "stdout",
     "output_type": "stream",
     "text": [
      "\r"
     ]
    }
   ],
   "source": [
    "feature_scores_ben = {feature: score for feature, score in zip(features, np.corrcoef(df[df.era=='0001'][['target_ben_v4_20']+features].fillna(0.5).T)[1:,0])}"
   ]
  },
  {
   "cell_type": "code",
   "execution_count": 136,
   "metadata": {},
   "outputs": [
    {
     "name": "stdout",
     "output_type": "stream",
     "text": [
      "0.33993486663275885\n"
     ]
    },
    {
     "data": {
      "image/png": "[encoded data removed]",
      "text/plain": [
       "<Figure size 432x288 with 1 Axes>"
      ]
     },
     "metadata": {
      "needs_background": "light"
     },
     "output_type": "display_data"
    },
    {
     "name": "stdout",
     "output_type": "stream",
     "text": [
      "\r"
     ]
    }
   ],
   "source": [
    "plt.scatter(feature_scores_jerome.values(), feature_scores_ben.values())\n",
    "print(np.corrcoef(list(feature_scores_jerome.values()), list(feature_scores_ben.values()))[0,1])"
   ]
  },
  {
   "attachments": {},
   "cell_type": "markdown",
   "metadata": {},
   "source": [
    "# Gotcha: MSE looks worse than correlation out of sample\n",
    "Models will generally be overconfident, so even if they are good at ranking rows, the Mean-Squared-Error of the residuals could be larger than even the Mean-Squared-Error of the target (r-squared<0)"
   ]
  },
  {
   "cell_type": "code",
   "execution_count": 57,
   "metadata": {},
   "outputs": [
    {
     "name": "stdout",
     "output_type": "stream",
     "text": [
      "\r"
     ]
    }
   ],
   "source": [
    "df1 = df[eras<=eras.median()]\n",
    "df2 = df[eras>eras.median()]"
   ]
  },
  {
   "cell_type": "code",
   "execution_count": 58,
   "metadata": {},
   "outputs": [
    {
     "data": {
      "text/plain": [
       "LinearRegression()"
      ]
     },
     "execution_count": 58,
     "metadata": {},
     "output_type": "execute_result"
    },
    {
     "name": "stdout",
     "output_type": "stream",
     "text": [
      "\r"
     ]
    }
   ],
   "source": [
    "linear1 = linear_model.LinearRegression()\n",
    "linear1.fit(df1[features], df1[target])\n",
    "linear2 = linear_model.LinearRegression()\n",
    "linear2.fit(df2[features], df2[target])"
   ]
  },
  {
   "cell_type": "code",
   "execution_count": 59,
   "metadata": {},
   "outputs": [
    {
     "data": {
      "text/html": [
       "<div>\n",
       "<style scoped>\n",
       "    .dataframe tbody tr th:only-of-type {\n",
       "        vertical-align: middle;\n",
       "    }\n",
       "\n",
       "    .dataframe tbody tr th {\n",
       "        vertical-align: top;\n",
       "    }\n",
       "\n",
       "    .dataframe thead th {\n",
       "        text-align: right;\n",
       "    }\n",
       "</style>\n",
       "<table border=\"1\" class=\"dataframe\">\n",
       "  <thead>\n",
       "    <tr style=\"text-align: right;\">\n",
       "      <th></th>\n",
       "      <th>eval_on_1</th>\n",
       "      <th>eval_on_2</th>\n",
       "    </tr>\n",
       "  </thead>\n",
       "  <tbody>\n",
       "    <tr>\n",
       "      <th>train_on_1</th>\n",
       "      <td>0.007814</td>\n",
       "      <td>-0.001092</td>\n",
       "    </tr>\n",
       "    <tr>\n",
       "      <th>train_on_2</th>\n",
       "      <td>-0.000677</td>\n",
       "      <td>0.007060</td>\n",
       "    </tr>\n",
       "  </tbody>\n",
       "</table>\n",
       "</div>"
      ],
      "text/plain": [
       "            eval_on_1  eval_on_2\n",
       "train_on_1   0.007814  -0.001092\n",
       "train_on_2  -0.000677   0.007060"
      ]
     },
     "execution_count": 59,
     "metadata": {},
     "output_type": "execute_result"
    },
    {
     "name": "stdout",
     "output_type": "stream",
     "text": [
      "\r"
     ]
    }
   ],
   "source": [
    "# Note in particular that the R-squared of (train_on_1, eval_on_2) is slightly negative!\n",
    "r2 = [\n",
    "    [\n",
    "        model.score(dfX[features], dfX[target])\n",
    "        for dfX in [df1, df2]\n",
    "    ]\n",
    "    for model in [linear1, linear2]\n",
    "]\n",
    "pd.DataFrame(r2, columns=[\"eval_on_1\", \"eval_on_2\"], index=[\"train_on_1\", \"train_on_2\"])"
   ]
  },
  {
   "cell_type": "code",
   "execution_count": 60,
   "metadata": {},
   "outputs": [
    {
     "data": {
      "text/html": [
       "<div>\n",
       "<style scoped>\n",
       "    .dataframe tbody tr th:only-of-type {\n",
       "        vertical-align: middle;\n",
       "    }\n",
       "\n",
       "    .dataframe tbody tr th {\n",
       "        vertical-align: top;\n",
       "    }\n",
       "\n",
       "    .dataframe thead th {\n",
       "        text-align: right;\n",
       "    }\n",
       "</style>\n",
       "<table border=\"1\" class=\"dataframe\">\n",
       "  <thead>\n",
       "    <tr style=\"text-align: right;\">\n",
       "      <th></th>\n",
       "      <th>eval_on_1</th>\n",
       "      <th>eval_on_2</th>\n",
       "    </tr>\n",
       "  </thead>\n",
       "  <tbody>\n",
       "    <tr>\n",
       "      <th>train_on_1</th>\n",
       "      <td>0.086000</td>\n",
       "      <td>0.036300</td>\n",
       "    </tr>\n",
       "    <tr>\n",
       "      <th>train_on_2</th>\n",
       "      <td>0.039793</td>\n",
       "      <td>0.080654</td>\n",
       "    </tr>\n",
       "  </tbody>\n",
       "</table>\n",
       "</div>"
      ],
      "text/plain": [
       "            eval_on_1  eval_on_2\n",
       "train_on_1   0.086000   0.036300\n",
       "train_on_2   0.039793   0.080654"
      ]
     },
     "execution_count": 60,
     "metadata": {},
     "output_type": "execute_result"
    },
    {
     "name": "stdout",
     "output_type": "stream",
     "text": [
      "\r"
     ]
    }
   ],
   "source": [
    "# Note in particular that the correlation of (train_on_1, eval_on_2) is quite decent\n",
    "corrs = [\n",
    "    [\n",
    "        numerai_score(dfX[target], pd.Series(model.predict(dfX[features]), index=dfX.index))\n",
    "        for dfX in [df1, df2]\n",
    "    ]\n",
    "    for model in [linear1, linear2]\n",
    "]\n",
    "pd.DataFrame(corrs, columns=[\"eval_on_1\", \"eval_on_2\"], index=[\"train_on_1\", \"train_on_2\"])"
   ]
  },
  {
   "cell_type": "code",
   "execution_count": 61,
   "metadata": {},
   "outputs": [
    {
     "name": "stdout",
     "output_type": "stream",
     "text": [
      "\r"
     ]
    }
   ],
   "source": [
    "# This can be be run with LightGBM as well"
   ]
  },
  {
   "cell_type": "code",
   "execution_count": 62,
   "metadata": {},
   "outputs": [
    {
     "data": {
      "text/plain": [
       "LGBMRegressor()"
      ]
     },
     "execution_count": 62,
     "metadata": {},
     "output_type": "execute_result"
    },
    {
     "name": "stdout",
     "output_type": "stream",
     "text": [
      "\r"
     ]
    }
   ],
   "source": [
    "lgb1 = lightgbm.LGBMRegressor()\n",
    "lgb1.fit(df1[features], df1[target])\n",
    "lgb2 = lightgbm.LGBMRegressor()\n",
    "lgb2.fit(df2[features], df2[target])"
   ]
  },
  {
   "cell_type": "code",
   "execution_count": 63,
   "metadata": {},
   "outputs": [
    {
     "data": {
      "text/html": [
       "<div>\n",
       "<style scoped>\n",
       "    .dataframe tbody tr th:only-of-type {\n",
       "        vertical-align: middle;\n",
       "    }\n",
       "\n",
       "    .dataframe tbody tr th {\n",
       "        vertical-align: top;\n",
       "    }\n",
       "\n",
       "    .dataframe thead th {\n",
       "        text-align: right;\n",
       "    }\n",
       "</style>\n",
       "<table border=\"1\" class=\"dataframe\">\n",
       "  <thead>\n",
       "    <tr style=\"text-align: right;\">\n",
       "      <th></th>\n",
       "      <th>eval_on_1</th>\n",
       "      <th>eval_on_2</th>\n",
       "    </tr>\n",
       "  </thead>\n",
       "  <tbody>\n",
       "    <tr>\n",
       "      <th>train_on_1</th>\n",
       "      <td>0.025325</td>\n",
       "      <td>0.002091</td>\n",
       "    </tr>\n",
       "    <tr>\n",
       "      <th>train_on_2</th>\n",
       "      <td>0.002315</td>\n",
       "      <td>0.025903</td>\n",
       "    </tr>\n",
       "  </tbody>\n",
       "</table>\n",
       "</div>"
      ],
      "text/plain": [
       "            eval_on_1  eval_on_2\n",
       "train_on_1   0.025325   0.002091\n",
       "train_on_2   0.002315   0.025903"
      ]
     },
     "execution_count": 63,
     "metadata": {},
     "output_type": "execute_result"
    },
    {
     "name": "stdout",
     "output_type": "stream",
     "text": [
      "\r"
     ]
    }
   ],
   "source": [
    "r2 = [\n",
    "    [\n",
    "        model.score(dfX[features], dfX[target])\n",
    "        for dfX in [df1, df2]\n",
    "    ]\n",
    "    for model in [lgb1, lgb2]\n",
    "]\n",
    "pd.DataFrame(r2, columns=[\"eval_on_1\", \"eval_on_2\"], index=[\"train_on_1\", \"train_on_2\"])"
   ]
  },
  {
   "cell_type": "code",
   "execution_count": 64,
   "metadata": {},
   "outputs": [
    {
     "data": {
      "text/html": [
       "<div>\n",
       "<style scoped>\n",
       "    .dataframe tbody tr th:only-of-type {\n",
       "        vertical-align: middle;\n",
       "    }\n",
       "\n",
       "    .dataframe tbody tr th {\n",
       "        vertical-align: top;\n",
       "    }\n",
       "\n",
       "    .dataframe thead th {\n",
       "        text-align: right;\n",
       "    }\n",
       "</style>\n",
       "<table border=\"1\" class=\"dataframe\">\n",
       "  <thead>\n",
       "    <tr style=\"text-align: right;\">\n",
       "      <th></th>\n",
       "      <th>eval_on_1</th>\n",
       "      <th>eval_on_2</th>\n",
       "    </tr>\n",
       "  </thead>\n",
       "  <tbody>\n",
       "    <tr>\n",
       "      <th>train_on_1</th>\n",
       "      <td>0.194260</td>\n",
       "      <td>0.047544</td>\n",
       "    </tr>\n",
       "    <tr>\n",
       "      <th>train_on_2</th>\n",
       "      <td>0.049658</td>\n",
       "      <td>0.197819</td>\n",
       "    </tr>\n",
       "  </tbody>\n",
       "</table>\n",
       "</div>"
      ],
      "text/plain": [
       "            eval_on_1  eval_on_2\n",
       "train_on_1   0.194260   0.047544\n",
       "train_on_2   0.049658   0.197819"
      ]
     },
     "execution_count": 64,
     "metadata": {},
     "output_type": "execute_result"
    },
    {
     "name": "stdout",
     "output_type": "stream",
     "text": [
      "\r"
     ]
    }
   ],
   "source": [
    "corrs = [\n",
    "    [\n",
    "        numerai_score(dfX[target], pd.Series(model.predict(dfX[features]), index=dfX.index))\n",
    "        for dfX in [df1, df2]\n",
    "    ]\n",
    "    for model in [lgb1, lgb2]\n",
    "]\n",
    "pd.DataFrame(corrs, columns=[\"eval_on_1\", \"eval_on_2\"], index=[\"train_on_1\", \"train_on_2\"])"
   ]
  },
  {
   "attachments": {},
   "cell_type": "markdown",
   "metadata": {},
   "source": [
    "# Gotcha: Eras are now overlapping!\n",
    "\n",
    "Eras are weekly (5 days), but the target is four weeks out (20 days). You can subsample the eras (every 4th era) to prevent models from overfitting due to overlapping eras. You can then ensemble the models trained on each of the 4 different ways to subsample."
   ]
  },
  {
   "cell_type": "code",
   "execution_count": 65,
   "metadata": {},
   "outputs": [
    {
     "data": {
      "text/plain": [
       "LGBMRegressor()"
      ]
     },
     "execution_count": 65,
     "metadata": {},
     "output_type": "execute_result"
    },
    {
     "name": "stdout",
     "output_type": "stream",
     "text": [
      "\r"
     ]
    }
   ],
   "source": [
    "# train model on all eras in df1\n",
    "lgb_all = lightgbm.LGBMRegressor()\n",
    "lgb_all.fit(df1[features], df1[target])"
   ]
  },
  {
   "cell_type": "code",
   "execution_count": 66,
   "metadata": {},
   "outputs": [
    {
     "data": {
      "text/plain": [
       "['feature_honoured_observational_balaamite',\n",
       " 'feature_polaroid_vadose_quinze',\n",
       " 'feature_untidy_withdrawn_bargeman',\n",
       " 'feature_genuine_kyphotic_trehala',\n",
       " 'feature_unenthralled_sportful_schoolhouse',\n",
       " 'feature_divulsive_explanatory_ideologue',\n",
       " 'feature_ichthyotic_roofed_yeshiva',\n",
       " 'feature_waggly_outlandish_carbonisation',\n",
       " 'feature_floriated_amish_sprite',\n",
       " 'feature_iconoclastic_parietal_agonist',\n",
       " 'feature_demolished_unfrightened_superpower',\n",
       " 'feature_styloid_subdermal_cytotoxin',\n",
       " 'feature_ironfisted_nonvintage_chlorpromazine',\n",
       " 'feature_torose_unspiritualised_kylie',\n",
       " 'feature_tearing_unkingly_adulthood',\n",
       " 'feature_stylolitic_brown_spume',\n",
       " 'feature_ferial_incumbent_engraving',\n",
       " 'feature_litigant_unsizable_rhebok',\n",
       " 'feature_floatiest_quintuplicate_carpentering',\n",
       " 'feature_tuberculate_patelliform_paging',\n",
       " 'feature_cuddlesome_undernamed_incidental',\n",
       " 'feature_loony_zirconic_hoofer',\n",
       " 'feature_indign_tardier_borough',\n",
       " 'feature_fair_papal_vinaigrette',\n",
       " 'feature_attack_unlit_milling',\n",
       " 'feature_froggier_unlearned_underworkman',\n",
       " 'feature_peninsular_pulsatile_vapor',\n",
       " 'feature_midmost_perspiratory_hubert',\n",
       " 'feature_laminable_unspecified_gynoecium',\n",
       " 'feature_bally_bathymetrical_isadora',\n",
       " 'feature_skim_unmeant_bandsman',\n",
       " 'feature_ungenuine_sporophytic_evangelist',\n",
       " 'feature_supercelestial_telic_dyfed',\n",
       " 'feature_inconsiderate_unbooted_ricer',\n",
       " 'feature_inured_conservable_forcer',\n",
       " 'feature_glibber_deficient_jakarta',\n",
       " 'feature_morbific_irredentist_interregnum',\n",
       " 'feature_conjoint_transverse_superstructure',\n",
       " 'feature_tingling_large_primordiality',\n",
       " 'feature_phyllopod_unconstrainable_blubberer',\n",
       " 'feature_deformable_unitary_schistosity',\n",
       " 'feature_unprovisioned_aquatic_deuterogamy',\n",
       " 'feature_equipped_undoubted_athanasian',\n",
       " 'feature_inflammable_numb_anticline',\n",
       " 'feature_kinky_benzal_holotype',\n",
       " 'feature_ruptured_designing_interpolator',\n",
       " 'feature_hierologic_expectable_maiolica',\n",
       " 'feature_boiling_won_rama',\n",
       " 'feature_lovelorn_aided_limiter',\n",
       " 'feature_soviet_zibeline_profiler',\n",
       " 'feature_altimetrical_muddled_symbolism',\n",
       " 'feature_bratty_disrespectable_bookstand',\n",
       " 'feature_unshaken_ahorse_wehrmacht',\n",
       " 'feature_mightier_chivalric_kana',\n",
       " 'feature_gambrel_unblessed_gigantomachy',\n",
       " 'feature_ethiopic_anhedonic_stob',\n",
       " 'feature_overstrung_dysmenorrheal_ingolstadt',\n",
       " 'feature_rose_buttoned_dandy',\n",
       " 'feature_recipient_perched_dendrochronologist',\n",
       " 'feature_spikier_ordinate_taira',\n",
       " 'feature_mercian_luddite_aganippe',\n",
       " 'feature_faint_consociate_rhytidectomy',\n",
       " 'feature_unpressed_mahratta_dah',\n",
       " 'feature_maxillary_orphic_despicability',\n",
       " 'feature_clasping_fast_menstruation',\n",
       " 'feature_obeliscal_bewildered_reviewer',\n",
       " 'feature_babist_moribund_myna',\n",
       " 'feature_underdressed_tanagrine_prying',\n",
       " 'feature_corniest_undue_scall',\n",
       " 'feature_reduplicative_appalling_metastable',\n",
       " 'feature_wrathful_prolix_colotomy',\n",
       " 'feature_limonitic_issuable_melancholy',\n",
       " 'feature_approximal_telautographic_sharkskin',\n",
       " 'feature_fribble_gusseted_stickjaw',\n",
       " 'feature_spec_subversive_plotter',\n",
       " 'feature_unsinkable_dumbstruck_octuplet',\n",
       " 'feature_integrative_reviviscent_governed',\n",
       " 'feature_tamil_grungy_empathy',\n",
       " 'feature_canopic_exigible_schoolgirl',\n",
       " 'feature_plumular_constantinian_repositing',\n",
       " 'feature_serpentiform_trinary_imponderability',\n",
       " 'feature_gyroidal_embowed_pilcher',\n",
       " 'feature_unlivable_armenian_wedge',\n",
       " 'feature_flawed_demonological_toady',\n",
       " 'feature_pruinose_raploch_roubaix',\n",
       " 'feature_seediest_ramshackle_reclamation',\n",
       " 'feature_hagiological_refer_vitamin',\n",
       " 'feature_alcibiadean_lumpier_origan',\n",
       " 'feature_encased_unamiable_hasidism',\n",
       " 'feature_evocable_woollen_guarder',\n",
       " 'feature_hunchbacked_unturning_meditation',\n",
       " 'feature_circumnavigable_naughty_retranslation',\n",
       " 'feature_testicular_slashed_ventosity',\n",
       " 'feature_potential_subsessile_disconnection',\n",
       " 'feature_unswaddled_inenarrable_goody',\n",
       " 'feature_stellular_paler_centralisation',\n",
       " 'feature_angevin_fitful_sultan',\n",
       " 'feature_subinfeudatory_brainy_carmel',\n",
       " 'feature_simpatico_cadential_pup',\n",
       " 'feature_esculent_erotic_epoxy',\n",
       " 'feature_milliary_hyperpyretic_medea',\n",
       " 'feature_coraciiform_sciurine_reef',\n",
       " 'feature_weightiest_protozoic_brawler',\n",
       " 'feature_cooled_perkiest_electrodeposition',\n",
       " 'feature_differing_peptizing_womaniser',\n",
       " 'feature_gleaming_monosyllabic_scrod',\n",
       " 'feature_unyielding_dismal_divertissement',\n",
       " 'feature_rankine_meaty_port',\n",
       " 'feature_southernmost_unhuman_arbiter',\n",
       " 'feature_singhalese_cerographical_ego',\n",
       " 'feature_malignant_campodeid_pluton',\n",
       " 'feature_dure_jaspery_mugging',\n",
       " 'feature_educational_caustic_mythologisation',\n",
       " 'feature_diverted_astral_dunghill',\n",
       " 'feature_degenerate_diaphragmatic_literalizer',\n",
       " 'feature_laced_scraggly_grimalkin',\n",
       " 'feature_wheezier_unjaundiced_game',\n",
       " 'feature_unimpressed_uninflected_theophylline',\n",
       " 'feature_shiite_overfed_mense',\n",
       " 'feature_irritant_reciprocal_pelage',\n",
       " 'feature_bricky_runed_bottleful',\n",
       " 'feature_phyletic_separate_genuflexion',\n",
       " 'feature_peckish_impetrative_kanpur',\n",
       " 'feature_unshrinking_semiarid_floccule',\n",
       " 'feature_heartier_salverform_nephew',\n",
       " 'feature_geostrophic_adaptative_karla',\n",
       " 'feature_navigational_enured_condensability',\n",
       " 'feature_confusable_pursy_plosion',\n",
       " 'feature_clenched_wayward_coelostat',\n",
       " 'feature_developed_arbitrary_traditionalist',\n",
       " 'feature_unnameable_abysmal_net',\n",
       " 'feature_completive_pedantical_sinecurist',\n",
       " 'feature_witchy_orange_muley',\n",
       " 'feature_misfeatured_sometime_tunneler',\n",
       " 'feature_agaze_lancinate_zohar',\n",
       " 'feature_subservient_wedged_limping',\n",
       " 'feature_urticant_ultracentrifugal_wane',\n",
       " 'feature_pulverized_unified_dupery',\n",
       " 'feature_stoichiometric_unanswerable_leveller',\n",
       " 'feature_cyanophyte_emasculated_turpin',\n",
       " 'feature_unruly_salian_impetuosity',\n",
       " 'feature_ataractic_swept_rubeola',\n",
       " 'feature_pansophical_agitato_theatricality',\n",
       " 'feature_recreational_homiletic_nubian',\n",
       " 'feature_burning_phrygian_axinomancy',\n",
       " 'feature_protractive_moral_forswearing',\n",
       " 'feature_certificated_putrescent_godship',\n",
       " 'feature_dietetic_unscholarly_methamphetamine',\n",
       " 'feature_vegetable_manlier_macaco',\n",
       " 'feature_anthropoid_pithy_newscast',\n",
       " 'feature_verifying_imagism_sublease',\n",
       " 'feature_deckled_exaggerative_algol',\n",
       " 'feature_songful_intercostal_frightener',\n",
       " 'feature_additive_untrustworthy_hierologist',\n",
       " 'feature_translative_quantitative_eschewer',\n",
       " 'feature_coseismic_surpassable_invariance',\n",
       " 'feature_blubbery_octahedral_bushfire',\n",
       " 'feature_continued_conjugated_natalia',\n",
       " 'feature_dissident_templed_shippon',\n",
       " 'feature_wally_unrotted_eccrinology',\n",
       " 'feature_unforgivable_airtight_reinsurance',\n",
       " 'feature_unrelenting_intravascular_mesenchyme',\n",
       " 'feature_linear_scummiest_insobriety',\n",
       " 'feature_ovine_bramblier_leaven',\n",
       " 'feature_uninforming_predictable_pepino',\n",
       " 'feature_pluviometrical_biannual_saiga',\n",
       " 'feature_affettuoso_taxidermic_greg',\n",
       " 'feature_lateral_confervoid_belgravia',\n",
       " 'feature_coalier_hircine_brokerage',\n",
       " 'feature_undiverted_analyzed_accidie',\n",
       " 'feature_favourable_swankiest_tympanist',\n",
       " 'feature_refractory_topped_dependance',\n",
       " 'feature_bustled_fieriest_doukhobor',\n",
       " 'feature_isobilateral_olden_nephron',\n",
       " 'feature_circassian_leathern_impugner',\n",
       " 'feature_signed_ringent_sunna',\n",
       " 'feature_cornute_potentiometric_tinhorn',\n",
       " 'feature_veristic_parklike_halcyon',\n",
       " 'feature_geochemical_unsavoury_collection',\n",
       " 'feature_guerrilla_arrested_flavine',\n",
       " 'feature_undependable_stedfast_donegal',\n",
       " 'feature_bijou_penetrant_syringa',\n",
       " 'feature_lamarckian_tarnal_egestion',\n",
       " 'feature_horticultural_footworn_superscription',\n",
       " 'feature_unwithered_personate_dilatation',\n",
       " 'feature_wrought_muckier_temporality',\n",
       " 'feature_rival_undepraved_countermarch',\n",
       " 'feature_irrevocable_unlawful_oral',\n",
       " 'feature_flawy_caller_superior',\n",
       " 'feature_elohistic_totalitarian_underline',\n",
       " 'feature_unrecognisable_waxier_paging',\n",
       " 'feature_paraffinoid_flashiest_brotherhood',\n",
       " 'feature_depauperate_armipotent_decentralisation',\n",
       " 'feature_palpebral_univalve_pennoncel',\n",
       " 'feature_received_veiniest_tamarix',\n",
       " 'feature_scissile_dejected_kainite',\n",
       " 'feature_narcotized_collectivist_evzone',\n",
       " 'feature_jamesian_scutiform_ionium',\n",
       " 'feature_gambogian_feudalist_diocletian',\n",
       " 'feature_moneyed_mesophytic_lester',\n",
       " 'feature_purblind_autarkic_pyrenoid',\n",
       " 'feature_paleolithic_myalgic_lech',\n",
       " 'feature_fortyish_neptunian_catechumenate',\n",
       " 'feature_tricksiest_pending_voile',\n",
       " 'feature_forcipate_laced_greenlet',\n",
       " 'feature_overjoyed_undriven_sauna',\n",
       " 'feature_small_cumulative_graywacke',\n",
       " 'feature_incertain_catchable_zibet',\n",
       " 'feature_unsustaining_chewier_adnoun',\n",
       " 'feature_ruthenic_peremptory_truth',\n",
       " 'feature_drier_worshipping_hetairist',\n",
       " 'feature_incredible_plane_sacque',\n",
       " 'feature_inducible_home_immovability',\n",
       " 'feature_feral_telling_marquessate',\n",
       " 'feature_agitato_unlineal_perspicacity',\n",
       " 'feature_turanian_satiable_millicent',\n",
       " 'feature_girlish_uncoated_shammy',\n",
       " 'feature_runniest_unstaying_toom',\n",
       " 'feature_smashed_gynaecoid_septa',\n",
       " 'feature_humiliating_numerate_goldminer',\n",
       " 'feature_steadier_untrenched_bernstein',\n",
       " 'feature_battled_premillennial_omelette',\n",
       " 'feature_hefty_hesitant_mantissa',\n",
       " 'feature_unscaling_pedantic_fingernail',\n",
       " 'feature_peachiest_felted_removal',\n",
       " 'feature_bloomed_touchable_alastair',\n",
       " 'feature_indefinite_plenipotent_absorbent',\n",
       " 'feature_subfusc_furriest_nervule',\n",
       " 'feature_yeasty_castilian_nicaragua',\n",
       " 'feature_antacid_thermogenic_wilhelm',\n",
       " 'feature_peak_interpretive_lahti',\n",
       " 'feature_lithotomical_periodontal_systemization',\n",
       " 'feature_martinique_tingliest_gynaecocracy',\n",
       " 'feature_nymphomaniac_disappointing_greenaway',\n",
       " 'feature_discombobulated_fourierism_histopathologist',\n",
       " 'feature_tallish_grimier_tumbrel',\n",
       " 'feature_partitive_labyrinthine_sard',\n",
       " 'feature_granulitic_cordial_infield',\n",
       " 'feature_piebald_unresisted_soldo',\n",
       " 'feature_inhospitable_necked_duckbill',\n",
       " 'feature_stolid_unhacked_schoolgirl',\n",
       " 'feature_blushful_protean_granduncle',\n",
       " 'feature_scombroid_genoese_kilojoule',\n",
       " 'feature_untired_flighty_tungstate',\n",
       " 'feature_adjustable_ruffled_lumberjacket',\n",
       " 'feature_toadyish_illiterate_famishment',\n",
       " 'feature_inaccessible_radioactive_glassine',\n",
       " 'feature_augean_contraceptive_subsequence',\n",
       " 'feature_unbearded_rustiest_fiddlewood',\n",
       " 'feature_contrasty_ablaze_canaster',\n",
       " 'feature_uncharmed_rallying_ostracon',\n",
       " 'feature_spicate_photolithographic_buckskin',\n",
       " 'feature_disliked_undersized_vermiculation',\n",
       " 'feature_gerundival_puristic_gobioid',\n",
       " 'feature_frogged_slightest_patmore',\n",
       " 'feature_fascial_biserrate_pout',\n",
       " 'feature_coercible_fecal_steradian',\n",
       " 'feature_inadequate_unisex_internationalisation',\n",
       " 'feature_darkened_campanulate_decerebrate',\n",
       " 'feature_costliest_heavenly_bovver',\n",
       " 'feature_topologic_subcaliber_radiotelephony',\n",
       " 'feature_nephritic_grammatical_lithograph',\n",
       " 'feature_diluted_maxillary_denouement',\n",
       " 'feature_lenient_electrothermal_phoenix',\n",
       " 'feature_flauntier_forethoughtful_festival',\n",
       " 'feature_phasmid_accommodating_aftercare',\n",
       " 'feature_kingly_gemmological_electrodynamometer',\n",
       " 'feature_applausive_forgettable_mishanter',\n",
       " 'feature_unconfessed_paltry_finn',\n",
       " 'feature_botchier_universalistic_nullifier',\n",
       " 'feature_excursive_slaggy_confutation',\n",
       " 'feature_tearing_inharmonic_employee',\n",
       " 'feature_exhilarative_agleam_hebron',\n",
       " 'feature_grasping_unmetrical_trollopian',\n",
       " 'feature_interruptive_breached_protanomaly',\n",
       " 'feature_emarginate_enigmatical_yiddish',\n",
       " 'feature_reviving_mystifying_antwerp',\n",
       " 'feature_planular_naturistic_pinhead',\n",
       " 'feature_insipid_unshakable_panne',\n",
       " 'feature_abreast_viscoelastic_commander',\n",
       " 'feature_uneffaced_unintermitted_spurt',\n",
       " 'feature_tenth_contrasting_slice',\n",
       " 'feature_geomorphological_uncompanioned_colander',\n",
       " 'feature_deflective_demographic_saragossa',\n",
       " 'feature_teratogenic_wet_calkin',\n",
       " 'feature_graceful_vaunted_accommodator',\n",
       " 'feature_perpetuable_stuffed_manxman',\n",
       " 'feature_belittled_scenographic_antidisestablishmentarianism',\n",
       " 'feature_plausive_skaldic_shoebox',\n",
       " 'feature_incognita_cleaned_asphyxiant',\n",
       " 'feature_biaxal_forworn_sixty',\n",
       " 'feature_dressy_skiable_hypognathism',\n",
       " 'feature_maltese_flaggiest_platelayer',\n",
       " 'feature_gory_medullated_waverer',\n",
       " 'feature_precursory_maltese_wetting',\n",
       " 'feature_overexcitable_filmier_queening',\n",
       " 'feature_analgesic_ardent_conservatoire',\n",
       " 'feature_realisable_defeatist_japer',\n",
       " 'feature_adventive_isohyetal_newshawk',\n",
       " 'feature_interatomic_doggish_teutonisation',\n",
       " 'feature_peeled_singing_smacking',\n",
       " 'feature_sophomoric_perseverant_sclaff',\n",
       " 'feature_regrettable_liberating_crabber',\n",
       " 'feature_polyzoarial_histologic_shallop',\n",
       " 'feature_revitalizing_intersectional_dysthymia',\n",
       " 'feature_sanctioned_sunny_lily',\n",
       " 'feature_chariest_unimplored_towboat',\n",
       " 'feature_unchaste_raisable_tetraploidy',\n",
       " 'feature_disapproving_behind_dampener',\n",
       " 'feature_instinctive_dappled_upholder',\n",
       " 'feature_unforeboding_succeeding_wildcatter',\n",
       " 'feature_cockiest_ditheistical_pennyworth',\n",
       " 'feature_baggier_supernormal_calcedony',\n",
       " 'feature_unmethodized_straining_heartburning',\n",
       " 'feature_holometabolic_speeding_subinfeudatory',\n",
       " 'feature_maigre_twinkling_overstand',\n",
       " 'feature_handled_crescent_ciselure',\n",
       " 'feature_touring_urnfield_sequestrum',\n",
       " 'feature_sunproof_unmurmuring_heliotype',\n",
       " 'feature_apprehensible_assuring_schappe',\n",
       " 'feature_ministrative_slurred_parenchyma',\n",
       " 'feature_squabbiest_receivable_foreyard',\n",
       " 'feature_daytime_arching_expropriator',\n",
       " 'feature_underdeveloped_eastern_goner',\n",
       " 'feature_noetic_thermometric_pique',\n",
       " 'feature_glial_birefringent_popery',\n",
       " 'feature_rural_apogean_titbit',\n",
       " 'feature_aaronic_unexampled_arguer',\n",
       " 'feature_chorial_sapheaded_humberside',\n",
       " 'feature_juvenalian_typical_langton',\n",
       " 'feature_heterotactic_masculine_liquidity',\n",
       " 'feature_piping_unabolished_statocyst',\n",
       " 'feature_scroddled_groaning_sanctuary',\n",
       " 'feature_overlarge_societal_alternator',\n",
       " 'feature_unquestioning_dappled_phenomenalism',\n",
       " 'feature_pacifist_unmeaning_haslet',\n",
       " 'feature_cantharidian_lightful_cubicle',\n",
       " 'feature_supportive_sublime_phenolic',\n",
       " 'feature_derogate_bigoted_mnemonic',\n",
       " 'feature_balinese_uncomforted_mimicker',\n",
       " 'feature_revolutionist_proportionate_headscarf',\n",
       " 'feature_anticivic_blistery_knot',\n",
       " 'feature_anamnestic_conformable_spaceship',\n",
       " 'feature_leprose_corroborant_incapacitation',\n",
       " 'feature_trifling_sleety_amylase',\n",
       " 'feature_tutelary_mangier_cryoscopy',\n",
       " 'feature_depressant_blinded_yellowstone',\n",
       " 'feature_untinned_dextrogyrate_fining',\n",
       " 'feature_saturated_protozoal_unsociability',\n",
       " 'feature_nutant_legatine_fairfax',\n",
       " 'feature_suety_mystagogical_islamization',\n",
       " 'feature_defeasible_bustiest_trimetrogon',\n",
       " 'feature_unsatisfactory_lovelorn_brainstorm',\n",
       " 'feature_terminative_extroverted_interpretation',\n",
       " 'feature_antitussive_vixenly_sacque',\n",
       " 'feature_poetical_individualist_laterite',\n",
       " 'feature_convergent_reborn_autoroute',\n",
       " \"feature_seminarial_catachrestic_i've\",\n",
       " 'feature_tangled_dropsical_uprooter',\n",
       " 'feature_colourable_lapsable_foliage',\n",
       " 'feature_heterotopic_choreographic_argentina',\n",
       " 'feature_choric_illustrated_inch',\n",
       " 'feature_epithelial_apodictic_constructivism',\n",
       " 'feature_resorbent_unmurmuring_humoring',\n",
       " 'feature_uneducated_afraid_sip',\n",
       " 'feature_spellable_quintic_idiotism',\n",
       " 'feature_spiroid_semblable_glimpse',\n",
       " 'feature_metagrobolized_incorrigible_berkelium',\n",
       " 'feature_marled_coliform_proctorship',\n",
       " 'feature_jammed_stearic_gaper',\n",
       " 'feature_biosynthetic_wambly_cullender',\n",
       " 'feature_digressive_ratty_supernatant',\n",
       " 'feature_incredible_glimmering_hoydenism',\n",
       " 'feature_scrappier_seen_phalanx',\n",
       " 'feature_defective_sectional_stenotype',\n",
       " 'feature_unworked_tribadic_catalyst',\n",
       " 'feature_woodier_slimmest_supplanter',\n",
       " 'feature_conducive_underlying_snood',\n",
       " 'feature_prostate_kernelly_chromogen',\n",
       " 'feature_muggiest_explicit_barnardo',\n",
       " 'feature_banal_microanalytical_posset',\n",
       " 'feature_constrained_disused_perishable',\n",
       " 'feature_apt_trimeter_bucketful',\n",
       " 'feature_retardative_telencephalic_heme',\n",
       " 'feature_quintuplicate_hortative_merionethshire',\n",
       " 'feature_tetraploid_vorticose_mil',\n",
       " 'feature_likeliest_exhaled_middlemarch',\n",
       " 'feature_rhinological_downier_gamb',\n",
       " 'feature_anencephalic_unattempted_pschent',\n",
       " 'feature_bronchitic_miscible_inwall',\n",
       " 'feature_sophistic_translucid_abutment',\n",
       " 'feature_fortissimo_undrawn_ratio',\n",
       " 'feature_appellant_verbalized_duckbill',\n",
       " 'feature_sinister_footworn_tilling',\n",
       " 'feature_expectative_zonate_stockbroker',\n",
       " 'feature_entrepreneurial_glumpiest_longhorn',\n",
       " 'feature_recommendatory_prissy_flutter',\n",
       " 'feature_blathering_unwell_despiser',\n",
       " 'feature_manufactured_nodal_seeking',\n",
       " 'feature_intromittent_surer_pederasty',\n",
       " 'feature_uninquiring_unspiritualized_gradualism',\n",
       " 'feature_undealt_tonal_fictionalization',\n",
       " 'feature_undrawn_oldish_deprivation',\n",
       " 'feature_brainish_nonabsorbent_assurance',\n",
       " 'feature_pacific_sleeved_devise',\n",
       " 'feature_multipolar_syncopated_ambrotype',\n",
       " 'feature_asphyxiated_peaceful_effleurage',\n",
       " 'feature_twistable_comely_licensee',\n",
       " 'feature_overweening_incommunicable_pealing',\n",
       " 'feature_phagocytic_humanistic_chappal',\n",
       " 'feature_cyanotic_unblissful_aeration',\n",
       " 'feature_unconstitutional_chiseled_coalport',\n",
       " 'feature_embolic_menial_mariculture',\n",
       " 'feature_pectoral_couthie_epiphenomenon',\n",
       " 'feature_literal_memoriter_heavy',\n",
       " 'feature_sunset_slouchy_alisma',\n",
       " 'feature_subglobose_sleekier_calcaneum',\n",
       " 'feature_addressable_intransitive_reconnoitrer',\n",
       " 'feature_coastal_edible_whang',\n",
       " 'feature_flamier_confusing_dithering',\n",
       " 'feature_waxing_jaggy_bondswoman',\n",
       " 'feature_hidden_blue_bibber',\n",
       " 'feature_marginal_irredeemable_neat',\n",
       " 'feature_baptist_undelayed_mannerism',\n",
       " 'feature_eruciform_scorbutic_overkill',\n",
       " 'feature_lentissimo_zymolytic_earwig',\n",
       " 'feature_unreprimanded_evocable_briard',\n",
       " 'feature_unqualifying_pursuant_antihistamine',\n",
       " 'feature_crisscrossed_audible_hafiz',\n",
       " 'feature_ugrian_schizocarpic_skulk',\n",
       " 'feature_associable_additional_bough',\n",
       " 'feature_doggone_seeable_mask',\n",
       " 'feature_interconnected_correlatable_exogamy',\n",
       " 'feature_uranian_gorier_melancholy',\n",
       " 'feature_petitory_norwegian_tsaritza',\n",
       " 'feature_wounded_crook_gargoylism',\n",
       " 'feature_crapulent_appropriate_kanga',\n",
       " 'feature_smuggest_galvanic_memorial',\n",
       " 'feature_indefeasible_abject_faucet',\n",
       " 'feature_cased_polycrystalline_groschen',\n",
       " 'feature_adolescent_anguilliform_staging',\n",
       " 'feature_escheatable_miscreative_provence',\n",
       " 'feature_coloratura_preclusive_micromillimetre',\n",
       " 'feature_agape_untamable_towmond',\n",
       " 'feature_underemployed_opiate_aube',\n",
       " 'feature_trad_unreduced_banian',\n",
       " 'feature_fogyish_cruciate_starter',\n",
       " 'feature_winglike_hydropathic_sedimentology',\n",
       " 'feature_conglomerate_amphipod_sewellel',\n",
       " 'feature_unpainted_censual_pinacoid',\n",
       " 'feature_isoseismic_rhinocerotic_narceine',\n",
       " 'feature_virtuosic_afflicted_sumatra',\n",
       " 'feature_fatalistic_cramoisy_locative',\n",
       " 'feature_chorionic_coated_undergraduette',\n",
       " 'feature_tinkly_driftiest_maurya',\n",
       " 'feature_pulsing_ionian_flatterer',\n",
       " 'feature_downiest_spenserian_evadne',\n",
       " 'feature_logistical_ahistorical_congregation',\n",
       " 'feature_sensationalistic_puritan_mirador',\n",
       " 'feature_steely_delusory_anesthesiologist',\n",
       " 'feature_dissymmetric_stressed_stonewalling',\n",
       " 'feature_lathery_uncarpeted_prolactin',\n",
       " 'feature_coronate_congeneric_stockhausen',\n",
       " 'feature_fremd_cricoid_gibberellin',\n",
       " 'feature_aleatory_phallic_swingtree',\n",
       " 'feature_tragical_rainbowy_seafarer',\n",
       " 'feature_chaliced_evolutional_street',\n",
       " 'feature_legged_spatiotemporal_basalt',\n",
       " 'feature_obligate_quadruplication_feathering',\n",
       " 'feature_sane_disqualifying_whimperer',\n",
       " 'feature_grassier_sizy_chorale',\n",
       " 'feature_interpenetrative_boustrophedon_proudhon',\n",
       " 'feature_quaternate_loftier_directorate',\n",
       " 'feature_pulmonic_bladed_affray',\n",
       " 'feature_stunning_unladen_ockham',\n",
       " 'feature_superhuman_coenobitical_scotticism',\n",
       " 'feature_undisguised_photoelectric_floorboard',\n",
       " 'feature_sodding_choosy_eruption',\n",
       " 'feature_perverted_unapproving_sawyer',\n",
       " 'feature_etched_furry_biriani',\n",
       " 'feature_financed_striped_libertarian',\n",
       " 'feature_pudendal_unterrifying_hagdon',\n",
       " 'feature_standardized_rosiny_suslik',\n",
       " 'feature_rifled_mum_ova',\n",
       " 'feature_vibratory_prejudicial_quadrillion',\n",
       " 'feature_prototypical_daylong_glop',\n",
       " 'feature_enervated_tearier_septation',\n",
       " 'feature_leafiest_unrepaired_indemnification',\n",
       " 'feature_ecumenical_neuron_equity',\n",
       " 'feature_castrated_inculpatory_pea',\n",
       " 'feature_unstarched_isogonic_alternation',\n",
       " 'feature_unthawed_moved_theft',\n",
       " 'feature_depleted_omnidirectional_baluchi',\n",
       " 'feature_unsocial_pouring_barbe',\n",
       " 'feature_like_inflorescent_sierra',\n",
       " 'feature_mauve_supernumerary_hogan',\n",
       " 'feature_harmonized_intrinsic_disapproval',\n",
       " 'feature_unplumb_prefectorial_gloucester',\n",
       " 'feature_towery_eighteenth_enough',\n",
       " 'feature_kinematical_absorbable_specialisation',\n",
       " 'feature_lamplit_unengaged_mommy',\n",
       " 'feature_unmoaned_attritional_crenation',\n",
       " 'feature_deltoid_chalkier_connecticut',\n",
       " 'feature_disincentive_unchallenged_aerobe',\n",
       " 'feature_regurgitate_demolition_downstate',\n",
       " 'feature_antenuptial_moonlit_incidence',\n",
       " 'feature_disclosed_transcendental_pungency',\n",
       " 'feature_certified_sensorial_occiput',\n",
       " 'feature_froward_flattering_cretic',\n",
       " 'feature_packaged_topological_paradigm',\n",
       " 'feature_interfemoral_battered_ghetto',\n",
       " 'feature_intrusive_sniffy_gangland',\n",
       " 'feature_pedicular_fanfold_beseecher',\n",
       " 'feature_effortful_inenarrable_johnsonianism',\n",
       " 'feature_tardigrade_intercommunal_propitiatory',\n",
       " 'feature_elasmobranch_braving_typhoid',\n",
       " 'feature_aweary_fruiting_climb',\n",
       " 'feature_unwomanly_pitying_saffian',\n",
       " 'feature_aeriform_discomposed_moolvie',\n",
       " 'feature_laniary_chelated_rejoicing',\n",
       " 'feature_tricksome_unimproved_accidental',\n",
       " 'feature_unperched_forgetive_vasoconstrictor',\n",
       " 'feature_cislunar_ritardando_gadwall',\n",
       " 'feature_autumn_prefectural_viscera',\n",
       " 'feature_quaint_lyophobic_draper',\n",
       " 'feature_exploding_delectable_aril',\n",
       " 'feature_hemihedral_fumed_marquisette',\n",
       " 'feature_nephritic_unrelievable_piperonal',\n",
       " 'feature_mesarch_discreditable_calming',\n",
       " 'feature_disillusive_saltant_placidity',\n",
       " 'feature_knowing_humid_justifiability',\n",
       " 'feature_croaking_japhetic_fifer',\n",
       " 'feature_prothallium_burst_pledget',\n",
       " 'feature_unassimilable_chunky_flattie',\n",
       " 'feature_inhibiting_supernatural_runyon',\n",
       " 'feature_resentful_eisteddfodic_assyrian',\n",
       " 'feature_studded_premonitory_periostracum',\n",
       " 'feature_dendritic_phytographic_skydiving',\n",
       " 'feature_transpositional_undisciplinable_ancestor',\n",
       " 'feature_redeemed_petiolar_lethe',\n",
       " 'feature_enveloping_diabolic_serviette',\n",
       " 'feature_excaudate_laboured_loquitur',\n",
       " 'feature_unsympathetic_classic_abac',\n",
       " 'feature_concise_tangy_bentham',\n",
       " 'feature_freezing_unrenewed_gillray',\n",
       " 'feature_intranational_sepulchral_clacton',\n",
       " 'feature_mesarch_disentangled_catalytic',\n",
       " 'feature_cauline_herpetic_videocassette',\n",
       " 'feature_gravest_insincere_bronwen',\n",
       " 'feature_plutocratic_cressy_plasterboard',\n",
       " 'feature_massive_demisable_spouse',\n",
       " 'feature_ugly_admissible_firm',\n",
       " 'feature_reproachable_foliaged_lysozyme',\n",
       " 'feature_sunburnt_sympodial_cookhouse',\n",
       " 'feature_squirarchal_bioplasmic_delay',\n",
       " 'feature_differential_intercrossed_royalism',\n",
       " 'feature_revelational_natty_nephralgia',\n",
       " 'feature_wendish_synchronal_advertency',\n",
       " 'feature_subversive_guardable_kago',\n",
       " 'feature_vulcanian_brimstony_autobiographer',\n",
       " 'feature_unsoaped_waspier_much',\n",
       " 'feature_vermillion_platyrrhine_demulsification',\n",
       " 'feature_unventilated_sollar_bason',\n",
       " 'feature_godliest_consistorian_woodpecker',\n",
       " 'feature_interchangeable_yellow_thinker',\n",
       " 'feature_unknighted_unarticulated_stalag',\n",
       " 'feature_odd_desiderative_godet',\n",
       " 'feature_undermanned_transfusible_executive',\n",
       " 'feature_jiggish_mechanized_patricide',\n",
       " 'feature_tetrabasic_enervated_hemiparasite',\n",
       " 'feature_chiseled_dastard_analyst',\n",
       " 'feature_natant_wriest_dollop',\n",
       " 'feature_speediest_nautical_edge',\n",
       " 'feature_fertilised_lakier_offside',\n",
       " 'feature_parsonish_rutty_citronella',\n",
       " 'feature_cyclone_disappointing_trollopean',\n",
       " 'feature_nymphomaniac_cleaned_museologist',\n",
       " 'feature_immovable_liquified_potpie',\n",
       " 'feature_utmost_excitable_emir',\n",
       " 'feature_gathered_owlish_judgment',\n",
       " 'feature_dichotomic_tenpenny_myotonia',\n",
       " 'feature_reverable_sunk_quiet',\n",
       " 'feature_sweatier_orbital_arrhenotoky',\n",
       " 'feature_hydrokinetic_idyllic_archetype',\n",
       " 'feature_unapprehensive_thickety_etherification',\n",
       " 'feature_unweary_avionic_claudine',\n",
       " 'feature_imitable_unnatural_samuel',\n",
       " 'feature_wuthering_stinky_bimetallist',\n",
       " 'feature_mantuan_cricoid_responder',\n",
       " 'feature_undesirable_candied_computist',\n",
       " 'feature_tethered_exceptive_altimeter',\n",
       " 'feature_mediative_sufferable_serosity',\n",
       " 'feature_pinnatiped_unelected_irreverence',\n",
       " 'feature_coated_transitory_oersted',\n",
       " 'feature_epicontinental_centum_raine',\n",
       " 'feature_desensitizing_distributive_bidder',\n",
       " 'feature_syncytial_exterior_remora',\n",
       " 'feature_sullied_vulval_disappointing',\n",
       " 'feature_fungible_allotted_deterioration',\n",
       " 'feature_saut_shalwar_culpability',\n",
       " 'feature_dental_stormier_chape',\n",
       " 'feature_irresponsible_unearthly_neat',\n",
       " 'feature_alive_romansh_stinging',\n",
       " 'feature_thermophile_noisette_swamper',\n",
       " 'feature_totipalmate_rightable_occultist',\n",
       " 'feature_acanthoid_slimiest_decor',\n",
       " 'feature_submontane_schmaltzy_piggyback',\n",
       " 'feature_wannish_record_lunette',\n",
       " 'feature_satisfied_aymaran_enterotomy',\n",
       " 'feature_smuggled_scarabaeoid_fastball',\n",
       " 'feature_tiptoe_decadent_statue',\n",
       " 'feature_sematic_helminthoid_tricentenary',\n",
       " 'feature_untamed_contemplative_deism',\n",
       " 'feature_disprovable_topmost_burrower',\n",
       " 'feature_weedier_indistinctive_haranguer',\n",
       " 'feature_undrilled_wheezier_countermand',\n",
       " 'feature_indentured_insuperable_spider',\n",
       " 'feature_municipal_curvier_hegelianism',\n",
       " 'feature_pitchiest_dresden_barnard',\n",
       " 'feature_korean_bassy_strewing',\n",
       " 'feature_homelike_telltale_silvan',\n",
       " 'feature_faddiest_clement_repatriation',\n",
       " 'feature_quaggy_chilliest_inchoative',\n",
       " 'feature_explanatory_immature_cautery',\n",
       " 'feature_versicular_buoyant_codetta',\n",
       " 'feature_expended_evitable_darwinian',\n",
       " 'feature_corporatist_seborrheic_hopi',\n",
       " 'feature_undisguised_unenviable_stamen',\n",
       " 'feature_trisomic_hagiographic_fragrance',\n",
       " 'feature_fearsome_merry_bluewing',\n",
       " 'feature_blind_concordant_tribalist',\n",
       " 'feature_strigose_rugose_interjector',\n",
       " 'feature_binding_lanky_rushing',\n",
       " 'feature_carolean_tearable_smoothie',\n",
       " 'feature_nappiest_unportioned_readjustment',\n",
       " 'feature_sarmatia_foldable_eutectic',\n",
       " 'feature_plum_anemometrical_guessing',\n",
       " 'feature_gubernacular_liguloid_frankie',\n",
       " 'feature_castigatory_hundredfold_hearthrug',\n",
       " 'feature_pennsylvanian_sibylic_chanoyu',\n",
       " 'feature_unreaving_intensive_docudrama',\n",
       " 'feature_relinquished_incognizable_batholith',\n",
       " 'feature_indusiate_canned_cosh',\n",
       " 'feature_maglemosian_kittle_coachbuilding',\n",
       " 'feature_unreeling_homeothermic_macedonia',\n",
       " 'feature_asteriated_invigorated_penitence',\n",
       " 'feature_anucleate_knotted_nonage',\n",
       " 'feature_shrinelike_unreplaceable_nitrogenization',\n",
       " 'feature_lacerable_backmost_vaseline',\n",
       " 'feature_unreceipted_latest_lesser',\n",
       " 'feature_unimaginable_sec_kaka',\n",
       " 'feature_goidelic_gobelin_ledge',\n",
       " 'feature_incondite_undisappointing_telephotograph',\n",
       " 'feature_concoctive_symmetric_abulia',\n",
       " 'feature_anglophobic_unformed_maneuverer',\n",
       " 'feature_gravimetric_ski_enigma',\n",
       " 'feature_balmiest_spinal_roundelay',\n",
       " 'feature_required_bibliological_tonga',\n",
       " 'feature_amoroso_wimpish_maturing',\n",
       " 'feature_exertive_unmodernised_scaup',\n",
       " 'feature_rude_booziest_ilium',\n",
       " 'feature_uncompelled_curvy_amerindian',\n",
       " 'feature_septuple_bonapartean_sanbenito',\n",
       " 'feature_tottery_unmetalled_codder',\n",
       " 'feature_tachygraphical_sedimentological_mesoderm',\n",
       " 'feature_adsorbed_blizzardy_burlesque',\n",
       " 'feature_wistful_tussive_cycloserine',\n",
       " 'feature_superjacent_grubby_axillary',\n",
       " 'feature_biological_caprine_cannoneer',\n",
       " 'feature_unreversed_fain_jute',\n",
       " 'feature_unexalted_rebel_kofta',\n",
       " 'feature_doggish_mouthwatering_abelard',\n",
       " 'feature_forfeit_contributing_joinder',\n",
       " 'feature_necked_moresque_lowell',\n",
       " 'feature_footling_unpuckered_lophophore',\n",
       " 'feature_thorniest_laughable_hindustani',\n",
       " 'feature_hotter_cattish_aridity',\n",
       " 'feature_developing_behind_joan',\n",
       " 'feature_ectodermal_mandaean_saffian',\n",
       " 'feature_crimpier_gude_housedog',\n",
       " 'feature_probationary_readying_roundelay',\n",
       " 'feature_inserted_inconvertible_functioning',\n",
       " 'feature_manifold_melodramatic_girl',\n",
       " 'feature_drizzling_refrigerative_imperfection',\n",
       " 'feature_sardonic_primary_shadwell',\n",
       " 'feature_monocyclic_galliambic_par',\n",
       " 'feature_smutty_prohibited_sullivan',\n",
       " 'feature_productile_auriform_fil',\n",
       " 'feature_accommodable_crinite_cleft',\n",
       " 'feature_clipped_kurdish_grainer',\n",
       " 'feature_dustproof_unafraid_stampede',\n",
       " 'feature_neutered_postpositive_writ',\n",
       " 'feature_twelve_haphazard_pantography',\n",
       " 'feature_riskier_ended_typo',\n",
       " 'feature_smaller_colored_immurement',\n",
       " 'feature_snatchy_xylic_institution',\n",
       " 'feature_conchal_angriest_oophyte',\n",
       " 'feature_multiseriate_oak_benzidine',\n",
       " 'feature_gobioid_transhuman_interconnection',\n",
       " 'feature_reservable_peristomal_emden',\n",
       " 'feature_inestimable_unmoral_extraversion',\n",
       " 'feature_nubby_sissified_value',\n",
       " 'feature_incorporating_abominable_daily',\n",
       " 'feature_herbaged_brownish_consubstantialist',\n",
       " 'feature_solemn_wordier_needlework',\n",
       " 'feature_evangelistic_cruel_dissimilitude',\n",
       " 'feature_impetratory_shuttered_chewer',\n",
       " 'feature_referenced_biliteral_chiropody',\n",
       " 'feature_eleatic_fellow_auctioneer',\n",
       " 'feature_malpighian_vaporized_biogen',\n",
       " 'feature_expiscatory_wriest_colportage',\n",
       " 'feature_yelled_hysteretic_eath',\n",
       " 'feature_bitterish_buttocked_turtleneck',\n",
       " 'feature_percipient_atelectatic_cinnamon',\n",
       " 'feature_gobony_premonitory_twinkler',\n",
       " 'feature_twittery_tai_attainment',\n",
       " 'feature_crooked_wally_lobation',\n",
       " 'feature_crookback_workable_infringement',\n",
       " 'feature_brawling_unpeppered_comedian',\n",
       " 'feature_glyphographic_reparable_empyrean',\n",
       " 'feature_noctilucent_subcortical_proportionality',\n",
       " 'feature_guardian_frore_rolling',\n",
       " 'feature_denuded_typed_wattmeter',\n",
       " 'feature_unreachable_neritic_saracen',\n",
       " 'feature_enzymatic_poorest_advocaat',\n",
       " 'feature_wariest_vulnerable_unmorality',\n",
       " 'feature_guttering_half_spondee',\n",
       " 'feature_distressed_bloated_disquietude',\n",
       " 'feature_leaky_overloaded_rhodium',\n",
       " 'feature_unsapped_anionic_catherine',\n",
       " 'feature_kissable_forfeit_egotism',\n",
       " 'feature_unsizable_ancestral_collocutor',\n",
       " 'feature_healthier_unconnected_clave',\n",
       " 'feature_cirsoid_buddhism_vespa',\n",
       " 'feature_rid_conveyable_cinchonization',\n",
       " 'feature_donsie_folkish_renitency',\n",
       " 'feature_agee_sold_microhabitat',\n",
       " 'feature_newfangled_huddled_gest',\n",
       " 'feature_clandestine_inkiest_silkworm',\n",
       " 'feature_unutterable_softening_roper',\n",
       " 'feature_balaamitical_electropositive_exhaustibility',\n",
       " 'feature_unvalued_untangled_keener',\n",
       " 'feature_undisturbing_quadrifid_reinhardt',\n",
       " 'feature_bucked_costume_malagasy',\n",
       " 'feature_joint_unreturning_basalt',\n",
       " 'feature_coordinate_shyer_evildoing',\n",
       " 'feature_carunculate_discursive_hectare',\n",
       " 'feature_cynic_unreckonable_feoffment',\n",
       " 'feature_cnidarian_micrologic_sousaphone',\n",
       " 'feature_unperceivable_unrumpled_appendant',\n",
       " 'feature_dissolvable_chrismal_obtund',\n",
       " 'feature_choosier_uncongenial_coachwood',\n",
       " 'feature_grimmest_prostate_doctrinaire',\n",
       " 'feature_granulative_uncritical_agostini',\n",
       " 'feature_convalescence_deuteranopic_lemuroid',\n",
       " 'feature_disintegrable_snakier_zion',\n",
       " 'feature_thoughtful_accommodable_lack',\n",
       " 'feature_basophil_urdy_matzo',\n",
       " 'feature_repellant_unwanted_clarinetist',\n",
       " 'feature_antimonarchist_ordainable_quarterage',\n",
       " 'feature_hardback_saturnalian_cyclometer',\n",
       " 'feature_mythic_florentine_psammite',\n",
       " 'feature_serpentiform_incomplete_bessarabia',\n",
       " 'feature_unappeasable_employed_photoelectron',\n",
       " 'feature_seaboard_adducent_polynesian',\n",
       " 'feature_genoese_uncreditable_subregion',\n",
       " 'feature_dexter_unstifled_snoring',\n",
       " 'feature_protonematal_springtime_varioloid',\n",
       " 'feature_orchitic_reported_coloration',\n",
       " 'feature_stelliform_curling_trawler',\n",
       " 'feature_athenian_pragmatism_isomorphism',\n",
       " 'feature_abating_unadaptable_weakfish',\n",
       " 'feature_instructional_desensitized_symmetallism',\n",
       " 'feature_disarrayed_rarefactive_trisulphide',\n",
       " 'feature_partible_amphibrachic_classicism',\n",
       " 'feature_ecstatic_foundational_crinoidea',\n",
       " 'feature_unimproved_courtliest_uncongeniality',\n",
       " 'feature_cosy_microtonal_cedar',\n",
       " 'feature_heedful_argyle_russianization',\n",
       " 'feature_unhonoured_detested_xenocryst',\n",
       " 'feature_sicker_spelaean_endplay',\n",
       " 'feature_coordinated_astir_vituperation',\n",
       " 'feature_stratocratic_aerodynamic_herero',\n",
       " 'feature_uneasy_unaccommodating_immortality',\n",
       " 'feature_professional_platonic_marten',\n",
       " 'feature_detrital_respected_parlance',\n",
       " 'feature_contraceptive_cartelist_beast',\n",
       " 'feature_tapestried_madding_acclimatiser',\n",
       " 'feature_optic_mycelial_whimper',\n",
       " 'feature_liftable_direful_polyploid',\n",
       " 'feature_objective_micro_langton',\n",
       " 'feature_entopic_interpreted_subsidiary',\n",
       " 'feature_saclike_hyphal_postulator',\n",
       " 'feature_recent_shorty_preferment',\n",
       " 'feature_strip_honoured_trail',\n",
       " 'feature_unsheltered_doughtiest_episiotomy',\n",
       " 'feature_acclimatisable_unfeigned_maghreb',\n",
       " 'feature_galactopoietic_luckiest_protecting',\n",
       " 'feature_scarcest_vaporized_max',\n",
       " 'feature_spicier_unstripped_initial',\n",
       " 'feature_hooly_chekhovian_phytogeographer',\n",
       " 'feature_smouldering_underground_wingspan',\n",
       " 'feature_phantasmal_extenuative_britain',\n",
       " 'feature_sciurine_stibial_lintwhite',\n",
       " 'feature_eucharistic_widowed_misfeasance',\n",
       " 'feature_libratory_seizable_orlando',\n",
       " 'feature_brackish_obstructed_almighty',\n",
       " 'feature_translucid_neuroanatomical_sego',\n",
       " 'feature_unheeded_stylar_planarian',\n",
       " 'feature_preceptive_rushed_swedenborgian',\n",
       " 'feature_sumerian_descendible_kalpa',\n",
       " 'feature_jazziest_spellbinding_philabeg',\n",
       " 'feature_dormie_sodden_steed',\n",
       " 'feature_directoire_propositional_clydebank',\n",
       " 'feature_triangled_rubber_skein',\n",
       " 'feature_vendean_thwartwise_resistant',\n",
       " 'feature_preoral_tonsorial_souk',\n",
       " 'feature_virescent_telugu_neighbour',\n",
       " 'feature_prefigurative_downstream_transvaluation',\n",
       " 'feature_undepreciated_partitive_ipomoea',\n",
       " 'feature_coactive_bandoleered_trogon',\n",
       " 'feature_southerly_assonant_amicability',\n",
       " 'feature_cortical_halt_catcher',\n",
       " 'feature_queenliest_childing_ritual',\n",
       " 'feature_antarthritic_syzygial_wonderland',\n",
       " 'feature_revitalizing_rutilant_swastika',\n",
       " 'feature_holy_chic_cali',\n",
       " 'feature_hermitical_stark_serfhood',\n",
       " 'feature_deformable_productile_piglet',\n",
       " 'feature_lentissimo_ducky_quadroon',\n",
       " 'feature_happening_tristful_yodeling',\n",
       " 'feature_guardant_giocoso_natterjack',\n",
       " 'feature_bootleg_clement_joe',\n",
       " 'feature_thousandth_hierarchal_plight',\n",
       " 'feature_unhoped_hex_ventriloquism',\n",
       " 'feature_unappreciated_humiliated_misapprehension',\n",
       " 'feature_cragged_sacred_malabo',\n",
       " 'feature_idled_unwieldy_improvement',\n",
       " 'feature_censorial_leachier_rickshaw',\n",
       " 'feature_carbuncled_athanasian_ampul',\n",
       " 'feature_teased_pinpoint_grant',\n",
       " 'feature_periclean_proportionable_amaranth',\n",
       " 'feature_lithuanian_fabianism_pedagogy',\n",
       " 'feature_unamenable_prevalent_trilobite',\n",
       " 'feature_intermingled_reedier_rookery',\n",
       " 'feature_jangly_weedier_bhang',\n",
       " 'feature_bubbling_pedestrian_convection',\n",
       " 'feature_supportive_explanatory_powder',\n",
       " 'feature_ruttier_freakier_perversion',\n",
       " 'feature_duskier_wispiest_midwesterner',\n",
       " 'feature_martial_hallowed_incorruptibility',\n",
       " 'feature_exhaling_awkward_inhabitant',\n",
       " 'feature_cristate_desirable_chime',\n",
       " 'feature_pseudo_bounden_hereafter',\n",
       " 'feature_plentiful_numeral_pascal',\n",
       " 'feature_australasian_dissatisfactory_intermarriage',\n",
       " 'feature_adverbial_inexplicable_schul',\n",
       " 'feature_synodal_feisty_weave',\n",
       " 'feature_geomedical_imbued_clunk',\n",
       " 'feature_turbaned_excentric_rockery',\n",
       " 'feature_unadjusted_dissectible_warley',\n",
       " 'feature_demountable_unprejudiced_neighbourhood',\n",
       " 'feature_twisted_saronic_necrologist',\n",
       " 'feature_celebratory_assayable_carlisle',\n",
       " 'feature_cheerful_aphidian_orchestrion',\n",
       " 'feature_huggable_interim_doline',\n",
       " 'feature_tinkliest_unstuffy_manhunt',\n",
       " 'feature_transisthmian_inculcative_heldentenor',\n",
       " 'feature_rampant_barren_sapodilla',\n",
       " 'feature_parturient_liberian_gamal',\n",
       " 'feature_circulating_abolition_ethyne',\n",
       " 'feature_often_undermanned_nudist',\n",
       " 'feature_treacly_heuristic_binding',\n",
       " 'feature_stannic_peevish_idocrase',\n",
       " 'feature_biobibliographical_carnal_atomisation',\n",
       " 'feature_depletory_cannular_automatism',\n",
       " 'feature_collectable_distinguishing_dichroite',\n",
       " 'feature_garlicky_allopatric_sarcocarp',\n",
       " 'feature_whiskered_unobjectionable_quintet',\n",
       " 'feature_enteric_booked_flexography',\n",
       " 'feature_inlaid_defensible_gladiator',\n",
       " 'feature_natal_scalloped_edwardianism',\n",
       " 'feature_sphygmic_young_latium',\n",
       " 'feature_aymaran_indusial_elodea',\n",
       " 'feature_ideological_trinal_rebuttal',\n",
       " 'feature_figurative_uncertificated_indigent',\n",
       " 'feature_improbable_pouched_gaitskell',\n",
       " 'feature_unhazarded_droning_bellow',\n",
       " 'feature_monarchic_blah_cellarman',\n",
       " 'feature_infested_feathered_pen',\n",
       " 'feature_bulbed_viscose_toy',\n",
       " 'feature_walnut_sceptical_crystallization',\n",
       " 'feature_patristic_intelligential_crackajack',\n",
       " 'feature_quodlibetic_enrapt_miscalculation',\n",
       " 'feature_lucullian_unshunned_ulex',\n",
       " 'feature_ten_male_phoenician',\n",
       " 'feature_doctrinal_viewier_dentary',\n",
       " 'feature_careworn_motivational_requisite',\n",
       " 'feature_psycholinguistic_junoesque_central',\n",
       " 'feature_revolting_pharmacological_notability',\n",
       " 'feature_unheeding_tauromachian_ballup',\n",
       " 'feature_octopod_skirting_jurat',\n",
       " 'feature_precursory_catching_inertia',\n",
       " 'feature_monosyllabic_homey_omicron',\n",
       " 'feature_thrasonical_subaltern_inoculation',\n",
       " 'feature_unrealistic_inoperable_publishing',\n",
       " 'feature_exuberant_helicoidal_baldachin',\n",
       " 'feature_perceptive_unnavigable_elegancy',\n",
       " 'feature_recurrent_perversive_injury',\n",
       " 'feature_overrank_shavian_epitaxy',\n",
       " 'feature_petticoated_unobeyed_mugwort',\n",
       " 'feature_stimulant_proximal_moocher',\n",
       " 'feature_datival_crucial_chevrotain',\n",
       " 'feature_just_flavescent_draff',\n",
       " 'feature_cephalopod_arrased_jird',\n",
       " 'feature_endogamic_suasible_boasting',\n",
       " 'feature_rheumatic_bravest_pantisocracy',\n",
       " 'feature_store_comforted_goiter',\n",
       " 'feature_goofy_glassed_cetacea',\n",
       " 'feature_crushed_gleg_reintroduction',\n",
       " 'feature_scald_vanishing_enchainment',\n",
       " 'feature_blinded_memorable_wring',\n",
       " 'feature_clavate_geriatric_aldebaran',\n",
       " 'feature_palimpsest_inoffensive_coiffeuse',\n",
       " 'feature_adored_empyreal_revel',\n",
       " 'feature_schizomycetic_gooey_mynah',\n",
       " 'feature_pourable_multangular_requisition',\n",
       " 'feature_resuscitated_taloned_borak',\n",
       " \"feature_devoured_disunited_didn't\",\n",
       " 'feature_undefeated_unworkmanlike_probe',\n",
       " 'feature_archaean_unregarded_caravel',\n",
       " 'feature_concealed_artful_thaw',\n",
       " 'feature_bluff_carbonyl_verbena',\n",
       " 'feature_gymnorhinal_unreached_carthusian',\n",
       " 'feature_falsifiable_performative_maxixe',\n",
       " 'feature_vapourish_ichthyotic_causerie',\n",
       " 'feature_craggier_windier_apologia',\n",
       " 'feature_elaborate_intimate_bor',\n",
       " 'feature_meteorological_tushed_ester',\n",
       " 'feature_iffy_pretty_gumming',\n",
       " 'feature_numeral_cagey_haulm',\n",
       " 'feature_piping_geotactic_cusp',\n",
       " 'feature_rutilant_obliterate_potassium',\n",
       " 'feature_intromittent_evasive_swordcraft',\n",
       " 'feature_augmentable_scriabin_fortnight',\n",
       " 'feature_bellicose_lunatic_glorification',\n",
       " 'feature_undebauched_cobaltic_guerrilla',\n",
       " 'feature_exoergic_unschooled_lipid',\n",
       " 'feature_inhospitable_baked_elopement',\n",
       " 'feature_dysgenic_putrefied_nosegay',\n",
       " 'feature_terpsichorean_hatable_glut',\n",
       " 'feature_aeolic_downy_forefinger',\n",
       " 'feature_undrowned_ascending_pungency',\n",
       " 'feature_flagging_undenominational_gauffering',\n",
       " 'feature_sworn_satanic_sprechstimme',\n",
       " 'feature_atheist_pompeian_fogsignal',\n",
       " 'feature_commotional_unhealable_berserk',\n",
       " 'feature_grizzled_reformist_soberer',\n",
       " 'feature_twiggier_fogged_prosodist',\n",
       " 'feature_easterly_subtractive_faroese',\n",
       " 'feature_looted_eleven_corpora',\n",
       " 'feature_mensal_amusive_phosphorylase',\n",
       " 'feature_shellier_dowable_chyme',\n",
       " 'feature_daunting_nomenclatorial_facility',\n",
       " 'feature_bedfast_primordial_hyponym',\n",
       " 'feature_herpetologic_unjoyful_lodgepole',\n",
       " 'feature_unlearned_plicate_megabit',\n",
       " 'feature_cyclopedic_maestoso_daguerreotypist',\n",
       " 'feature_disjunct_hardened_picturing',\n",
       " 'feature_congolese_convenable_coolth',\n",
       " 'feature_epigraphic_leucocratic_rutherford',\n",
       " 'feature_hatched_myriad_biogen',\n",
       " 'feature_gnomonic_fixative_vocalise',\n",
       " 'feature_commo_flavored_epitomizer',\n",
       " 'feature_occurrent_suggestible_doubter',\n",
       " 'feature_intracardiac_circumfluent_pepper',\n",
       " 'feature_contaminable_exilic_girandole',\n",
       " 'feature_guardant_irrepealable_onanist',\n",
       " 'feature_lowered_toric_charmeuse',\n",
       " 'feature_altruistic_congenital_disinflation',\n",
       " 'feature_rowdyish_overcritical_digression',\n",
       " 'feature_peccant_zanier_undersigned',\n",
       " 'feature_promised_intramolecular_sora',\n",
       " 'feature_bespoke_combining_farrow',\n",
       " 'feature_entozoic_adolescent_asci',\n",
       " 'feature_titulary_merriest_intelligencer',\n",
       " 'feature_unhomely_monoclinic_acajou',\n",
       " 'feature_antistatic_cabbagy_bluecoat',\n",
       " 'feature_uncropped_tipsier_postulator',\n",
       " 'feature_diocesan_reinvigorated_ebullience',\n",
       " 'feature_axonometric_unkindly_sienna',\n",
       " 'feature_adynamic_ramstam_urtica',\n",
       " 'feature_ultra_unpolluted_adsorbent',\n",
       " 'feature_bespangled_prim_might',\n",
       " 'feature_comely_typal_softie',\n",
       " 'feature_adherent_judaic_gerry',\n",
       " 'feature_unspoilt_astronomical_lumper',\n",
       " 'feature_sovietism_interred_toile',\n",
       " 'feature_loftier_sightly_lyric',\n",
       " 'feature_dada_draughtiest_cinchonisation',\n",
       " ...]"
      ]
     },
     "execution_count": 66,
     "metadata": {},
     "output_type": "execute_result"
    },
    {
     "name": "stdout",
     "output_type": "stream",
     "text": [
      "\r"
     ]
    }
   ],
   "source": [
    "lgb_all.feature_name_"
   ]
  },
  {
   "cell_type": "code",
   "execution_count": 67,
   "metadata": {},
   "outputs": [
    {
     "name": "stderr",
     "output_type": "stream",
     "text": [
      "<ipython-input-67-5fc463007f8b>:3: UserWarning: Boolean Series key will be reindexed to match DataFrame index.\n",
      "  lgb1.fit(df1[eras.isin(np.arange(1, 304, 4))][features], df1[eras.isin(np.arange(1, 304, 4))][target])\n",
      "<ipython-input-67-5fc463007f8b>:6: UserWarning: Boolean Series key will be reindexed to match DataFrame index.\n",
      "  lgb2.fit(df1[eras.isin(np.arange(2, 304, 4))][features], df1[eras.isin(np.arange(2, 304, 4))][target])\n",
      "<ipython-input-67-5fc463007f8b>:9: UserWarning: Boolean Series key will be reindexed to match DataFrame index.\n",
      "  lgb3.fit(df1[eras.isin(np.arange(3, 304, 4))][features], df1[eras.isin(np.arange(3, 304, 4))][target])\n",
      "<ipython-input-67-5fc463007f8b>:12: UserWarning: Boolean Series key will be reindexed to match DataFrame index.\n",
      "  lgb4.fit(df1[eras.isin(np.arange(4, 304, 4))][features], df1[eras.isin(np.arange(4, 304, 4))][target])\n"
     ]
    },
    {
     "data": {
      "text/plain": [
       "LGBMRegressor()"
      ]
     },
     "execution_count": 67,
     "metadata": {},
     "output_type": "execute_result"
    },
    {
     "name": "stdout",
     "output_type": "stream",
     "text": [
      "\r"
     ]
    }
   ],
   "source": [
    "# train models on subsamples eras in df1\n",
    "lgb1 = lightgbm.LGBMRegressor()\n",
    "lgb1.fit(df1[eras.isin(np.arange(1, 304, 4))][features], df1[eras.isin(np.arange(1, 304, 4))][target])\n",
    "\n",
    "lgb2 = lightgbm.LGBMRegressor()\n",
    "lgb2.fit(df1[eras.isin(np.arange(2, 304, 4))][features], df1[eras.isin(np.arange(2, 304, 4))][target])\n",
    "\n",
    "lgb3 = lightgbm.LGBMRegressor()\n",
    "lgb3.fit(df1[eras.isin(np.arange(3, 304, 4))][features], df1[eras.isin(np.arange(3, 304, 4))][target])\n",
    "\n",
    "lgb4 = lightgbm.LGBMRegressor()\n",
    "lgb4.fit(df1[eras.isin(np.arange(4, 304, 4))][features], df1[eras.isin(np.arange(4, 304, 4))][target])"
   ]
  },
  {
   "cell_type": "code",
   "execution_count": 68,
   "metadata": {},
   "outputs": [
    {
     "name": "stdout",
     "output_type": "stream",
     "text": [
      "\r"
     ]
    }
   ],
   "source": [
    "# calculate predictions for each model\n",
    "preds = [\n",
    "        pd.Series(model.predict(df2[features]), index=df2.index)\n",
    "    for model in [lgb_all, lgb1, lgb2, lgb3, lgb4]\n",
    "]"
   ]
  },
  {
   "cell_type": "code",
   "execution_count": 69,
   "metadata": {},
   "outputs": [
    {
     "data": {
      "text/plain": [
       "0.04754437089655174"
      ]
     },
     "execution_count": 69,
     "metadata": {},
     "output_type": "execute_result"
    },
    {
     "name": "stdout",
     "output_type": "stream",
     "text": [
      "\r"
     ]
    }
   ],
   "source": [
    "# numerai score of model trained on all eras of df1\n",
    "numerai_score(df2[target], preds[0])"
   ]
  },
  {
   "cell_type": "code",
   "execution_count": 70,
   "metadata": {},
   "outputs": [
    {
     "data": {
      "text/plain": [
       "0.05004420837447432"
      ]
     },
     "execution_count": 70,
     "metadata": {},
     "output_type": "execute_result"
    },
    {
     "name": "stdout",
     "output_type": "stream",
     "text": [
      "\r"
     ]
    }
   ],
   "source": [
    "# numerai score of ensemble of models trained on all subsampled eras of df1\n",
    "numerai_score(df2[target], pd.concat(preds, axis=1)[[1,2,3,4]].mean(axis=1))"
   ]
  },
  {
   "attachments": {},
   "cell_type": "markdown",
   "metadata": {},
   "source": [
    "# Gotcha: eras are homogenous, but different from each other\n",
    "##  Random cross-validation will look much better than cross-validating by era\n",
    "\n",
    "Even for a simple linear model, taking a random shuffle reports a correlation of ~5.1%, but a time series split reports a lower score of ~2.6%"
   ]
  },
  {
   "attachments": {},
   "cell_type": "markdown",
   "metadata": {},
   "source": [
    "# Gotcha: Eras are now overlapping!\n",
    "##  Even era-wise cross-validation will now have leakage!\n",
    "Eras are weekly (5 days), but the target is four weeks out (20 days). You can either use blocks of eras and purge the overlapping sections or subsample the eras (every 4th era) to make them not overlapping and prevent leakage"
   ]
  },
  {
   "cell_type": "code",
   "execution_count": 71,
   "metadata": {},
   "outputs": [
    {
     "name": "stderr",
     "output_type": "stream",
     "text": [
      "<ipython-input-71-73ffccb7a00f>:3: UserWarning: Boolean Series key will be reindexed to match DataFrame index.\n",
      "  df1 = df[eras<=eras.median()]\n",
      "<ipython-input-71-73ffccb7a00f>:4: UserWarning: Boolean Series key will be reindexed to match DataFrame index.\n",
      "  df2 = df[eras>eras.median()]\n"
     ]
    },
    {
     "name": "stdout",
     "output_type": "stream",
     "text": [
      "\r"
     ]
    }
   ],
   "source": [
    "# Subsample data to every 4th era to prevent overlapping eras\n",
    "df = df[eras.isin(np.arange(1, 575, 4))]\n",
    "df1 = df[eras<=eras.median()]\n",
    "df2 = df[eras>eras.median()]"
   ]
  },
  {
   "cell_type": "code",
   "execution_count": 72,
   "metadata": {},
   "outputs": [
    {
     "name": "stdout",
     "output_type": "stream",
     "text": [
      "\r"
     ]
    }
   ],
   "source": [
    "eras = eras[eras.isin(np.arange(1, 575, 4))]"
   ]
  },
  {
   "cell_type": "code",
   "execution_count": 73,
   "metadata": {},
   "outputs": [
    {
     "name": "stdout",
     "output_type": "stream",
     "text": [
      "\r"
     ]
    }
   ],
   "source": [
    "# Because the TimeSeriesSplit class in sklearn does not use groups and won't respect era boundries, we implement\n",
    "# a version that will\n",
    "\n",
    "from sklearn.model_selection._split import _BaseKFold, indexable, _num_samples\n",
    "\n",
    "class TimeSeriesSplitGroups(_BaseKFold):\n",
    "    def __init__(self, n_splits=5):\n",
    "        super().__init__(n_splits, shuffle=False, random_state=None)\n",
    "\n",
    "    def split(self, X, y=None, groups=None):\n",
    "        X, y, groups = indexable(X, y, groups)\n",
    "        n_samples = _num_samples(X)\n",
    "        n_splits = self.n_splits\n",
    "        n_folds = n_splits + 1\n",
    "        group_list = np.unique(groups)\n",
    "        n_groups = len(group_list)\n",
    "        if n_folds > n_groups:\n",
    "            raise ValueError(\n",
    "                (\"Cannot have number of folds ={0} greater\"\n",
    "                 \" than the number of samples: {1}.\").format(n_folds,\n",
    "                                                             n_groups))\n",
    "        indices = np.arange(n_samples)\n",
    "        test_size = (n_groups // n_folds)\n",
    "        test_starts = range(test_size + n_groups % n_folds,\n",
    "                            n_groups, test_size)\n",
    "        test_starts = list(test_starts)[::-1]\n",
    "        for test_start in test_starts:\n",
    "            \n",
    "            yield (indices[groups.isin(group_list[:test_start])],\n",
    "                   indices[groups.isin(group_list[test_start:test_start + test_size])])\n"
   ]
  },
  {
   "cell_type": "code",
   "execution_count": 74,
   "metadata": {},
   "outputs": [
    {
     "name": "stdout",
     "output_type": "stream",
     "text": [
      "\r"
     ]
    }
   ],
   "source": [
    "crossvalidators = [\n",
    "    model_selection.KFold(5),\n",
    "    model_selection.KFold(5, shuffle=True),\n",
    "    model_selection.GroupKFold(5),\n",
    "    TimeSeriesSplitGroups(5)\n",
    "]"
   ]
  },
  {
   "cell_type": "code",
   "execution_count": 75,
   "metadata": {},
   "outputs": [
    {
     "name": "stdout",
     "output_type": "stream",
     "text": [
      "\r"
     ]
    }
   ],
   "source": [
    "def correlation_score(y_true, y_pred):\n",
    "    return np.corrcoef(y_true, y_pred)[0,1]"
   ]
  },
  {
   "cell_type": "code",
   "execution_count": 76,
   "metadata": {},
   "outputs": [
    {
     "name": "stdout",
     "output_type": "stream",
     "text": [
      "KFold(n_splits=5, random_state=None, shuffle=False)\n",
      "0.043051034520594625\n",
      "\n",
      "KFold(n_splits=5, random_state=None, shuffle=True)\n",
      "0.053213488214390016\n",
      "\n",
      "GroupKFold(n_splits=5)\n",
      "0.0431732239247547\n",
      "\n",
      "TimeSeriesSplitGroups(n_splits=5)\n",
      "0.02830277262900164\n",
      "\n",
      "\r"
     ]
    }
   ],
   "source": [
    "for cv in crossvalidators:\n",
    "    print(cv)\n",
    "    print(np.mean(\n",
    "            model_selection.cross_val_score(\n",
    "            linear_model.LinearRegression(),\n",
    "            df[features],\n",
    "            df[target],\n",
    "            cv=cv,\n",
    "            n_jobs=1,\n",
    "            groups=eras,\n",
    "            scoring=metrics.make_scorer(correlation_score, greater_is_better=True)\n",
    "        )))\n",
    "    print()"
   ]
  },
  {
   "attachments": {},
   "cell_type": "markdown",
   "metadata": {},
   "source": [
    "# Gotcha:  {0, 1} are noticeably different from {0.25, 0.75}\n",
    "This makes training a classifier one-versus-rest behave counterintuitively.\n",
    "\n",
    "Specifically, a multinomial classifier seem to learn how to pick out extreme targets, and their predictions are the most correlated"
   ]
  },
  {
   "cell_type": "code",
   "execution_count": 77,
   "metadata": {},
   "outputs": [
    {
     "data": {
      "text/plain": [
       "0.4997237888887051"
      ]
     },
     "execution_count": 77,
     "metadata": {},
     "output_type": "execute_result"
    },
    {
     "name": "stdout",
     "output_type": "stream",
     "text": [
      "\r"
     ]
    }
   ],
   "source": [
    "# Train a standard logistic regression as a classifier\n",
    "logistic = linear_model.LogisticRegression(multi_class='multinomial', solver='saga')\n",
    "logistic.fit(df1[features], (df1[target]*4).astype(int))\n",
    "logistic.score(df1[features], (df1[target]*4).astype(int))"
   ]
  },
  {
   "cell_type": "code",
   "execution_count": 78,
   "metadata": {},
   "outputs": [
    {
     "data": {
      "text/plain": [
       "array([[ 1.        ,  0.30231447, -0.82085036,  0.23839784,  0.74575541],\n",
       "       [ 0.30231447,  1.        , -0.56979841,  0.14798245,  0.19669416],\n",
       "       [-0.82085036, -0.56979841,  1.        , -0.59999079, -0.83168858],\n",
       "       [ 0.23839784,  0.14798245, -0.59999079,  1.        ,  0.35628795],\n",
       "       [ 0.74575541,  0.19669416, -0.83168858,  0.35628795,  1.        ]])"
      ]
     },
     "execution_count": 78,
     "metadata": {},
     "output_type": "execute_result"
    },
    {
     "data": {
      "image/png": "[encoded data removed]",
      "text/plain": [
       "<Figure size 432x288 with 1 Axes>"
      ]
     },
     "metadata": {
      "needs_background": "light"
     },
     "output_type": "display_data"
    },
    {
     "name": "stdout",
     "output_type": "stream",
     "text": [
      "\r"
     ]
    }
   ],
   "source": [
    "# The first and last class are highly correlated\n",
    "corrs=np.corrcoef(logistic.predict_proba(df2[features]).T)\n",
    "plt.imshow(corrs, vmin=-1, vmax=1, cmap=\"RdYlGn\")\n",
    "corrs"
   ]
  },
  {
   "cell_type": "code",
   "execution_count": 79,
   "metadata": {},
   "outputs": [
    {
     "data": {
      "text/plain": [
       "0.03342941514243905"
      ]
     },
     "execution_count": 79,
     "metadata": {},
     "output_type": "execute_result"
    },
    {
     "name": "stdout",
     "output_type": "stream",
     "text": [
      "\r"
     ]
    }
   ],
   "source": [
    "# Out-of-sample correlation is 3.5%\n",
    "preds = pd.Series(logistic.predict_proba(df2[features]).dot(logistic.classes_), index=df2.index)\n",
    "numerai_score(df2[target], preds)"
   ]
  },
  {
   "cell_type": "code",
   "execution_count": 80,
   "metadata": {},
   "outputs": [
    {
     "data": {
      "text/plain": [
       "0.03388223159438873"
      ]
     },
     "execution_count": 80,
     "metadata": {},
     "output_type": "execute_result"
    },
    {
     "name": "stdout",
     "output_type": "stream",
     "text": [
      "\r"
     ]
    }
   ],
   "source": [
    "# A standard linear model has a slightly lower correlation out-of-sample\n",
    "linear = linear_model.LinearRegression()\n",
    "linear.fit(df1[features], df1[target])\n",
    "linear.score(df2[features], df2[target])\n",
    "preds = pd.Series(linear.predict(df2[features]), index=df2.index)\n",
    "numerai_score(df2[target], preds)"
   ]
  },
  {
   "attachments": {},
   "cell_type": "markdown",
   "metadata": {},
   "source": [
    "## Eras can be more or less applicable to other eras\n",
    "You can test this be splitting the eras into blocks of 15, training on each block, and evaluating on each other block."
   ]
  },
  {
   "cell_type": "code",
   "execution_count": 81,
   "metadata": {},
   "outputs": [
    {
     "name": "stdout",
     "output_type": "stream",
     "text": [
      "\r"
     ]
    }
   ],
   "source": [
    "# convert the subsampled era labels to continuous integers\n",
    "eras_sub = (eras-1)//4"
   ]
  },
  {
   "cell_type": "code",
   "execution_count": 82,
   "metadata": {},
   "outputs": [
    {
     "data": {
      "text/plain": [
       "60     71302\n",
       "105    69495\n",
       "120    67799\n",
       "45     67629\n",
       "90     66498\n",
       "75     62093\n",
       "30     61595\n",
       "15     54362\n",
       "0      43007\n",
       "135    42396\n",
       "Name: erano, dtype: int64"
      ]
     },
     "execution_count": 82,
     "metadata": {},
     "output_type": "execute_result"
    },
    {
     "name": "stdout",
     "output_type": "stream",
     "text": [
      "\r"
     ]
    }
   ],
   "source": [
    "eras15 = (eras_sub // 15) * 15\n",
    "eras15.value_counts()"
   ]
  },
  {
   "cell_type": "code",
   "execution_count": 83,
   "metadata": {},
   "outputs": [
    {
     "name": "stdout",
     "output_type": "stream",
     "text": [
      "0\n",
      "15\n",
      "30\n",
      "45\n",
      "60\n",
      "75\n",
      "90\n",
      "105\n",
      "120\n",
      "135\n",
      "\r"
     ]
    }
   ],
   "source": [
    "results15 = []\n",
    "for train_era, tdf in df.groupby(eras15):\n",
    "    print(train_era)\n",
    "    model = linear_model.LinearRegression()\n",
    "    model.fit(tdf[features], tdf[target])\n",
    "    for test_era, tdf in df.groupby(eras15):\n",
    "        results15.append([\n",
    "            train_era,\n",
    "            test_era,\n",
    "            correlation_score(tdf[target], model.predict(tdf[features]))\n",
    "        ])"
   ]
  },
  {
   "cell_type": "code",
   "execution_count": 84,
   "metadata": {},
   "outputs": [
    {
     "data": {
      "text/html": [
       "<div>\n",
       "<style scoped>\n",
       "    .dataframe tbody tr th:only-of-type {\n",
       "        vertical-align: middle;\n",
       "    }\n",
       "\n",
       "    .dataframe tbody tr th {\n",
       "        vertical-align: top;\n",
       "    }\n",
       "\n",
       "    .dataframe thead th {\n",
       "        text-align: right;\n",
       "    }\n",
       "</style>\n",
       "<table border=\"1\" class=\"dataframe\">\n",
       "  <thead>\n",
       "    <tr style=\"text-align: right;\">\n",
       "      <th>test_era</th>\n",
       "      <th>0</th>\n",
       "      <th>15</th>\n",
       "      <th>30</th>\n",
       "      <th>45</th>\n",
       "      <th>60</th>\n",
       "      <th>75</th>\n",
       "      <th>90</th>\n",
       "      <th>105</th>\n",
       "      <th>120</th>\n",
       "      <th>135</th>\n",
       "    </tr>\n",
       "    <tr>\n",
       "      <th>train_era</th>\n",
       "      <th></th>\n",
       "      <th></th>\n",
       "      <th></th>\n",
       "      <th></th>\n",
       "      <th></th>\n",
       "      <th></th>\n",
       "      <th></th>\n",
       "      <th></th>\n",
       "      <th></th>\n",
       "      <th></th>\n",
       "    </tr>\n",
       "  </thead>\n",
       "  <tbody>\n",
       "    <tr>\n",
       "      <th>0</th>\n",
       "      <td>0.201005</td>\n",
       "      <td>0.002764</td>\n",
       "      <td>0.002194</td>\n",
       "      <td>-0.000582</td>\n",
       "      <td>0.002822</td>\n",
       "      <td>0.001914</td>\n",
       "      <td>0.002899</td>\n",
       "      <td>0.003945</td>\n",
       "      <td>-0.008350</td>\n",
       "      <td>-0.000860</td>\n",
       "    </tr>\n",
       "    <tr>\n",
       "      <th>15</th>\n",
       "      <td>0.044271</td>\n",
       "      <td>0.173445</td>\n",
       "      <td>0.030770</td>\n",
       "      <td>-0.004885</td>\n",
       "      <td>-0.002098</td>\n",
       "      <td>0.000718</td>\n",
       "      <td>-0.002952</td>\n",
       "      <td>-0.007466</td>\n",
       "      <td>-0.002334</td>\n",
       "      <td>0.002434</td>\n",
       "    </tr>\n",
       "    <tr>\n",
       "      <th>30</th>\n",
       "      <td>0.035998</td>\n",
       "      <td>0.033648</td>\n",
       "      <td>0.164322</td>\n",
       "      <td>0.001591</td>\n",
       "      <td>-0.004259</td>\n",
       "      <td>-0.007258</td>\n",
       "      <td>-0.001260</td>\n",
       "      <td>0.006638</td>\n",
       "      <td>0.006121</td>\n",
       "      <td>-0.001279</td>\n",
       "    </tr>\n",
       "    <tr>\n",
       "      <th>45</th>\n",
       "      <td>0.035116</td>\n",
       "      <td>0.032812</td>\n",
       "      <td>0.034598</td>\n",
       "      <td>0.158456</td>\n",
       "      <td>0.016940</td>\n",
       "      <td>0.026077</td>\n",
       "      <td>0.023469</td>\n",
       "      <td>0.011119</td>\n",
       "      <td>0.023130</td>\n",
       "      <td>0.021435</td>\n",
       "    </tr>\n",
       "    <tr>\n",
       "      <th>60</th>\n",
       "      <td>0.019893</td>\n",
       "      <td>0.017161</td>\n",
       "      <td>0.014331</td>\n",
       "      <td>0.017833</td>\n",
       "      <td>0.157544</td>\n",
       "      <td>0.018488</td>\n",
       "      <td>0.012532</td>\n",
       "      <td>0.017500</td>\n",
       "      <td>0.014019</td>\n",
       "      <td>0.003835</td>\n",
       "    </tr>\n",
       "    <tr>\n",
       "      <th>75</th>\n",
       "      <td>0.031152</td>\n",
       "      <td>0.026209</td>\n",
       "      <td>0.025698</td>\n",
       "      <td>0.019656</td>\n",
       "      <td>0.016988</td>\n",
       "      <td>0.173625</td>\n",
       "      <td>0.024868</td>\n",
       "      <td>0.015309</td>\n",
       "      <td>0.024914</td>\n",
       "      <td>0.011541</td>\n",
       "    </tr>\n",
       "    <tr>\n",
       "      <th>90</th>\n",
       "      <td>0.043645</td>\n",
       "      <td>0.028661</td>\n",
       "      <td>0.024327</td>\n",
       "      <td>0.023561</td>\n",
       "      <td>0.005410</td>\n",
       "      <td>0.027441</td>\n",
       "      <td>0.164304</td>\n",
       "      <td>0.028544</td>\n",
       "      <td>0.024550</td>\n",
       "      <td>0.017838</td>\n",
       "    </tr>\n",
       "    <tr>\n",
       "      <th>105</th>\n",
       "      <td>0.036637</td>\n",
       "      <td>0.026314</td>\n",
       "      <td>0.018259</td>\n",
       "      <td>0.008183</td>\n",
       "      <td>0.010747</td>\n",
       "      <td>0.012723</td>\n",
       "      <td>0.030185</td>\n",
       "      <td>0.153321</td>\n",
       "      <td>0.020505</td>\n",
       "      <td>0.009049</td>\n",
       "    </tr>\n",
       "    <tr>\n",
       "      <th>120</th>\n",
       "      <td>0.033544</td>\n",
       "      <td>0.030863</td>\n",
       "      <td>0.019560</td>\n",
       "      <td>0.026703</td>\n",
       "      <td>0.010307</td>\n",
       "      <td>0.030687</td>\n",
       "      <td>0.025627</td>\n",
       "      <td>0.027043</td>\n",
       "      <td>0.151762</td>\n",
       "      <td>0.022775</td>\n",
       "    </tr>\n",
       "    <tr>\n",
       "      <th>135</th>\n",
       "      <td>0.021913</td>\n",
       "      <td>0.014696</td>\n",
       "      <td>0.012057</td>\n",
       "      <td>0.018858</td>\n",
       "      <td>0.001777</td>\n",
       "      <td>0.012767</td>\n",
       "      <td>0.013768</td>\n",
       "      <td>0.009278</td>\n",
       "      <td>0.021799</td>\n",
       "      <td>0.190487</td>\n",
       "    </tr>\n",
       "  </tbody>\n",
       "</table>\n",
       "</div>"
      ],
      "text/plain": [
       "test_era        0         15        30        45        60        75   \\\n",
       "train_era                                                               \n",
       "0          0.201005  0.002764  0.002194 -0.000582  0.002822  0.001914   \n",
       "15         0.044271  0.173445  0.030770 -0.004885 -0.002098  0.000718   \n",
       "30         0.035998  0.033648  0.164322  0.001591 -0.004259 -0.007258   \n",
       "45         0.035116  0.032812  0.034598  0.158456  0.016940  0.026077   \n",
       "60         0.019893  0.017161  0.014331  0.017833  0.157544  0.018488   \n",
       "75         0.031152  0.026209  0.025698  0.019656  0.016988  0.173625   \n",
       "90         0.043645  0.028661  0.024327  0.023561  0.005410  0.027441   \n",
       "105        0.036637  0.026314  0.018259  0.008183  0.010747  0.012723   \n",
       "120        0.033544  0.030863  0.019560  0.026703  0.010307  0.030687   \n",
       "135        0.021913  0.014696  0.012057  0.018858  0.001777  0.012767   \n",
       "\n",
       "test_era        90        105       120       135  \n",
       "train_era                                          \n",
       "0          0.002899  0.003945 -0.008350 -0.000860  \n",
       "15        -0.002952 -0.007466 -0.002334  0.002434  \n",
       "30        -0.001260  0.006638  0.006121 -0.001279  \n",
       "45         0.023469  0.011119  0.023130  0.021435  \n",
       "60         0.012532  0.017500  0.014019  0.003835  \n",
       "75         0.024868  0.015309  0.024914  0.011541  \n",
       "90         0.164304  0.028544  0.024550  0.017838  \n",
       "105        0.030185  0.153321  0.020505  0.009049  \n",
       "120        0.025627  0.027043  0.151762  0.022775  \n",
       "135        0.013768  0.009278  0.021799  0.190487  "
      ]
     },
     "execution_count": 84,
     "metadata": {},
     "output_type": "execute_result"
    },
    {
     "name": "stdout",
     "output_type": "stream",
     "text": [
      "\r"
     ]
    }
   ],
   "source": [
    "results_df = pd.DataFrame(\n",
    "    results15,\n",
    "    columns=[\"train_era\", \"test_era\", \"score\"]\n",
    ").pivot(index=\"train_era\", columns=\"test_era\", values=\"score\")\n",
    "results_df"
   ]
  },
  {
   "cell_type": "code",
   "execution_count": 85,
   "metadata": {},
   "outputs": [
    {
     "data": {
      "text/plain": [
       "<matplotlib.image.AxesImage at 0x1740e76fe20>"
      ]
     },
     "execution_count": 85,
     "metadata": {},
     "output_type": "execute_result"
    },
    {
     "data": {
      "image/png": "[encoded data removed]",
      "text/plain": [
       "<Figure size 1080x1080 with 1 Axes>"
      ]
     },
     "metadata": {
      "needs_background": "light"
     },
     "output_type": "display_data"
    },
    {
     "name": "stdout",
     "output_type": "stream",
     "text": [
      "\r"
     ]
    }
   ],
   "source": [
    "# Each row here is the training block of eras, each column is a testing block of eras.\n",
    "# Note that there is a period in the early groups that does not seem to be relevant to other eras, and the\n",
    "# overall performance seems to decrease a bit over time.\n",
    "plt.figure(figsize=(15,15))\n",
    "plt.imshow(results_df, vmin=-0.04, vmax=0.04, cmap=\"RdYlGn\")"
   ]
  },
  {
   "attachments": {},
   "cell_type": "markdown",
   "metadata": {
    "pycharm": {
     "name": "#%% md\n"
    }
   },
   "source": [
    "Here is an advanced paper that talks about generalization.\n",
    "Eras can be thought about in the same way that \"distributions\" or \"environments\" are talked about here\n",
    "https://arxiv.org/pdf/1907.02893.pdf"
   ]
  },
  {
   "attachments": {},
   "cell_type": "markdown",
   "metadata": {},
   "source": [
    "## Gotcha: Since the signal-to-noise ratio is so low, models can take many more iterations than expected, and have scarily high in-sample performance"
   ]
  },
  {
   "cell_type": "code",
   "execution_count": 86,
   "metadata": {},
   "outputs": [
    {
     "name": "stdout",
     "output_type": "stream",
     "text": [
      "\r"
     ]
    }
   ],
   "source": [
    "def our_score(preds, dtrain):\n",
    "    return \"score\", -np.corrcoef(preds, dtrain.get_label())[0,1], False\n",
    "\n",
    "df1 = df[eras<=eras.median()]\n",
    "df2 = df[eras>eras.median()]"
   ]
  },
  {
   "cell_type": "code",
   "execution_count": 87,
   "metadata": {},
   "outputs": [
    {
     "name": "stdout",
     "output_type": "stream",
     "text": [
      "\r"
     ]
    }
   ],
   "source": [
    "dtrain = lightgbm.Dataset(df1[features], df1[target])\n",
    "dtest = lightgbm.Dataset(df2[features], df2[target])\n",
    "dall = lightgbm.Dataset(df[features], df[target])"
   ]
  },
  {
   "cell_type": "code",
   "execution_count": 88,
   "metadata": {
    "scrolled": false
   },
   "outputs": [
    {
     "name": "stdout",
     "output_type": "stream",
     "text": [
      "[LightGBM] [Warning] Auto-choosing row-wise multi-threading, the overhead of testing was 0.165444 seconds.\n",
      "You can set `force_row_wise=true` to remove the overhead.\n",
      "And if memory is not enough, you can set `force_col_wise=true`.\n",
      "[LightGBM] [Info] Total Bins 5955\n",
      "[LightGBM] [Info] Number of data points in the train set: 306441, number of used features: 1191\n",
      "[LightGBM] [Info] Start training from score 0.500002\n",
      "[20]\ttrain's l2: 0.0498404\ttrain's score: -0.0705298\ttest's l2: 0.0499147\ttest's score: -0.0432763\n",
      "[40]\ttrain's l2: 0.0497469\ttrain's score: -0.0857452\ttest's l2: 0.0498944\ttest's score: -0.0460672\n",
      "[60]\ttrain's l2: 0.0496696\ttrain's score: -0.0967963\ttest's l2: 0.049885\ttest's score: -0.0474742\n",
      "[80]\ttrain's l2: 0.0496023\ttrain's score: -0.105104\ttest's l2: 0.0498799\ttest's score: -0.04843\n",
      "[100]\ttrain's l2: 0.0495423\ttrain's score: -0.112957\ttest's l2: 0.0498792\ttest's score: -0.0487272\n",
      "[120]\ttrain's l2: 0.0494852\ttrain's score: -0.119411\ttest's l2: 0.0498773\ttest's score: -0.0494071\n",
      "[140]\ttrain's l2: 0.0494293\ttrain's score: -0.126061\ttest's l2: 0.0498799\ttest's score: -0.0493329\n",
      "[160]\ttrain's l2: 0.049379\ttrain's score: -0.131419\ttest's l2: 0.0498805\ttest's score: -0.0496771\n",
      "[180]\ttrain's l2: 0.0493279\ttrain's score: -0.137041\ttest's l2: 0.0498819\ttest's score: -0.0498874\n",
      "[200]\ttrain's l2: 0.0492786\ttrain's score: -0.142031\ttest's l2: 0.0498865\ttest's score: -0.0496792\n",
      "[220]\ttrain's l2: 0.0492333\ttrain's score: -0.146381\ttest's l2: 0.0498887\ttest's score: -0.0498318\n",
      "[240]\ttrain's l2: 0.0491874\ttrain's score: -0.150958\ttest's l2: 0.0498928\ttest's score: -0.0496967\n",
      "[260]\ttrain's l2: 0.0491447\ttrain's score: -0.154994\ttest's l2: 0.0498949\ttest's score: -0.0498942\n",
      "[280]\ttrain's l2: 0.0491036\ttrain's score: -0.158454\ttest's l2: 0.0498964\ttest's score: -0.050205\n",
      "[300]\ttrain's l2: 0.0490599\ttrain's score: -0.162638\ttest's l2: 0.0498992\ttest's score: -0.0502883\n",
      "[320]\ttrain's l2: 0.0490188\ttrain's score: -0.166305\ttest's l2: 0.0499066\ttest's score: -0.0497654\n",
      "[340]\ttrain's l2: 0.0489799\ttrain's score: -0.169851\ttest's l2: 0.0499086\ttest's score: -0.0499042\n",
      "[LightGBM] [Warning] No further splits with positive gain, best gain: -inf\n",
      "[360]\ttrain's l2: 0.048939\ttrain's score: -0.173344\ttest's l2: 0.0499133\ttest's score: -0.0498026\n",
      "[380]\ttrain's l2: 0.0488997\ttrain's score: -0.176715\ttest's l2: 0.0499178\ttest's score: -0.0496814\n",
      "[400]\ttrain's l2: 0.0488611\ttrain's score: -0.180243\ttest's l2: 0.0499223\ttest's score: -0.0494745\n",
      "[420]\ttrain's l2: 0.0488229\ttrain's score: -0.183243\ttest's l2: 0.0499256\ttest's score: -0.0495597\n",
      "[440]\ttrain's l2: 0.0487866\ttrain's score: -0.186135\ttest's l2: 0.0499275\ttest's score: -0.0497634\n",
      "[460]\ttrain's l2: 0.0487493\ttrain's score: -0.189103\ttest's l2: 0.0499298\ttest's score: -0.0499453\n",
      "[480]\ttrain's l2: 0.0487116\ttrain's score: -0.191827\ttest's l2: 0.0499307\ttest's score: -0.0503031\n",
      "[500]\ttrain's l2: 0.048675\ttrain's score: -0.194938\ttest's l2: 0.0499368\ttest's score: -0.0499583\n"
     ]
    },
    {
     "data": {
      "text/plain": [
       "<AxesSubplot:>"
      ]
     },
     "execution_count": 88,
     "metadata": {},
     "output_type": "execute_result"
    },
    {
     "data": {
      "image/png": "[encoded data removed]",
      "text/plain": [
       "<Figure size 432x288 with 1 Axes>"
      ]
     },
     "metadata": {
      "needs_background": "light"
     },
     "output_type": "display_data"
    },
    {
     "name": "stdout",
     "output_type": "stream",
     "text": [
      "\r"
     ]
    }
   ],
   "source": [
    "param = {\n",
    "    'max_depth':3,\n",
    "    'eta':0.1,\n",
    "    'objective':'regression',\n",
    "    'metric':'mse',\n",
    "    'nthread': -1,\n",
    "}\n",
    "evals_result = {}\n",
    "bst = lightgbm.train(\n",
    "    params=param,\n",
    "    train_set=dtrain,\n",
    "    feval=our_score,\n",
    "    num_boost_round=500,\n",
    "    valid_sets=[dtrain, dtest],\n",
    "    valid_names=['train', 'test'],\n",
    "    evals_result=evals_result,\n",
    "    verbose_eval=20,\n",
    ")\n",
    "\n",
    "(-pd.DataFrame({k: v['score'] for k,v in evals_result.items()})).plot(ylim=[0,0.25])"
   ]
  },
  {
   "attachments": {},
   "cell_type": "markdown",
   "metadata": {},
   "source": [
    "# The results are sensitive to the choice of parameters, which should be picked through cross-validation"
   ]
  },
  {
   "cell_type": "code",
   "execution_count": 89,
   "metadata": {},
   "outputs": [
    {
     "name": "stdout",
     "output_type": "stream",
     "text": [
      "\r"
     ]
    }
   ],
   "source": [
    "df1 = df[eras<=eras.median()]\n",
    "df2 = df[eras>eras.median()]"
   ]
  },
  {
   "cell_type": "code",
   "execution_count": 90,
   "metadata": {},
   "outputs": [
    {
     "name": "stdout",
     "output_type": "stream",
     "text": [
      "\r"
     ]
    }
   ],
   "source": [
    "models = [\n",
    "    linear_model.LinearRegression(),\n",
    "] + [\n",
    "    linear_model.ElasticNet(alpha=alpha)\n",
    "    for alpha in [0.01, 0.005, 0.002, 0.001, 0.0005, 0.0002, 0.0001, 0.00005, 0.00002, 0.00001]\n",
    "] + [\n",
    "    lightgbm.LGBMRegressor(n_jobs=-1),\n",
    "    lightgbm.LGBMRegressor(n_jobs=-1, learning_rate=0.01, n_estimators=1000),\n",
    "    lightgbm.LGBMRegressor(n_jobs=-1, colsample_bytree=0.1, learning_rate=0.01, n_estimators=1000),\n",
    "    lightgbm.LGBMRegressor(n_jobs=-1, colsample_bytree=0.1, learning_rate=0.01, n_estimators=1000, max_depth=5),\n",
    "    lightgbm.LGBMRegressor(n_jobs=-1, colsample_bytree=0.1, learning_rate=0.001, n_estimators=10000, max_depth=5),\n",
    "]"
   ]
  },
  {
   "cell_type": "code",
   "execution_count": 91,
   "metadata": {
    "scrolled": false
   },
   "outputs": [
    {
     "name": "stdout",
     "output_type": "stream",
     "text": [
      " --  LinearRegression()\n",
      "outsample: 0.03367750447474235, insample: 0.09402339542708368\n",
      "\n",
      " --  ElasticNet(alpha=0.01)\n",
      "outsample: -0.0005272078536780539, insample: 0.0010714748211746435\n",
      "\n",
      " --  ElasticNet(alpha=0.005)\n",
      "outsample: -0.0005272078536780539, insample: 0.0010714748211746435\n",
      "\n",
      " --  ElasticNet(alpha=0.002)\n",
      "outsample: 0.032098604901949525, insample: 0.040379220178221285\n",
      "\n",
      " --  ElasticNet(alpha=0.001)\n",
      "outsample: 0.041284885702416715, insample: 0.056924844014858\n",
      "\n",
      " --  ElasticNet(alpha=0.0005)\n",
      "outsample: 0.042444732328359755, insample: 0.06629127174479907\n",
      "\n",
      " --  ElasticNet(alpha=0.0002)\n",
      "outsample: 0.0442041745202924, insample: 0.07463755180346122\n",
      "\n",
      " --  ElasticNet(alpha=0.0001)\n",
      "outsample: 0.04329204278664591, insample: 0.08110850148323803\n",
      "\n",
      " --  ElasticNet(alpha=5e-05)\n"
     ]
    },
    {
     "name": "stderr",
     "output_type": "stream",
     "text": [
      "C:\\Users\\alexa\\anaconda3\\lib\\site-packages\\sklearn\\linear_model\\_coordinate_descent.py:530: ConvergenceWarning: Objective did not converge. You might want to increase the number of iterations. Duality gap: 1.933646559715271, tolerance: 1.5322749614715576\n",
      "  model = cd_fast.enet_coordinate_descent(\n"
     ]
    },
    {
     "name": "stdout",
     "output_type": "stream",
     "text": [
      "outsample: 0.04065634510146776, insample: 0.08783594230216349\n",
      "\n",
      " --  ElasticNet(alpha=2e-05)\n"
     ]
    },
    {
     "name": "stderr",
     "output_type": "stream",
     "text": [
      "C:\\Users\\alexa\\anaconda3\\lib\\site-packages\\sklearn\\linear_model\\_coordinate_descent.py:530: ConvergenceWarning: Objective did not converge. You might want to increase the number of iterations. Duality gap: 158.9556884765625, tolerance: 1.5322749614715576\n",
      "  model = cd_fast.enet_coordinate_descent(\n"
     ]
    },
    {
     "name": "stdout",
     "output_type": "stream",
     "text": [
      "outsample: 0.03716145458407298, insample: 0.09243820266795078\n",
      "\n",
      " --  ElasticNet(alpha=1e-05)\n"
     ]
    },
    {
     "name": "stderr",
     "output_type": "stream",
     "text": [
      "C:\\Users\\alexa\\anaconda3\\lib\\site-packages\\sklearn\\linear_model\\_coordinate_descent.py:530: ConvergenceWarning: Objective did not converge. You might want to increase the number of iterations. Duality gap: 527.0285034179688, tolerance: 1.5322749614715576\n",
      "  model = cd_fast.enet_coordinate_descent(\n"
     ]
    },
    {
     "name": "stdout",
     "output_type": "stream",
     "text": [
      "outsample: 0.035643305867069666, insample: 0.0935615475341538\n",
      "\n",
      " --  LGBMRegressor()\n",
      "outsample: 0.042720826857846374, insample: 0.2458630260023973\n",
      "\n",
      " --  LGBMRegressor(learning_rate=0.01, n_estimators=1000)\n",
      "outsample: 0.046965150788966174, insample: 0.2849646676117908\n",
      "\n",
      " --  LGBMRegressor(colsample_bytree=0.1, learning_rate=0.01, n_estimators=1000)\n",
      "outsample: 0.05047522452208998, insample: 0.2528724183700595\n",
      "\n",
      " --  LGBMRegressor(colsample_bytree=0.1, learning_rate=0.01, max_depth=5,\n",
      "              n_estimators=1000)\n",
      "outsample: 0.05217323624012492, insample: 0.20903096055051976\n",
      "\n",
      " --  LGBMRegressor(colsample_bytree=0.1, learning_rate=0.001, max_depth=5,\n",
      "              n_estimators=10000)\n",
      "outsample: 0.05290511638289955, insample: 0.2111367205185391\n",
      "\n",
      "\r"
     ]
    }
   ],
   "source": [
    "for model in models:\n",
    "    print(\" -- \", model)   \n",
    "    model.fit(df1[features], df1[target])\n",
    "    outsample = numerai_score(df2[target], pd.Series(model.predict(df2[features]), index=df2.index))\n",
    "    insample = numerai_score(df1[target], pd.Series(model.predict(df1[features]), index=df1.index))\n",
    "    print(\n",
    "        f\"outsample: {outsample}, insample: {insample}\"\n",
    "    )\n",
    "    print()"
   ]
  },
  {
   "attachments": {},
   "cell_type": "markdown",
   "metadata": {},
   "source": [
    "## Gotcha: Models with large exposures to individual features tend to perform poorly or inconsistently out of sample ## \n"
   ]
  },
  {
   "cell_type": "code",
   "execution_count": 92,
   "metadata": {},
   "outputs": [
    {
     "name": "stdout",
     "output_type": "stream",
     "text": [
      "\r"
     ]
    }
   ],
   "source": [
    "import numpy as np\n",
    "import scipy"
   ]
  },
  {
   "cell_type": "code",
   "execution_count": 93,
   "metadata": {},
   "outputs": [
    {
     "name": "stdout",
     "output_type": "stream",
     "text": [
      "\r"
     ]
    }
   ],
   "source": [
    "# Train a standard xgboost on half the train eras\n",
    "lgb = lightgbm.LGBMRegressor(n_estimators=1000, max_depth=5, learning_rate=0.01, n_jobs=-1)\n",
    "lgb.fit(df1[features], df1[target])\n",
    "lgb_preds = lgb.predict(df2[features])"
   ]
  },
  {
   "attachments": {},
   "cell_type": "markdown",
   "metadata": {},
   "source": [
    "### Our predictions have correlation < -0.4 and > 0.20 for some single features!\n",
    "Sure hope those features continue to act as they have in the past!"
   ]
  },
  {
   "cell_type": "code",
   "execution_count": 94,
   "metadata": {},
   "outputs": [
    {
     "data": {
      "text/plain": [
       "count    1191.000000\n",
       "mean       -0.001187\n",
       "std         0.085577\n",
       "min        -0.415303\n",
       "25%        -0.059811\n",
       "50%         0.002233\n",
       "75%         0.059406\n",
       "max         0.225358\n",
       "dtype: float64"
      ]
     },
     "execution_count": 94,
     "metadata": {},
     "output_type": "execute_result"
    },
    {
     "name": "stdout",
     "output_type": "stream",
     "text": [
      "\r"
     ]
    }
   ],
   "source": [
    "corr_list = []\n",
    "for feature in features:\n",
    "    corr_list.append(np.corrcoef(df2[feature], lgb_preds)[0,1])\n",
    "corr_series = pd.Series(corr_list, index=features)\n",
    "corr_series.describe()"
   ]
  },
  {
   "cell_type": "code",
   "execution_count": 95,
   "metadata": {},
   "outputs": [
    {
     "name": "stdout",
     "output_type": "stream",
     "text": [
      "\r"
     ]
    }
   ],
   "source": [
    "from sklearn.preprocessing import MinMaxScaler\n",
    "import scipy\n",
    "\n",
    "def neutralize(df,\n",
    "               columns,\n",
    "               neutralizers=None,\n",
    "               proportion=1.0,\n",
    "               normalize=True,\n",
    "               era_col=\"era\"):\n",
    "    if neutralizers is None:\n",
    "        neutralizers = []\n",
    "    unique_eras = df[era_col].unique()\n",
    "    computed = []\n",
    "    for u in unique_eras:\n",
    "        print(u, end=\"\\r\")\n",
    "        df_era = df[df[era_col] == u]\n",
    "        scores = df_era[columns].values\n",
    "        if normalize:\n",
    "            scores2 = []\n",
    "            for x in scores.T:\n",
    "                x = (scipy.stats.rankdata(x, method='ordinal') - .5) / len(x)\n",
    "                x = scipy.stats.norm.ppf(x)\n",
    "                scores2.append(x)\n",
    "            scores = np.array(scores2).T\n",
    "        exposures = df_era[neutralizers].values\n",
    "\n",
    "        scores -= proportion * exposures.dot(\n",
    "            np.linalg.pinv(exposures.astype(np.float32)).dot(scores.astype(np.float32)))\n",
    "\n",
    "        scores /= scores.std(ddof=0)\n",
    "\n",
    "        computed.append(scores)\n",
    "\n",
    "    return pd.DataFrame(np.concatenate(computed),\n",
    "                        columns=columns,\n",
    "                        index=df.index)"
   ]
  },
  {
   "cell_type": "code",
   "execution_count": 96,
   "metadata": {},
   "outputs": [
    {
     "name": "stderr",
     "output_type": "stream",
     "text": [
      "<ipython-input-96-4aa87b479082>:1: SettingWithCopyWarning: \n",
      "A value is trying to be set on a copy of a slice from a DataFrame.\n",
      "Try using .loc[row_indexer,col_indexer] = value instead\n",
      "\n",
      "See the caveats in the documentation: https://pandas.pydata.org/pandas-docs/stable/user_guide/indexing.html#returning-a-view-versus-a-copy\n",
      "  df2[\"preds\"] = lgb_preds\n"
     ]
    },
    {
     "name": "stdout",
     "output_type": "stream",
     "text": [
      "0573\r"
     ]
    },
    {
     "name": "stderr",
     "output_type": "stream",
     "text": [
      "<ipython-input-96-4aa87b479082>:2: SettingWithCopyWarning: \n",
      "A value is trying to be set on a copy of a slice from a DataFrame.\n",
      "Try using .loc[row_indexer,col_indexer] = value instead\n",
      "\n",
      "See the caveats in the documentation: https://pandas.pydata.org/pandas-docs/stable/user_guide/indexing.html#returning-a-view-versus-a-copy\n",
      "  df2[\"preds_neutralized\"] = neutralize(df2,\n",
      "<ipython-input-96-4aa87b479082>:10: SettingWithCopyWarning: \n",
      "A value is trying to be set on a copy of a slice from a DataFrame.\n",
      "Try using .loc[row_indexer,col_indexer] = value instead\n",
      "\n",
      "See the caveats in the documentation: https://pandas.pydata.org/pandas-docs/stable/user_guide/indexing.html#returning-a-view-versus-a-copy\n",
      "  df2[\"preds_neutralized\"] = scaler.fit_transform(df2[[\"preds_neutralized\"]]) # transform back to 0-1\n"
     ]
    },
    {
     "name": "stdout",
     "output_type": "stream",
     "text": [
      "\r"
     ]
    }
   ],
   "source": [
    "df2[\"preds\"] = lgb_preds\n",
    "df2[\"preds_neutralized\"] = neutralize(df2, \n",
    "                                      columns=[\"preds\"], \n",
    "                                      neutralizers=features, \n",
    "                                      proportion=0.5, # neutralize by 50% within each era\n",
    "                                      normalize=True,\n",
    "                                      era_col='era') \n",
    "\n",
    "scaler = MinMaxScaler()\n",
    "df2[\"preds_neutralized\"] = scaler.fit_transform(df2[[\"preds_neutralized\"]]) # transform back to 0-1"
   ]
  },
  {
   "attachments": {},
   "cell_type": "markdown",
   "metadata": {},
   "source": [
    "### Now our single feature exposures are much smaller"
   ]
  },
  {
   "cell_type": "code",
   "execution_count": 97,
   "metadata": {},
   "outputs": [
    {
     "name": "stdout",
     "output_type": "stream",
     "text": [
      "\r"
     ]
    }
   ],
   "source": [
    "corr_list2 = []\n",
    "for feature in features:\n",
    "    corr_list2.append(np.corrcoef(df2[feature], df2[\"preds_neutralized\"])[0,1])\n",
    "corr_series2 = pd.Series(corr_list2, index=features)"
   ]
  },
  {
   "cell_type": "code",
   "execution_count": 98,
   "metadata": {},
   "outputs": [
    {
     "data": {
      "text/plain": [
       "count    1191.000000\n",
       "mean       -0.000598\n",
       "std         0.063819\n",
       "min        -0.306429\n",
       "25%        -0.044350\n",
       "50%         0.002995\n",
       "75%         0.043859\n",
       "max         0.170538\n",
       "dtype: float64"
      ]
     },
     "execution_count": 98,
     "metadata": {},
     "output_type": "execute_result"
    },
    {
     "name": "stdout",
     "output_type": "stream",
     "text": [
      "\r"
     ]
    }
   ],
   "source": [
    "corr_series2.describe()"
   ]
  },
  {
   "attachments": {},
   "cell_type": "markdown",
   "metadata": {},
   "source": [
    "### Our overall score goes down, but the scores are more consistent than before. This leads to a higher sharpe"
   ]
  },
  {
   "cell_type": "code",
   "execution_count": 99,
   "metadata": {},
   "outputs": [
    {
     "name": "stdout",
     "output_type": "stream",
     "text": [
      "score for high feature exposure: 0.053302201866559894\n",
      "score for balanced feature expo: 0.04761935904746826\n",
      "std for high feature exposure: 0.024266557776271847\n",
      "std for balanced feature expo: 0.021660308401340596\n",
      "sharpe for high feature exposure: 2.196529164044827\n",
      "sharpe for balanced feature expo: 2.198461728482177\n",
      "\r"
     ]
    }
   ],
   "source": [
    "unbalanced_scores_per_era = df2.groupby(\"era\").apply(lambda d: np.corrcoef(d[\"preds\"], d[target])[0,1])\n",
    "balanced_scores_per_era = df2.groupby(\"era\").apply(lambda d: np.corrcoef(d[\"preds_neutralized\"], d[target])[0,1])\n",
    "\n",
    "print(f\"score for high feature exposure: {unbalanced_scores_per_era.mean()}\")\n",
    "print(f\"score for balanced feature expo: {balanced_scores_per_era.mean()}\")\n",
    "\n",
    "print(f\"std for high feature exposure: {unbalanced_scores_per_era.std(ddof=0)}\")\n",
    "print(f\"std for balanced feature expo: {balanced_scores_per_era.std(ddof=0)}\")\n",
    "\n",
    "print(f\"sharpe for high feature exposure: {unbalanced_scores_per_era.mean()/unbalanced_scores_per_era.std(ddof=0)}\")\n",
    "print(f\"sharpe for balanced feature expo: {balanced_scores_per_era.mean()/balanced_scores_per_era.std(ddof=0)}\")"
   ]
  },
  {
   "cell_type": "code",
   "execution_count": 100,
   "metadata": {},
   "outputs": [
    {
     "data": {
      "text/plain": [
       "count    67.000000\n",
       "mean      0.047619\n",
       "std       0.021824\n",
       "min      -0.000897\n",
       "25%       0.036598\n",
       "50%       0.046031\n",
       "75%       0.060867\n",
       "max       0.110289\n",
       "dtype: float64"
      ]
     },
     "execution_count": 100,
     "metadata": {},
     "output_type": "execute_result"
    },
    {
     "name": "stdout",
     "output_type": "stream",
     "text": [
      "\r"
     ]
    }
   ],
   "source": [
    "balanced_scores_per_era.describe()"
   ]
  },
  {
   "cell_type": "code",
   "execution_count": 101,
   "metadata": {},
   "outputs": [
    {
     "data": {
      "text/plain": [
       "count    67.000000\n",
       "mean      0.053302\n",
       "std       0.024450\n",
       "min      -0.008029\n",
       "25%       0.039055\n",
       "50%       0.054649\n",
       "75%       0.066387\n",
       "max       0.127016\n",
       "dtype: float64"
      ]
     },
     "execution_count": 101,
     "metadata": {},
     "output_type": "execute_result"
    },
    {
     "name": "stdout",
     "output_type": "stream",
     "text": [
      "\r"
     ]
    }
   ],
   "source": [
    "unbalanced_scores_per_era.describe()"
   ]
  },
  {
   "attachments": {},
   "cell_type": "markdown",
   "metadata": {},
   "source": [
    "## We can also try to be more clever about what features we neutralize\n",
    "### The \"riskiest\" features are the features the predictions are most exposed to that also have the highest volatility "
   ]
  },
  {
   "cell_type": "code",
   "execution_count": 102,
   "metadata": {},
   "outputs": [
    {
     "name": "stdout",
     "output_type": "stream",
     "text": [
      "\r"
     ]
    }
   ],
   "source": [
    "# compute feature correlations with target on the first half data\n",
    "all_feature_corrs = df1.groupby('era').apply(lambda d: d[features].corrwith(d[target]))\n",
    "# compute the volatility of the feature correlations\n",
    "feature_corr_volatility = all_feature_corrs.std()"
   ]
  },
  {
   "cell_type": "code",
   "execution_count": 103,
   "metadata": {},
   "outputs": [
    {
     "name": "stdout",
     "output_type": "stream",
     "text": [
      "\r"
     ]
    }
   ],
   "source": [
    "# calculate the feature exposures of the predictions\n",
    "feature_exposure_list = []\n",
    "for feature in features:\n",
    "    feature_exposure_list.append(np.corrcoef(df2[feature], lgb_preds)[0,1])\n",
    "feature_exposure_list = pd.Series(feature_exposure_list, index=features)"
   ]
  },
  {
   "cell_type": "code",
   "execution_count": 104,
   "metadata": {},
   "outputs": [
    {
     "name": "stdout",
     "output_type": "stream",
     "text": [
      "\r"
     ]
    }
   ],
   "source": [
    "# get list of 100 riskiest features\n",
    "riskiest_features = (feature_exposure_list.abs()*feature_corr_volatility).sort_values()[-100:].index.tolist()"
   ]
  },
  {
   "cell_type": "code",
   "execution_count": 105,
   "metadata": {},
   "outputs": [
    {
     "name": "stdout",
     "output_type": "stream",
     "text": [
      "0573\r"
     ]
    },
    {
     "name": "stderr",
     "output_type": "stream",
     "text": [
      "<ipython-input-105-a2ec8b9e6f35>:2: SettingWithCopyWarning: \n",
      "A value is trying to be set on a copy of a slice from a DataFrame.\n",
      "Try using .loc[row_indexer,col_indexer] = value instead\n",
      "\n",
      "See the caveats in the documentation: https://pandas.pydata.org/pandas-docs/stable/user_guide/indexing.html#returning-a-view-versus-a-copy\n",
      "  df2[\"preds_neutralized_riskiest_100\"] = neutralize(df2,\n",
      "<ipython-input-105-a2ec8b9e6f35>:10: SettingWithCopyWarning: \n",
      "A value is trying to be set on a copy of a slice from a DataFrame.\n",
      "Try using .loc[row_indexer,col_indexer] = value instead\n",
      "\n",
      "See the caveats in the documentation: https://pandas.pydata.org/pandas-docs/stable/user_guide/indexing.html#returning-a-view-versus-a-copy\n",
      "  df2[\"preds_neutralized_riskiest_100\"] = scaler.fit_transform(df2[[\"preds_neutralized_riskiest_100\"]]) # transform back to 0-1\n"
     ]
    },
    {
     "name": "stdout",
     "output_type": "stream",
     "text": [
      "\r"
     ]
    }
   ],
   "source": [
    "# 50% neutralize to the riskiest features\n",
    "df2[\"preds_neutralized_riskiest_100\"] = neutralize(df2, \n",
    "                                                  columns=[\"preds\"], \n",
    "                                                  neutralizers=riskiest_features, \n",
    "                                                  proportion=0.5, # 50% neutralize only those 100 features\n",
    "                                                  normalize=True, \n",
    "                                                  era_col='era')\n",
    "\n",
    "scaler = MinMaxScaler()\n",
    "df2[\"preds_neutralized_riskiest_100\"] = scaler.fit_transform(df2[[\"preds_neutralized_riskiest_100\"]]) # transform back to 0-1"
   ]
  },
  {
   "attachments": {},
   "cell_type": "markdown",
   "metadata": {},
   "source": [
    "### The score goes down less and the sharpe goes up more than 50% neutralizing all the features"
   ]
  },
  {
   "cell_type": "code",
   "execution_count": 106,
   "metadata": {},
   "outputs": [
    {
     "name": "stdout",
     "output_type": "stream",
     "text": [
      "score for high feature exposure: 0.053302201866559894\n",
      "score for balanced feature expo: 0.048994273179504645\n",
      "std for high feature exposure: 0.024266557776271847\n",
      "std for balanced feature expo: 0.02088815498811286\n",
      "sharpe for high feature exposure: 2.196529164044827\n",
      "sharpe for balanced feature expo: 2.3455529321467865\n",
      "\r"
     ]
    }
   ],
   "source": [
    "unbalanced_scores_per_era = df2.groupby(\"era\").apply(lambda d: np.corrcoef(d[\"preds\"], d[target])[0,1])\n",
    "balanced_scores_per_era = df2.groupby(\"era\").apply(lambda d: np.corrcoef(d[\"preds_neutralized_riskiest_100\"], d[target])[0,1])\n",
    "\n",
    "print(f\"score for high feature exposure: {unbalanced_scores_per_era.mean()}\")\n",
    "print(f\"score for balanced feature expo: {balanced_scores_per_era.mean()}\")\n",
    "\n",
    "print(f\"std for high feature exposure: {unbalanced_scores_per_era.std(ddof=0)}\")\n",
    "print(f\"std for balanced feature expo: {balanced_scores_per_era.std(ddof=0)}\")\n",
    "\n",
    "print(f\"sharpe for high feature exposure: {unbalanced_scores_per_era.mean()/unbalanced_scores_per_era.std(ddof=0)}\")\n",
    "print(f\"sharpe for balanced feature expo: {balanced_scores_per_era.mean()/balanced_scores_per_era.std(ddof=0)}\")"
   ]
  },
  {
   "attachments": {},
   "cell_type": "markdown",
   "metadata": {},
   "source": [
    "### Interestingly, the maximal feature exposure magnitude is actually lower (~0.28 vs ~0.31) than when 50% neutralizing all features"
   ]
  },
  {
   "cell_type": "code",
   "execution_count": 107,
   "metadata": {},
   "outputs": [
    {
     "data": {
      "text/plain": [
       "count    1191.000000\n",
       "mean        0.006863\n",
       "std         0.060897\n",
       "min        -0.248102\n",
       "25%        -0.031736\n",
       "50%         0.009357\n",
       "75%         0.048210\n",
       "max         0.165298\n",
       "dtype: float64"
      ]
     },
     "execution_count": 107,
     "metadata": {},
     "output_type": "execute_result"
    },
    {
     "name": "stdout",
     "output_type": "stream",
     "text": [
      "\r"
     ]
    }
   ],
   "source": [
    "corr_list3 = []\n",
    "for feature in features:\n",
    "    corr_list3.append(np.corrcoef(df2[feature], df2[\"preds_neutralized_riskiest_100\"])[0,1])\n",
    "corr_series3 = pd.Series(corr_list3, index=features)\n",
    "corr_series3.describe()"
   ]
  },
  {
   "cell_type": "code",
   "execution_count": 108,
   "metadata": {},
   "outputs": [
    {
     "data": {
      "text/plain": [
       "count    1191.000000\n",
       "mean        0.006863\n",
       "std         0.060897\n",
       "min        -0.248102\n",
       "25%        -0.031736\n",
       "50%         0.009357\n",
       "75%         0.048210\n",
       "max         0.165298\n",
       "dtype: float64"
      ]
     },
     "execution_count": 108,
     "metadata": {},
     "output_type": "execute_result"
    },
    {
     "name": "stdout",
     "output_type": "stream",
     "text": [
      "\r"
     ]
    }
   ],
   "source": [
    "corr_series3.describe()"
   ]
  },
  {
   "attachments": {},
   "cell_type": "markdown",
   "metadata": {},
   "source": [
    "# Training on the alternative targets can result in models with different patterns of feature exposures\n",
    "## This is a great way to go after MMC and very useful for ensembling"
   ]
  },
  {
   "cell_type": "code",
   "execution_count": 109,
   "metadata": {},
   "outputs": [
    {
     "data": {
      "text/plain": [
       "LGBMRegressor(learning_rate=0.01, max_depth=5, n_estimators=1000)"
      ]
     },
     "execution_count": 109,
     "metadata": {},
     "output_type": "execute_result"
    },
    {
     "name": "stdout",
     "output_type": "stream",
     "text": [
      "\r"
     ]
    }
   ],
   "source": [
    "lgb = lightgbm.LGBMRegressor(n_jobs=-1, learning_rate=0.01, n_estimators=1000, max_depth=5)\n",
    "lgb.fit(df1[features], df1['target'])"
   ]
  },
  {
   "cell_type": "code",
   "execution_count": 110,
   "metadata": {},
   "outputs": [
    {
     "data": {
      "text/plain": [
       "LGBMRegressor(learning_rate=0.01, max_depth=5, n_estimators=1000)"
      ]
     },
     "execution_count": 110,
     "metadata": {},
     "output_type": "execute_result"
    },
    {
     "name": "stdout",
     "output_type": "stream",
     "text": [
      "\r"
     ]
    }
   ],
   "source": [
    "lgb_jerome = lightgbm.LGBMRegressor(n_jobs=-1, learning_rate=0.01, n_estimators=1000, max_depth=5)\n",
    "lgb_jerome.fit(df1[features], df1['target_jerome_v4_20'])"
   ]
  },
  {
   "cell_type": "code",
   "execution_count": 84,
   "metadata": {},
   "outputs": [
    {
     "name": "stdout",
     "output_type": "stream",
     "text": [
      "\r"
     ]
    }
   ],
   "source": [
    "# The feature importances for each model are about 60% correlated"
   ]
  },
  {
   "cell_type": "code",
   "execution_count": 111,
   "metadata": {},
   "outputs": [
    {
     "name": "stdout",
     "output_type": "stream",
     "text": [
      "0.5950846349519291\n"
     ]
    },
    {
     "data": {
      "image/png": "[encoded data removed]",
      "text/plain": [
       "<Figure size 1152x432 with 2 Axes>"
      ]
     },
     "metadata": {
      "needs_background": "light"
     },
     "output_type": "display_data"
    },
    {
     "name": "stdout",
     "output_type": "stream",
     "text": [
      "\r"
     ]
    }
   ],
   "source": [
    "plt.figure(figsize = (16,6))\n",
    "plt.subplot(1,2,1)\n",
    "plt.plot(lgb.feature_importances_, alpha=.5)\n",
    "plt.plot(lgb_jerome.feature_importances_, alpha=.5)\n",
    "plt.subplot(1,2,2)\n",
    "plt.scatter(lgb.feature_importances_, lgb_jerome.feature_importances_)\n",
    "\n",
    "print(np.corrcoef([lgb.feature_importances_, lgb_jerome.feature_importances_])[0,1])"
   ]
  },
  {
   "cell_type": "code",
   "execution_count": 112,
   "metadata": {},
   "outputs": [
    {
     "name": "stdout",
     "output_type": "stream",
     "text": [
      "\r"
     ]
    }
   ],
   "source": [
    "lgb_preds = lgb.predict(df2[features])\n",
    "lgb_jerome_preds = lgb_jerome.predict(df2[features])"
   ]
  },
  {
   "cell_type": "code",
   "execution_count": 113,
   "metadata": {},
   "outputs": [
    {
     "data": {
      "text/plain": [
       "0.6811530708761623"
      ]
     },
     "execution_count": 113,
     "metadata": {},
     "output_type": "execute_result"
    },
    {
     "name": "stdout",
     "output_type": "stream",
     "text": [
      "\r"
     ]
    }
   ],
   "source": [
    "# The predictions are about 68% correlated\n",
    "np.corrcoef([lgb_preds, lgb_jerome_preds])[0,1]"
   ]
  },
  {
   "cell_type": "code",
   "execution_count": 114,
   "metadata": {},
   "outputs": [
    {
     "name": "stderr",
     "output_type": "stream",
     "text": [
      "<ipython-input-114-abbdda99d361>:1: SettingWithCopyWarning: \n",
      "A value is trying to be set on a copy of a slice from a DataFrame.\n",
      "Try using .loc[row_indexer,col_indexer] = value instead\n",
      "\n",
      "See the caveats in the documentation: https://pandas.pydata.org/pandas-docs/stable/user_guide/indexing.html#returning-a-view-versus-a-copy\n",
      "  df2[\"preds\"] = lgb_preds\n",
      "<ipython-input-114-abbdda99d361>:2: SettingWithCopyWarning: \n",
      "A value is trying to be set on a copy of a slice from a DataFrame.\n",
      "Try using .loc[row_indexer,col_indexer] = value instead\n",
      "\n",
      "See the caveats in the documentation: https://pandas.pydata.org/pandas-docs/stable/user_guide/indexing.html#returning-a-view-versus-a-copy\n",
      "  df2[\"preds_jerome\"] = lgb_jerome_preds\n"
     ]
    },
    {
     "name": "stdout",
     "output_type": "stream",
     "text": [
      "\r"
     ]
    }
   ],
   "source": [
    "df2[\"preds\"] = lgb_preds\n",
    "df2[\"preds_jerome\"] = lgb_jerome_preds"
   ]
  },
  {
   "cell_type": "code",
   "execution_count": 115,
   "metadata": {},
   "outputs": [
    {
     "name": "stdout",
     "output_type": "stream",
     "text": [
      "0573\r"
     ]
    },
    {
     "name": "stderr",
     "output_type": "stream",
     "text": [
      "<ipython-input-115-867f2bde3bb9>:10: SettingWithCopyWarning: \n",
      "A value is trying to be set on a copy of a slice from a DataFrame.\n",
      "Try using .loc[row_indexer,col_indexer] = value instead\n",
      "\n",
      "See the caveats in the documentation: https://pandas.pydata.org/pandas-docs/stable/user_guide/indexing.html#returning-a-view-versus-a-copy\n",
      "  df2[f\"{preds}_neutralized_riskiest_100\"] = neutralize(df2,\n"
     ]
    },
    {
     "name": "stdout",
     "output_type": "stream",
     "text": [
      "0573"
     ]
    }
   ],
   "source": [
    "# 50% neutralize to riskest features for each model as above\n",
    "for preds in [\"preds\", \"preds_jerome\"]:\n",
    "    feature_exposure_list = []\n",
    "    for feature in features:\n",
    "        feature_exposure_list.append(np.corrcoef(df2[feature], df2[preds])[0,1])\n",
    "    feature_exposure_list = pd.Series(feature_exposure_list, index=features)\n",
    "\n",
    "    riskiest_features = (feature_exposure_list.abs()*feature_corr_volatility).sort_values()[-100:].index.tolist()\n",
    "    \n",
    "    df2[f\"{preds}_neutralized_riskiest_100\"] = neutralize(df2, \n",
    "                                                  columns=[f\"{preds}\"], \n",
    "                                                  neutralizers=riskiest_features, \n",
    "                                                  proportion=0.5, # 50% neutralize only those 100 features\n",
    "                                                  normalize=True, \n",
    "                                                  era_col='era')"
   ]
  },
  {
   "cell_type": "code",
   "execution_count": 116,
   "metadata": {},
   "outputs": [
    {
     "name": "stderr",
     "output_type": "stream",
     "text": [
      "<ipython-input-116-c7a741c556d2>:2: SettingWithCopyWarning: \n",
      "A value is trying to be set on a copy of a slice from a DataFrame.\n",
      "Try using .loc[row_indexer,col_indexer] = value instead\n",
      "\n",
      "See the caveats in the documentation: https://pandas.pydata.org/pandas-docs/stable/user_guide/indexing.html#returning-a-view-versus-a-copy\n",
      "  df2[\"preds_ens\"] = (df2[\"preds\"] + df2[\"preds_jerome\"])/2\n"
     ]
    },
    {
     "name": "stdout",
     "output_type": "stream",
     "text": [
      "\r"
     ]
    }
   ],
   "source": [
    "# create ensemble\n",
    "df2[\"preds_ens\"] = (df2[\"preds\"] + df2[\"preds_jerome\"])/2"
   ]
  },
  {
   "cell_type": "code",
   "execution_count": 117,
   "metadata": {},
   "outputs": [
    {
     "name": "stdout",
     "output_type": "stream",
     "text": [
      "score for target: 0.053302201866559894\n",
      "score for target_jerome: 0.04631473760685722\n",
      "\n",
      "sharpe for target: 2.196529164044827\n",
      "sharpe for target_jerome: 1.7773731363781036\n",
      "\n",
      "score for target after neutralization: 0.048994273179504645\n",
      "score for target_jerome after neutralization: 0.046103602161045906\n",
      "\n",
      "sharpe for target after neutralization: 2.3455529321467865\n",
      "sharpe for target_jerome after neutralization: 2.0660947986712968\n",
      "\n",
      "score for target + target_jerome ensemble: 0.0539668529140479\n",
      "sharpe for target + target_jerome ensemble: 2.0552035503075716\n",
      "\r"
     ]
    }
   ],
   "source": [
    "scores = df2.groupby(\"era\").apply(lambda d: np.corrcoef(d[\"preds\"], d[target])[0,1])\n",
    "scores_jerome = df2.groupby(\"era\").apply(lambda d: np.corrcoef(d[\"preds_jerome\"], d[target])[0,1])\n",
    "\n",
    "scores_derisked = df2.groupby(\"era\").apply(lambda d: np.corrcoef(d[\"preds_neutralized_riskiest_100\"], d[target])[0,1])\n",
    "scores_jerome_derisked = df2.groupby(\"era\").apply(lambda d: np.corrcoef(d[\"preds_jerome_neutralized_riskiest_100\"], d[target])[0,1])\n",
    "\n",
    "scores_ens = df2.groupby(\"era\").apply(lambda d: np.corrcoef(d[\"preds_ens\"], d[target])[0,1])\n",
    "\n",
    "print(f\"score for target: {scores.mean()}\")\n",
    "print(f\"score for target_jerome: {scores_jerome.mean()}\")\n",
    "print()\n",
    "print(f\"sharpe for target: {scores.mean()/scores.std(ddof=0)}\")\n",
    "print(f\"sharpe for target_jerome: {scores_jerome.mean()/scores_jerome.std(ddof=0)}\")\n",
    "print()\n",
    "print(f\"score for target after neutralization: {scores_derisked.mean()}\")\n",
    "print(f\"score for target_jerome after neutralization: {scores_jerome_derisked.mean()}\")\n",
    "print()\n",
    "print(f\"sharpe for target after neutralization: {scores_derisked.mean()/scores_derisked.std(ddof=0)}\")\n",
    "print(f\"sharpe for target_jerome after neutralization: {scores_jerome_derisked.mean()/scores_jerome_derisked.std(ddof=0)}\")\n",
    "print()\n",
    "print(f\"score for target + target_jerome ensemble: {scores_ens.mean()}\")\n",
    "print(f\"sharpe for target + target_jerome ensemble: {scores_ens.mean()/scores_ens.std(ddof=0)}\")\n"
   ]
  },
  {
   "attachments": {},
   "cell_type": "markdown",
   "metadata": {},
   "source": [
    "## We see here that the model trained on `target_jerome` actually predicts `target` slightly better than the model trained on `target` (albeit with a lower Sharpe) both before and after neutralization of the riskiest features"
   ]
  },
  {
   "cell_type": "code",
   "execution_count": 118,
   "metadata": {},
   "outputs": [
    {
     "data": {
      "text/html": [
       "<div>\n",
       "<style scoped>\n",
       "    .dataframe tbody tr th:only-of-type {\n",
       "        vertical-align: middle;\n",
       "    }\n",
       "\n",
       "    .dataframe tbody tr th {\n",
       "        vertical-align: top;\n",
       "    }\n",
       "\n",
       "    .dataframe thead th {\n",
       "        text-align: right;\n",
       "    }\n",
       "</style>\n",
       "<table border=\"1\" class=\"dataframe\">\n",
       "  <thead>\n",
       "    <tr style=\"text-align: right;\">\n",
       "      <th></th>\n",
       "      <th>preds_neutralized_riskiest_100</th>\n",
       "      <th>preds_jerome_neutralized_riskiest_100</th>\n",
       "    </tr>\n",
       "  </thead>\n",
       "  <tbody>\n",
       "    <tr>\n",
       "      <th>preds_neutralized_riskiest_100</th>\n",
       "      <td>1.000000</td>\n",
       "      <td>0.632838</td>\n",
       "    </tr>\n",
       "    <tr>\n",
       "      <th>preds_jerome_neutralized_riskiest_100</th>\n",
       "      <td>0.632838</td>\n",
       "      <td>1.000000</td>\n",
       "    </tr>\n",
       "  </tbody>\n",
       "</table>\n",
       "</div>"
      ],
      "text/plain": [
       "                                       preds_neutralized_riskiest_100  \\\n",
       "preds_neutralized_riskiest_100                               1.000000   \n",
       "preds_jerome_neutralized_riskiest_100                        0.632838   \n",
       "\n",
       "                                       preds_jerome_neutralized_riskiest_100  \n",
       "preds_neutralized_riskiest_100                                      0.632838  \n",
       "preds_jerome_neutralized_riskiest_100                               1.000000  "
      ]
     },
     "execution_count": 118,
     "metadata": {},
     "output_type": "execute_result"
    },
    {
     "name": "stdout",
     "output_type": "stream",
     "text": [
      "\r"
     ]
    }
   ],
   "source": [
    "# calculate correlation of neutralized predictions\n",
    "df2[[f\"preds_neutralized_riskiest_100\", f\"preds_jerome_neutralized_riskiest_100\"]].corr()"
   ]
  },
  {
   "attachments": {},
   "cell_type": "markdown",
   "metadata": {},
   "source": [
    "## Given that the neutralized version trained on `target_jerome` gets slightly better average score, but is only about 63% correlated with the neutralized version trained on `target`, it is an excellent candidate for MMC\n",
    "## However, ensembling the two neutralized predictions gives a model with the highest average score and a great Sharpe value"
   ]
  },
  {
   "cell_type": "code",
   "execution_count": null,
   "metadata": {},
   "outputs": [],
   "source": []
  },
  {
   "cell_type": "code",
   "execution_count": null,
   "metadata": {},
   "outputs": [],
   "source": []
  }
 ],
 "metadata": {
  "kernelspec": {
   "display_name": "Python 3 (ipykernel)",
   "language": "python",
   "name": "python3"
  },
  "language_info": {
   "codemirror_mode": {
    "name": "ipython",
    "version": 3
   },
   "file_extension": ".py",
   "mimetype": "text/x-python",
   "name": "python",
   "nbconvert_exporter": "python",
   "pygments_lexer": "ipython3",
   "version": "3.8.8"
  }
 },
 "nbformat": 4,
 "nbformat_minor": 2
}
